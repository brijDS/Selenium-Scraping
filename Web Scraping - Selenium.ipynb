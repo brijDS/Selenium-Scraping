{
 "cells": [
  {
   "cell_type": "code",
   "execution_count": 2,
   "id": "2123ad0a",
   "metadata": {},
   "outputs": [
    {
     "name": "stdout",
     "output_type": "stream",
     "text": [
      "Collecting selenium\n",
      "  Downloading selenium-4.1.0-py3-none-any.whl (958 kB)\n",
      "Collecting trio-websocket~=0.9\n",
      "  Downloading trio_websocket-0.9.2-py3-none-any.whl (16 kB)\n",
      "Collecting trio~=0.17\n",
      "  Downloading trio-0.19.0-py3-none-any.whl (356 kB)\n",
      "Requirement already satisfied: urllib3[secure]~=1.26 in c:\\users\\hp\\anaconda3\\lib\\site-packages (from selenium) (1.26.4)\n",
      "Requirement already satisfied: cffi>=1.14 in c:\\users\\hp\\anaconda3\\lib\\site-packages (from trio~=0.17->selenium) (1.14.5)\n",
      "Requirement already satisfied: async-generator>=1.9 in c:\\users\\hp\\anaconda3\\lib\\site-packages (from trio~=0.17->selenium) (1.10)\n",
      "Requirement already satisfied: sortedcontainers in c:\\users\\hp\\anaconda3\\lib\\site-packages (from trio~=0.17->selenium) (2.3.0)\n",
      "Requirement already satisfied: sniffio in c:\\users\\hp\\anaconda3\\lib\\site-packages (from trio~=0.17->selenium) (1.2.0)\n",
      "Requirement already satisfied: idna in c:\\users\\hp\\anaconda3\\lib\\site-packages (from trio~=0.17->selenium) (2.10)\n",
      "Requirement already satisfied: attrs>=19.2.0 in c:\\users\\hp\\anaconda3\\lib\\site-packages (from trio~=0.17->selenium) (20.3.0)\n",
      "Collecting outcome\n",
      "  Downloading outcome-1.1.0-py2.py3-none-any.whl (9.7 kB)\n",
      "Requirement already satisfied: pycparser in c:\\users\\hp\\anaconda3\\lib\\site-packages (from cffi>=1.14->trio~=0.17->selenium) (2.20)\n",
      "Collecting wsproto>=0.14\n",
      "  Downloading wsproto-1.0.0-py3-none-any.whl (24 kB)\n",
      "Requirement already satisfied: certifi in c:\\users\\hp\\anaconda3\\lib\\site-packages (from urllib3[secure]~=1.26->selenium) (2020.12.5)\n",
      "Requirement already satisfied: pyOpenSSL>=0.14 in c:\\users\\hp\\anaconda3\\lib\\site-packages (from urllib3[secure]~=1.26->selenium) (20.0.1)\n",
      "Requirement already satisfied: cryptography>=1.3.4 in c:\\users\\hp\\anaconda3\\lib\\site-packages (from urllib3[secure]~=1.26->selenium) (3.4.7)\n",
      "Requirement already satisfied: six>=1.5.2 in c:\\users\\hp\\anaconda3\\lib\\site-packages (from pyOpenSSL>=0.14->urllib3[secure]~=1.26->selenium) (1.15.0)\n",
      "Collecting h11<1,>=0.9.0\n",
      "  Downloading h11-0.13.0-py3-none-any.whl (58 kB)\n",
      "Installing collected packages: outcome, h11, wsproto, trio, trio-websocket, selenium\n",
      "Successfully installed h11-0.13.0 outcome-1.1.0 selenium-4.1.0 trio-0.19.0 trio-websocket-0.9.2 wsproto-1.0.0\n"
     ]
    }
   ],
   "source": [
    "# program to scrape data for “Data Analyst” Job position in “Bangalore” location\n",
    "#installing selenium library\n",
    "!pip install selenium"
   ]
  },
  {
   "cell_type": "code",
   "execution_count": 22,
   "id": "b501f9e4",
   "metadata": {},
   "outputs": [],
   "source": [
    "import selenium \n",
    "from selenium import webdriver\n",
    "import pandas as pd\n",
    "import warnings\n",
    "warnings.filterwarnings(\"ignore\")"
   ]
  },
  {
   "cell_type": "code",
   "execution_count": 23,
   "id": "38d8437d",
   "metadata": {},
   "outputs": [],
   "source": [
    "#controlling the edge browser\n",
    "driver = webdriver.Edge(executable_path = 'D:\\Brijesh\\Internship\\edgedriver_win64\\\\msedgedriver.exe')\n"
   ]
  },
  {
   "cell_type": "code",
   "execution_count": 24,
   "id": "f8a22ff2",
   "metadata": {},
   "outputs": [],
   "source": [
    "#accessing the website remotely\n",
    "url = 'https://www.naukri.com/'\n",
    "driver.get(url)"
   ]
  },
  {
   "cell_type": "code",
   "execution_count": 29,
   "id": "7be619e0",
   "metadata": {},
   "outputs": [
    {
     "data": {
      "text/plain": [
       "<selenium.webdriver.remote.webelement.WebElement (session=\"ef69483977a8afc61674ae3825b27002\", element=\"1c2c1d71-9dac-4ad2-a7f7-4af7d366ddfa\")>"
      ]
     },
     "execution_count": 29,
     "metadata": {},
     "output_type": "execute_result"
    }
   ],
   "source": [
    "#getting the element and calling the input search box by using class name\n",
    "search_job = driver.find_element_by_class_name(\"suggestor-input\")\n",
    "search_job"
   ]
  },
  {
   "cell_type": "code",
   "execution_count": 31,
   "id": "7cdb607d",
   "metadata": {},
   "outputs": [],
   "source": [
    "#inputing data using send keys\n",
    "search_job.send_keys('Data Analyst')"
   ]
  },
  {
   "cell_type": "code",
   "execution_count": 35,
   "id": "31856ad0",
   "metadata": {},
   "outputs": [],
   "source": [
    "#getting into location input box  \n",
    "search_location = driver.find_element_by_xpath(\"/html/body/div/div[2]/div[3]/div/div/div[3]/div/div/div/input\")"
   ]
  },
  {
   "cell_type": "code",
   "execution_count": 34,
   "id": "8720dd8b",
   "metadata": {},
   "outputs": [],
   "source": [
    "#puttinf data into location box\n",
    "search_location.send_keys('Bangalore')"
   ]
  },
  {
   "cell_type": "code",
   "execution_count": 38,
   "id": "7d74bdef",
   "metadata": {},
   "outputs": [
    {
     "data": {
      "text/plain": [
       "<selenium.webdriver.remote.webelement.WebElement (session=\"ef69483977a8afc61674ae3825b27002\", element=\"25fcaece-a9ba-4fd3-8e6e-aabf1c245cc7\")>"
      ]
     },
     "execution_count": 38,
     "metadata": {},
     "output_type": "execute_result"
    }
   ],
   "source": [
    "search_btn = driver.find_element_by_class_name(\"qsbSubmit\")\n",
    "search_btn"
   ]
  },
  {
   "cell_type": "code",
   "execution_count": 39,
   "id": "88daf19a",
   "metadata": {},
   "outputs": [],
   "source": [
    "search_btn.click()"
   ]
  },
  {
   "cell_type": "code",
   "execution_count": 54,
   "id": "2fcbdf30",
   "metadata": {},
   "outputs": [],
   "source": [
    "#Extracting data\n",
    "title_tags = driver.find_elements_by_xpath('//a[@class=\"title fw500 ellipsis\"]')\n"
   ]
  },
  {
   "cell_type": "code",
   "execution_count": 55,
   "id": "5a1b722e",
   "metadata": {},
   "outputs": [
    {
     "data": {
      "text/plain": [
       "20"
      ]
     },
     "execution_count": 55,
     "metadata": {},
     "output_type": "execute_result"
    }
   ],
   "source": [
    "len (title_tags)"
   ]
  },
  {
   "cell_type": "code",
   "execution_count": 110,
   "id": "b9c12d0b",
   "metadata": {},
   "outputs": [
    {
     "data": {
      "text/plain": [
       "['Senior Data Analyst - Collibra',\n",
       " 'Hiring -Data Analyst, Business Analyst, MIS Analyst -3rd Party Payroll',\n",
       " 'Global Tax Automation & Operations - Data Scientist Senior Analyst',\n",
       " 'Pipeline/Piping Data Analyst Trainee',\n",
       " 'Data Analyst',\n",
       " 'Data Analyst',\n",
       " 'Data Analyst',\n",
       " 'Data Analyst',\n",
       " 'Business Analyst (Data Analyst role)',\n",
       " 'Senior Executive - Data Analyst',\n",
       " 'Data Analyst',\n",
       " 'Data Analyst',\n",
       " 'Sr. Data Analyst',\n",
       " 'Senior Data Analyst',\n",
       " 'Senior Data Analyst',\n",
       " 'Senior Analyst, Data Quality Analytics',\n",
       " 'Senior Analyst, Data Engineering',\n",
       " 'Senior Data Analyst II',\n",
       " 'Senior Data Analyst',\n",
       " 'Data Analyst']"
      ]
     },
     "execution_count": 110,
     "metadata": {},
     "output_type": "execute_result"
    }
   ],
   "source": [
    "#Extracting job titles\n",
    "\n",
    "job_titles = []\n",
    "for i in title_tags:\n",
    "    job_titles.append(i.text)\n",
    "job_titles"
   ]
  },
  {
   "cell_type": "code",
   "execution_count": 111,
   "id": "78e1e40d",
   "metadata": {},
   "outputs": [
    {
     "data": {
      "text/plain": [
       "20"
      ]
     },
     "execution_count": 111,
     "metadata": {},
     "output_type": "execute_result"
    }
   ],
   "source": [
    "len(job_titles)"
   ]
  },
  {
   "cell_type": "code",
   "execution_count": 63,
   "id": "863d04af",
   "metadata": {},
   "outputs": [],
   "source": [
    "#Extracting locations\n",
    "\n",
    "job_locations = driver.find_elements_by_xpath('//li[@class=\"fleft grey-text br2 placeHolderLi location\"]')"
   ]
  },
  {
   "cell_type": "code",
   "execution_count": 71,
   "id": "f6d75471",
   "metadata": {},
   "outputs": [
    {
     "data": {
      "text/plain": [
       "20"
      ]
     },
     "execution_count": 71,
     "metadata": {},
     "output_type": "execute_result"
    }
   ],
   "source": [
    "len(job_locations)"
   ]
  },
  {
   "cell_type": "code",
   "execution_count": 72,
   "id": "4599abcb",
   "metadata": {},
   "outputs": [
    {
     "data": {
      "text/plain": [
       "['Bangalore/Bengaluru',\n",
       " 'Bangalore/Bengaluru',\n",
       " 'Bangalore/Bengaluru',\n",
       " 'Bangalore/Bengaluru',\n",
       " 'Bangalore/Bengaluru(HSR Layout +7)',\n",
       " 'Bangalore/Bengaluru',\n",
       " 'Bangalore/Bengaluru',\n",
       " 'Bangalore/Bengaluru',\n",
       " 'Mumbai, Hyderabad/Secunderabad, Pune, Chennai, Bangalore/Bengaluru',\n",
       " 'Bangalore/Bengaluru',\n",
       " 'Bangalore/Bengaluru',\n",
       " 'Bangalore/Bengaluru',\n",
       " 'Bangalore/Bengaluru',\n",
       " 'Bangalore/Bengaluru',\n",
       " 'Bangalore/Bengaluru',\n",
       " 'Bangalore/Bengaluru',\n",
       " 'Bangalore/Bengaluru',\n",
       " 'Bangalore/Bengaluru',\n",
       " 'Bangalore/Bengaluru',\n",
       " 'Bangalore/Bengaluru(Jayanagar +3)']"
      ]
     },
     "execution_count": 72,
     "metadata": {},
     "output_type": "execute_result"
    }
   ],
   "source": [
    "location = []\n",
    "for i in job_locations:\n",
    "    location.append(i.text)\n",
    "location"
   ]
  },
  {
   "cell_type": "code",
   "execution_count": 80,
   "id": "2ed01b02",
   "metadata": {},
   "outputs": [
    {
     "data": {
      "text/plain": [
       "[<selenium.webdriver.remote.webelement.WebElement (session=\"ef69483977a8afc61674ae3825b27002\", element=\"15b9c8d4-fb94-4691-ae13-5ae7f9c39867\")>,\n",
       " <selenium.webdriver.remote.webelement.WebElement (session=\"ef69483977a8afc61674ae3825b27002\", element=\"a47d29a0-cf0f-4df2-91b0-d2408a985149\")>,\n",
       " <selenium.webdriver.remote.webelement.WebElement (session=\"ef69483977a8afc61674ae3825b27002\", element=\"3fdbbaa4-7a97-4c6f-88cc-8100400a2d24\")>,\n",
       " <selenium.webdriver.remote.webelement.WebElement (session=\"ef69483977a8afc61674ae3825b27002\", element=\"308f0f17-e782-413c-9b1c-9c558b695766\")>,\n",
       " <selenium.webdriver.remote.webelement.WebElement (session=\"ef69483977a8afc61674ae3825b27002\", element=\"580d1040-2c1b-4d46-8ccf-f3d94ccf8edb\")>,\n",
       " <selenium.webdriver.remote.webelement.WebElement (session=\"ef69483977a8afc61674ae3825b27002\", element=\"ff6fc98f-e2a1-4499-9cd0-4c6f86c7d381\")>,\n",
       " <selenium.webdriver.remote.webelement.WebElement (session=\"ef69483977a8afc61674ae3825b27002\", element=\"1885a973-15bb-438a-8d60-8497f62719f2\")>,\n",
       " <selenium.webdriver.remote.webelement.WebElement (session=\"ef69483977a8afc61674ae3825b27002\", element=\"c707a0a2-3799-401c-820d-175e6e8abe3e\")>,\n",
       " <selenium.webdriver.remote.webelement.WebElement (session=\"ef69483977a8afc61674ae3825b27002\", element=\"d389536e-da5e-4c05-b473-fb517bd93144\")>,\n",
       " <selenium.webdriver.remote.webelement.WebElement (session=\"ef69483977a8afc61674ae3825b27002\", element=\"76b09426-b489-4397-81eb-12d151e551ea\")>,\n",
       " <selenium.webdriver.remote.webelement.WebElement (session=\"ef69483977a8afc61674ae3825b27002\", element=\"900bc84e-e2d2-4b8c-b202-4b9e938432e6\")>,\n",
       " <selenium.webdriver.remote.webelement.WebElement (session=\"ef69483977a8afc61674ae3825b27002\", element=\"aee977ce-c154-4061-beaa-c1e02161b8d3\")>,\n",
       " <selenium.webdriver.remote.webelement.WebElement (session=\"ef69483977a8afc61674ae3825b27002\", element=\"0c839a2d-19f4-48cf-8a31-f54ffb564b2a\")>,\n",
       " <selenium.webdriver.remote.webelement.WebElement (session=\"ef69483977a8afc61674ae3825b27002\", element=\"7c8b375e-bb3c-42b2-bc4d-53475a2276d5\")>,\n",
       " <selenium.webdriver.remote.webelement.WebElement (session=\"ef69483977a8afc61674ae3825b27002\", element=\"31f19b7a-ed83-44de-861a-bc907203bccf\")>,\n",
       " <selenium.webdriver.remote.webelement.WebElement (session=\"ef69483977a8afc61674ae3825b27002\", element=\"8f4de693-14d6-4c0b-9159-7b87f61fbd52\")>,\n",
       " <selenium.webdriver.remote.webelement.WebElement (session=\"ef69483977a8afc61674ae3825b27002\", element=\"ddc4c0fc-a11e-491f-b615-9242fc90b4c5\")>,\n",
       " <selenium.webdriver.remote.webelement.WebElement (session=\"ef69483977a8afc61674ae3825b27002\", element=\"8bfdd855-7059-4594-835e-37639bd9d19e\")>,\n",
       " <selenium.webdriver.remote.webelement.WebElement (session=\"ef69483977a8afc61674ae3825b27002\", element=\"c5cb056d-af1b-46bc-b1db-8ccf3e4b83fa\")>,\n",
       " <selenium.webdriver.remote.webelement.WebElement (session=\"ef69483977a8afc61674ae3825b27002\", element=\"1e0195bb-e288-4f10-9f86-f5333df53ac1\")>]"
      ]
     },
     "execution_count": 80,
     "metadata": {},
     "output_type": "execute_result"
    }
   ],
   "source": [
    "#Extracting company name\n",
    "\n",
    "company_name = driver.find_elements_by_xpath('//a[@class=\"subTitle ellipsis fleft\"]')\n",
    "company_name"
   ]
  },
  {
   "cell_type": "code",
   "execution_count": 81,
   "id": "de81b78e",
   "metadata": {},
   "outputs": [
    {
     "data": {
      "text/plain": [
       "['Shell',\n",
       " 'Flipkart',\n",
       " 'Dell',\n",
       " 'TIMS SOLUTIONS PRIVATE LIMITED',\n",
       " 'Insure Pro 2.0',\n",
       " 'BERKMEER INDIA PRIVATE LIMITED',\n",
       " 'Lifesight Technologies Pvt. Ltd.',\n",
       " 'GSK India',\n",
       " 'Xpheno',\n",
       " 'Vedantu',\n",
       " 'Flipkart',\n",
       " 'Flipkart',\n",
       " 'Born Commerce',\n",
       " 'Gsn Games India',\n",
       " 'Conviva',\n",
       " 'Dell',\n",
       " 'Dell',\n",
       " 'Flipkart',\n",
       " 'Flipkart',\n",
       " 'DocsApp']"
      ]
     },
     "execution_count": 81,
     "metadata": {},
     "output_type": "execute_result"
    }
   ],
   "source": [
    "company = []\n",
    "for i in company_name:\n",
    "    company.append(i.text)\n",
    "company"
   ]
  },
  {
   "cell_type": "code",
   "execution_count": 91,
   "id": "4b5c4965",
   "metadata": {},
   "outputs": [
    {
     "data": {
      "text/plain": [
       "[<selenium.webdriver.remote.webelement.WebElement (session=\"ef69483977a8afc61674ae3825b27002\", element=\"0ad31942-870d-4969-961d-d874967a64ec\")>,\n",
       " <selenium.webdriver.remote.webelement.WebElement (session=\"ef69483977a8afc61674ae3825b27002\", element=\"2da4f8ce-480e-47fe-ad3d-3a452b89d13f\")>,\n",
       " <selenium.webdriver.remote.webelement.WebElement (session=\"ef69483977a8afc61674ae3825b27002\", element=\"c6c2186a-3c58-4cd4-8d8a-dc4f508870a4\")>,\n",
       " <selenium.webdriver.remote.webelement.WebElement (session=\"ef69483977a8afc61674ae3825b27002\", element=\"421f4d8d-fa10-4e42-844b-a08f5c176348\")>,\n",
       " <selenium.webdriver.remote.webelement.WebElement (session=\"ef69483977a8afc61674ae3825b27002\", element=\"25a1f08a-cc20-4dd3-b63c-f4d6032191dd\")>,\n",
       " <selenium.webdriver.remote.webelement.WebElement (session=\"ef69483977a8afc61674ae3825b27002\", element=\"3375fcd9-f7a3-4e05-ab4d-bdc43cc5092f\")>,\n",
       " <selenium.webdriver.remote.webelement.WebElement (session=\"ef69483977a8afc61674ae3825b27002\", element=\"4ef1160b-e566-4908-8346-f363eccd4bd9\")>,\n",
       " <selenium.webdriver.remote.webelement.WebElement (session=\"ef69483977a8afc61674ae3825b27002\", element=\"85aec996-b456-4b10-a58a-a66107c91183\")>,\n",
       " <selenium.webdriver.remote.webelement.WebElement (session=\"ef69483977a8afc61674ae3825b27002\", element=\"b3480201-470b-4c92-ad1b-0cae3bf69900\")>,\n",
       " <selenium.webdriver.remote.webelement.WebElement (session=\"ef69483977a8afc61674ae3825b27002\", element=\"eace6c76-8ade-49a7-9600-ef10ff3d7700\")>,\n",
       " <selenium.webdriver.remote.webelement.WebElement (session=\"ef69483977a8afc61674ae3825b27002\", element=\"dc2abdf0-8b7f-48e3-af54-55d56be3995f\")>,\n",
       " <selenium.webdriver.remote.webelement.WebElement (session=\"ef69483977a8afc61674ae3825b27002\", element=\"49cb0e84-5135-4051-bf8f-0c5158b6c6fd\")>,\n",
       " <selenium.webdriver.remote.webelement.WebElement (session=\"ef69483977a8afc61674ae3825b27002\", element=\"427cd5d3-61c5-49e1-9a77-219637a49a71\")>,\n",
       " <selenium.webdriver.remote.webelement.WebElement (session=\"ef69483977a8afc61674ae3825b27002\", element=\"81588ba7-8552-44d4-8a0f-066296123078\")>,\n",
       " <selenium.webdriver.remote.webelement.WebElement (session=\"ef69483977a8afc61674ae3825b27002\", element=\"1d17adec-4e4c-461b-9c30-2a088c6a9db5\")>,\n",
       " <selenium.webdriver.remote.webelement.WebElement (session=\"ef69483977a8afc61674ae3825b27002\", element=\"626931b3-ecd7-4928-b273-2b014a42a598\")>,\n",
       " <selenium.webdriver.remote.webelement.WebElement (session=\"ef69483977a8afc61674ae3825b27002\", element=\"10a430d3-ea8a-4cfb-916d-b4a7f820dbd5\")>,\n",
       " <selenium.webdriver.remote.webelement.WebElement (session=\"ef69483977a8afc61674ae3825b27002\", element=\"b1a444ce-5ce5-4216-bfe8-8fd0c40d4bca\")>,\n",
       " <selenium.webdriver.remote.webelement.WebElement (session=\"ef69483977a8afc61674ae3825b27002\", element=\"e2c40cef-f7d8-4f1f-a95b-e54ddc459665\")>,\n",
       " <selenium.webdriver.remote.webelement.WebElement (session=\"ef69483977a8afc61674ae3825b27002\", element=\"10630e9b-9bc1-4c19-9140-03e5a6a87ffa\")>]"
      ]
     },
     "execution_count": 91,
     "metadata": {},
     "output_type": "execute_result"
    }
   ],
   "source": [
    "#Extracting experience\n",
    "\n",
    "experience = driver.find_elements_by_xpath('//li[@class=\"fleft grey-text br2 placeHolderLi experience\"]')\n",
    "experience"
   ]
  },
  {
   "cell_type": "code",
   "execution_count": 92,
   "id": "b6642796",
   "metadata": {},
   "outputs": [
    {
     "data": {
      "text/plain": [
       "20"
      ]
     },
     "execution_count": 92,
     "metadata": {},
     "output_type": "execute_result"
    }
   ],
   "source": [
    "len(experience)"
   ]
  },
  {
   "cell_type": "code",
   "execution_count": 93,
   "id": "05398112",
   "metadata": {},
   "outputs": [
    {
     "data": {
      "text/plain": [
       "['8-12 Yrs',\n",
       " '1-6 Yrs',\n",
       " '3-5 Yrs',\n",
       " '0-4 Yrs',\n",
       " '0-2 Yrs',\n",
       " '0-2 Yrs',\n",
       " '0-2 Yrs',\n",
       " '3-8 Yrs',\n",
       " '2-5 Yrs',\n",
       " '1-4 Yrs',\n",
       " '1-2 Yrs',\n",
       " '1-2 Yrs',\n",
       " '5-10 Yrs',\n",
       " '3-7 Yrs',\n",
       " '6-10 Yrs',\n",
       " '4-9 Yrs',\n",
       " '2-5 Yrs',\n",
       " '2-4 Yrs',\n",
       " '2-3 Yrs',\n",
       " '2-6 Yrs']"
      ]
     },
     "execution_count": 93,
     "metadata": {},
     "output_type": "execute_result"
    }
   ],
   "source": [
    "experience_required = []\n",
    "for i in experience:\n",
    "    experience_required.append(i.text)\n",
    "experience_required"
   ]
  },
  {
   "cell_type": "code",
   "execution_count": 94,
   "id": "cc62b284",
   "metadata": {},
   "outputs": [
    {
     "data": {
      "text/plain": [
       "(20, 20, 20, 20)"
      ]
     },
     "execution_count": 94,
     "metadata": {},
     "output_type": "execute_result"
    }
   ],
   "source": [
    "len(job_titles), len(location), len(company), len(experience_required)"
   ]
  },
  {
   "cell_type": "code",
   "execution_count": 112,
   "id": "3259d8ce",
   "metadata": {},
   "outputs": [
    {
     "data": {
      "text/html": [
       "<div>\n",
       "<style scoped>\n",
       "    .dataframe tbody tr th:only-of-type {\n",
       "        vertical-align: middle;\n",
       "    }\n",
       "\n",
       "    .dataframe tbody tr th {\n",
       "        vertical-align: top;\n",
       "    }\n",
       "\n",
       "    .dataframe thead th {\n",
       "        text-align: right;\n",
       "    }\n",
       "</style>\n",
       "<table border=\"1\" class=\"dataframe\">\n",
       "  <thead>\n",
       "    <tr style=\"text-align: right;\">\n",
       "      <th></th>\n",
       "      <th>Job Title</th>\n",
       "      <th>Job Location</th>\n",
       "      <th>Job Company</th>\n",
       "      <th>Experience_Required</th>\n",
       "    </tr>\n",
       "  </thead>\n",
       "  <tbody>\n",
       "    <tr>\n",
       "      <th>0</th>\n",
       "      <td>Senior Data Analyst - Collibra</td>\n",
       "      <td>Bangalore/Bengaluru</td>\n",
       "      <td>Shell</td>\n",
       "      <td>8-12 Yrs</td>\n",
       "    </tr>\n",
       "    <tr>\n",
       "      <th>1</th>\n",
       "      <td>Hiring -Data Analyst, Business Analyst, MIS An...</td>\n",
       "      <td>Bangalore/Bengaluru</td>\n",
       "      <td>Flipkart</td>\n",
       "      <td>1-6 Yrs</td>\n",
       "    </tr>\n",
       "    <tr>\n",
       "      <th>2</th>\n",
       "      <td>Global Tax Automation &amp; Operations - Data Scie...</td>\n",
       "      <td>Bangalore/Bengaluru</td>\n",
       "      <td>Dell</td>\n",
       "      <td>3-5 Yrs</td>\n",
       "    </tr>\n",
       "    <tr>\n",
       "      <th>3</th>\n",
       "      <td>Pipeline/Piping Data Analyst Trainee</td>\n",
       "      <td>Bangalore/Bengaluru</td>\n",
       "      <td>TIMS SOLUTIONS PRIVATE LIMITED</td>\n",
       "      <td>0-4 Yrs</td>\n",
       "    </tr>\n",
       "    <tr>\n",
       "      <th>4</th>\n",
       "      <td>Data Analyst</td>\n",
       "      <td>Bangalore/Bengaluru(HSR Layout +7)</td>\n",
       "      <td>Insure Pro 2.0</td>\n",
       "      <td>0-2 Yrs</td>\n",
       "    </tr>\n",
       "    <tr>\n",
       "      <th>5</th>\n",
       "      <td>Data Analyst</td>\n",
       "      <td>Bangalore/Bengaluru</td>\n",
       "      <td>BERKMEER INDIA PRIVATE LIMITED</td>\n",
       "      <td>0-2 Yrs</td>\n",
       "    </tr>\n",
       "    <tr>\n",
       "      <th>6</th>\n",
       "      <td>Data Analyst</td>\n",
       "      <td>Bangalore/Bengaluru</td>\n",
       "      <td>Lifesight Technologies Pvt. Ltd.</td>\n",
       "      <td>0-2 Yrs</td>\n",
       "    </tr>\n",
       "    <tr>\n",
       "      <th>7</th>\n",
       "      <td>Data Analyst</td>\n",
       "      <td>Bangalore/Bengaluru</td>\n",
       "      <td>GSK India</td>\n",
       "      <td>3-8 Yrs</td>\n",
       "    </tr>\n",
       "    <tr>\n",
       "      <th>8</th>\n",
       "      <td>Business Analyst (Data Analyst role)</td>\n",
       "      <td>Mumbai, Hyderabad/Secunderabad, Pune, Chennai,...</td>\n",
       "      <td>Xpheno</td>\n",
       "      <td>2-5 Yrs</td>\n",
       "    </tr>\n",
       "    <tr>\n",
       "      <th>9</th>\n",
       "      <td>Senior Executive - Data Analyst</td>\n",
       "      <td>Bangalore/Bengaluru</td>\n",
       "      <td>Vedantu</td>\n",
       "      <td>1-4 Yrs</td>\n",
       "    </tr>\n",
       "    <tr>\n",
       "      <th>10</th>\n",
       "      <td>Data Analyst</td>\n",
       "      <td>Bangalore/Bengaluru</td>\n",
       "      <td>Flipkart</td>\n",
       "      <td>1-2 Yrs</td>\n",
       "    </tr>\n",
       "    <tr>\n",
       "      <th>11</th>\n",
       "      <td>Data Analyst</td>\n",
       "      <td>Bangalore/Bengaluru</td>\n",
       "      <td>Flipkart</td>\n",
       "      <td>1-2 Yrs</td>\n",
       "    </tr>\n",
       "    <tr>\n",
       "      <th>12</th>\n",
       "      <td>Sr. Data Analyst</td>\n",
       "      <td>Bangalore/Bengaluru</td>\n",
       "      <td>Born Commerce</td>\n",
       "      <td>5-10 Yrs</td>\n",
       "    </tr>\n",
       "    <tr>\n",
       "      <th>13</th>\n",
       "      <td>Senior Data Analyst</td>\n",
       "      <td>Bangalore/Bengaluru</td>\n",
       "      <td>Gsn Games India</td>\n",
       "      <td>3-7 Yrs</td>\n",
       "    </tr>\n",
       "    <tr>\n",
       "      <th>14</th>\n",
       "      <td>Senior Data Analyst</td>\n",
       "      <td>Bangalore/Bengaluru</td>\n",
       "      <td>Conviva</td>\n",
       "      <td>6-10 Yrs</td>\n",
       "    </tr>\n",
       "    <tr>\n",
       "      <th>15</th>\n",
       "      <td>Senior Analyst, Data Quality Analytics</td>\n",
       "      <td>Bangalore/Bengaluru</td>\n",
       "      <td>Dell</td>\n",
       "      <td>4-9 Yrs</td>\n",
       "    </tr>\n",
       "    <tr>\n",
       "      <th>16</th>\n",
       "      <td>Senior Analyst, Data Engineering</td>\n",
       "      <td>Bangalore/Bengaluru</td>\n",
       "      <td>Dell</td>\n",
       "      <td>2-5 Yrs</td>\n",
       "    </tr>\n",
       "    <tr>\n",
       "      <th>17</th>\n",
       "      <td>Senior Data Analyst II</td>\n",
       "      <td>Bangalore/Bengaluru</td>\n",
       "      <td>Flipkart</td>\n",
       "      <td>2-4 Yrs</td>\n",
       "    </tr>\n",
       "    <tr>\n",
       "      <th>18</th>\n",
       "      <td>Senior Data Analyst</td>\n",
       "      <td>Bangalore/Bengaluru</td>\n",
       "      <td>Flipkart</td>\n",
       "      <td>2-3 Yrs</td>\n",
       "    </tr>\n",
       "    <tr>\n",
       "      <th>19</th>\n",
       "      <td>Data Analyst</td>\n",
       "      <td>Bangalore/Bengaluru(Jayanagar +3)</td>\n",
       "      <td>DocsApp</td>\n",
       "      <td>2-6 Yrs</td>\n",
       "    </tr>\n",
       "  </tbody>\n",
       "</table>\n",
       "</div>"
      ],
      "text/plain": [
       "                                            Job Title  \\\n",
       "0                      Senior Data Analyst - Collibra   \n",
       "1   Hiring -Data Analyst, Business Analyst, MIS An...   \n",
       "2   Global Tax Automation & Operations - Data Scie...   \n",
       "3                Pipeline/Piping Data Analyst Trainee   \n",
       "4                                        Data Analyst   \n",
       "5                                        Data Analyst   \n",
       "6                                        Data Analyst   \n",
       "7                                        Data Analyst   \n",
       "8                Business Analyst (Data Analyst role)   \n",
       "9                     Senior Executive - Data Analyst   \n",
       "10                                       Data Analyst   \n",
       "11                                       Data Analyst   \n",
       "12                                   Sr. Data Analyst   \n",
       "13                                Senior Data Analyst   \n",
       "14                                Senior Data Analyst   \n",
       "15             Senior Analyst, Data Quality Analytics   \n",
       "16                   Senior Analyst, Data Engineering   \n",
       "17                             Senior Data Analyst II   \n",
       "18                                Senior Data Analyst   \n",
       "19                                       Data Analyst   \n",
       "\n",
       "                                         Job Location  \\\n",
       "0                                 Bangalore/Bengaluru   \n",
       "1                                 Bangalore/Bengaluru   \n",
       "2                                 Bangalore/Bengaluru   \n",
       "3                                 Bangalore/Bengaluru   \n",
       "4                  Bangalore/Bengaluru(HSR Layout +7)   \n",
       "5                                 Bangalore/Bengaluru   \n",
       "6                                 Bangalore/Bengaluru   \n",
       "7                                 Bangalore/Bengaluru   \n",
       "8   Mumbai, Hyderabad/Secunderabad, Pune, Chennai,...   \n",
       "9                                 Bangalore/Bengaluru   \n",
       "10                                Bangalore/Bengaluru   \n",
       "11                                Bangalore/Bengaluru   \n",
       "12                                Bangalore/Bengaluru   \n",
       "13                                Bangalore/Bengaluru   \n",
       "14                                Bangalore/Bengaluru   \n",
       "15                                Bangalore/Bengaluru   \n",
       "16                                Bangalore/Bengaluru   \n",
       "17                                Bangalore/Bengaluru   \n",
       "18                                Bangalore/Bengaluru   \n",
       "19                  Bangalore/Bengaluru(Jayanagar +3)   \n",
       "\n",
       "                         Job Company Experience_Required  \n",
       "0                              Shell            8-12 Yrs  \n",
       "1                           Flipkart             1-6 Yrs  \n",
       "2                               Dell             3-5 Yrs  \n",
       "3     TIMS SOLUTIONS PRIVATE LIMITED             0-4 Yrs  \n",
       "4                     Insure Pro 2.0             0-2 Yrs  \n",
       "5     BERKMEER INDIA PRIVATE LIMITED             0-2 Yrs  \n",
       "6   Lifesight Technologies Pvt. Ltd.             0-2 Yrs  \n",
       "7                          GSK India             3-8 Yrs  \n",
       "8                             Xpheno             2-5 Yrs  \n",
       "9                            Vedantu             1-4 Yrs  \n",
       "10                          Flipkart             1-2 Yrs  \n",
       "11                          Flipkart             1-2 Yrs  \n",
       "12                     Born Commerce            5-10 Yrs  \n",
       "13                   Gsn Games India             3-7 Yrs  \n",
       "14                           Conviva            6-10 Yrs  \n",
       "15                              Dell             4-9 Yrs  \n",
       "16                              Dell             2-5 Yrs  \n",
       "17                          Flipkart             2-4 Yrs  \n",
       "18                          Flipkart             2-3 Yrs  \n",
       "19                           DocsApp             2-6 Yrs  "
      ]
     },
     "execution_count": 112,
     "metadata": {},
     "output_type": "execute_result"
    }
   ],
   "source": [
    "#storing extrected data into a dataframe\n",
    "\n",
    "jobs = pd.DataFrame()\n",
    "jobs['Job Title'] = job_titles\n",
    "jobs['Job Location'] = location\n",
    "jobs['Job Company'] = company\n",
    "jobs['Experience_Required'] = experience_required\n",
    "jobs"
   ]
  },
  {
   "cell_type": "code",
   "execution_count": 56,
   "id": "8f088385",
   "metadata": {},
   "outputs": [
    {
     "name": "stdout",
     "output_type": "stream",
     "text": [
      "Requirement already satisfied: selenium in c:\\users\\hp\\anaconda3\\lib\\site-packages (4.1.0)\n",
      "Requirement already satisfied: trio~=0.17 in c:\\users\\hp\\anaconda3\\lib\\site-packages (from selenium) (0.19.0)\n",
      "Requirement already satisfied: urllib3[secure]~=1.26 in c:\\users\\hp\\anaconda3\\lib\\site-packages (from selenium) (1.26.4)\n",
      "Requirement already satisfied: trio-websocket~=0.9 in c:\\users\\hp\\anaconda3\\lib\\site-packages (from selenium) (0.9.2)\n",
      "Requirement already satisfied: sortedcontainers in c:\\users\\hp\\anaconda3\\lib\\site-packages (from trio~=0.17->selenium) (2.3.0)\n",
      "Requirement already satisfied: cffi>=1.14 in c:\\users\\hp\\anaconda3\\lib\\site-packages (from trio~=0.17->selenium) (1.14.5)\n",
      "Requirement already satisfied: outcome in c:\\users\\hp\\anaconda3\\lib\\site-packages (from trio~=0.17->selenium) (1.1.0)\n",
      "Requirement already satisfied: async-generator>=1.9 in c:\\users\\hp\\anaconda3\\lib\\site-packages (from trio~=0.17->selenium) (1.10)\n",
      "Requirement already satisfied: attrs>=19.2.0 in c:\\users\\hp\\anaconda3\\lib\\site-packages (from trio~=0.17->selenium) (20.3.0)\n",
      "Requirement already satisfied: sniffio in c:\\users\\hp\\anaconda3\\lib\\site-packages (from trio~=0.17->selenium) (1.2.0)\n",
      "Requirement already satisfied: idna in c:\\users\\hp\\anaconda3\\lib\\site-packages (from trio~=0.17->selenium) (2.10)\n",
      "Requirement already satisfied: pycparser in c:\\users\\hp\\anaconda3\\lib\\site-packages (from cffi>=1.14->trio~=0.17->selenium) (2.20)\n",
      "Requirement already satisfied: wsproto>=0.14 in c:\\users\\hp\\anaconda3\\lib\\site-packages (from trio-websocket~=0.9->selenium) (1.0.0)\n",
      "Requirement already satisfied: pyOpenSSL>=0.14 in c:\\users\\hp\\anaconda3\\lib\\site-packages (from urllib3[secure]~=1.26->selenium) (20.0.1)\n",
      "Requirement already satisfied: cryptography>=1.3.4 in c:\\users\\hp\\anaconda3\\lib\\site-packages (from urllib3[secure]~=1.26->selenium) (3.4.7)\n",
      "Requirement already satisfied: certifi in c:\\users\\hp\\anaconda3\\lib\\site-packages (from urllib3[secure]~=1.26->selenium) (2020.12.5)\n",
      "Requirement already satisfied: six>=1.5.2 in c:\\users\\hp\\anaconda3\\lib\\site-packages (from pyOpenSSL>=0.14->urllib3[secure]~=1.26->selenium) (1.15.0)\n",
      "Requirement already satisfied: h11<1,>=0.9.0 in c:\\users\\hp\\anaconda3\\lib\\site-packages (from wsproto>=0.14->trio-websocket~=0.9->selenium) (0.13.0)\n"
     ]
    }
   ],
   "source": [
    "#Write a python program to scrape data for “Data Scientist” Job position in “Bangalore” location. \n",
    "#installing selenium library\n",
    "!pip install selenium"
   ]
  },
  {
   "cell_type": "code",
   "execution_count": 57,
   "id": "2dcc0a45",
   "metadata": {},
   "outputs": [],
   "source": [
    "import selenium \n",
    "from selenium import webdriver\n",
    "import pandas as pd\n",
    "import warnings\n",
    "warnings.filterwarnings(\"ignore\")"
   ]
  },
  {
   "cell_type": "code",
   "execution_count": 58,
   "id": "01d8c153",
   "metadata": {},
   "outputs": [],
   "source": [
    "#controlling the edge browser\n",
    "driver = webdriver.Edge(executable_path = 'D:\\Brijesh\\Internship\\edgedriver_win64\\\\msedgedriver.exe')\n"
   ]
  },
  {
   "cell_type": "code",
   "execution_count": 59,
   "id": "42f7eecd",
   "metadata": {},
   "outputs": [],
   "source": [
    "#accessing the website remotely\n",
    "url = 'https://www.naukri.com/'\n",
    "driver.get(url)"
   ]
  },
  {
   "cell_type": "code",
   "execution_count": 60,
   "id": "44011e5b",
   "metadata": {},
   "outputs": [
    {
     "data": {
      "text/plain": [
       "<selenium.webdriver.remote.webelement.WebElement (session=\"383b502bbbf08b788d01410f3cb061d3\", element=\"968eaf5b-5f62-4b73-83cd-defc8191da30\")>"
      ]
     },
     "execution_count": 60,
     "metadata": {},
     "output_type": "execute_result"
    }
   ],
   "source": [
    "search_job = driver.find_element_by_class_name(\"suggestor-input\")\n",
    "search_job"
   ]
  },
  {
   "cell_type": "code",
   "execution_count": 61,
   "id": "b5e52aff",
   "metadata": {},
   "outputs": [],
   "source": [
    "#inputing data using send keys\n",
    "search_job.send_keys('Data Scientist')"
   ]
  },
  {
   "cell_type": "code",
   "execution_count": 62,
   "id": "b7637e09",
   "metadata": {},
   "outputs": [
    {
     "data": {
      "text/plain": [
       "<selenium.webdriver.remote.webelement.WebElement (session=\"383b502bbbf08b788d01410f3cb061d3\", element=\"968eaf5b-5f62-4b73-83cd-defc8191da30\")>"
      ]
     },
     "execution_count": 62,
     "metadata": {},
     "output_type": "execute_result"
    }
   ],
   "source": [
    "location = driver.find_element_by_xpath(\"/html/body/div/div[2]/div[3]/div/div/div[3]/div/div/div/input\")\n",
    "search_job"
   ]
  },
  {
   "cell_type": "code",
   "execution_count": 63,
   "id": "77ecb2d0",
   "metadata": {},
   "outputs": [],
   "source": [
    "location.send_keys('Bangalore')"
   ]
  },
  {
   "cell_type": "code",
   "execution_count": 64,
   "id": "0c5fc05c",
   "metadata": {},
   "outputs": [
    {
     "data": {
      "text/plain": [
       "<selenium.webdriver.remote.webelement.WebElement (session=\"383b502bbbf08b788d01410f3cb061d3\", element=\"b6bb0746-2cb6-4d5d-8d18-c4fa2ef23cf2\")>"
      ]
     },
     "execution_count": 64,
     "metadata": {},
     "output_type": "execute_result"
    }
   ],
   "source": [
    "search_btn = driver.find_element_by_class_name(\"qsbSubmit\")\n",
    "search_btn"
   ]
  },
  {
   "cell_type": "code",
   "execution_count": 65,
   "id": "3280727e",
   "metadata": {},
   "outputs": [],
   "source": [
    "search_btn.click()"
   ]
  },
  {
   "cell_type": "code",
   "execution_count": 75,
   "id": "043b57be",
   "metadata": {},
   "outputs": [
    {
     "data": {
      "text/plain": [
       "[<selenium.webdriver.remote.webelement.WebElement (session=\"383b502bbbf08b788d01410f3cb061d3\", element=\"2f7e9964-4ce2-4aa3-a87c-e551addbf156\")>,\n",
       " <selenium.webdriver.remote.webelement.WebElement (session=\"383b502bbbf08b788d01410f3cb061d3\", element=\"6f0f778a-c1c2-4d87-90cf-9511637d9333\")>,\n",
       " <selenium.webdriver.remote.webelement.WebElement (session=\"383b502bbbf08b788d01410f3cb061d3\", element=\"4d015075-49ac-41f8-a268-0e55b2c2d563\")>,\n",
       " <selenium.webdriver.remote.webelement.WebElement (session=\"383b502bbbf08b788d01410f3cb061d3\", element=\"3df77979-9995-408f-8bca-d5548f822d02\")>,\n",
       " <selenium.webdriver.remote.webelement.WebElement (session=\"383b502bbbf08b788d01410f3cb061d3\", element=\"4c81f3f3-3f27-4855-9957-c4fb103ca6e4\")>,\n",
       " <selenium.webdriver.remote.webelement.WebElement (session=\"383b502bbbf08b788d01410f3cb061d3\", element=\"8dd2db1b-c360-4982-9b89-6748ff27fd62\")>,\n",
       " <selenium.webdriver.remote.webelement.WebElement (session=\"383b502bbbf08b788d01410f3cb061d3\", element=\"95b66d44-882e-4692-9474-e02ca8629347\")>,\n",
       " <selenium.webdriver.remote.webelement.WebElement (session=\"383b502bbbf08b788d01410f3cb061d3\", element=\"bde017e2-ddbc-4d15-b904-cdcf907fc011\")>,\n",
       " <selenium.webdriver.remote.webelement.WebElement (session=\"383b502bbbf08b788d01410f3cb061d3\", element=\"abf11410-c283-4b30-afa7-a5bfde857b8d\")>,\n",
       " <selenium.webdriver.remote.webelement.WebElement (session=\"383b502bbbf08b788d01410f3cb061d3\", element=\"23c87f7a-5678-4932-affc-a6995853b13d\")>,\n",
       " <selenium.webdriver.remote.webelement.WebElement (session=\"383b502bbbf08b788d01410f3cb061d3\", element=\"7d37253e-d3f6-4dac-9d05-a7e95928b639\")>,\n",
       " <selenium.webdriver.remote.webelement.WebElement (session=\"383b502bbbf08b788d01410f3cb061d3\", element=\"a164b598-e524-4104-beda-6677d673cde9\")>,\n",
       " <selenium.webdriver.remote.webelement.WebElement (session=\"383b502bbbf08b788d01410f3cb061d3\", element=\"3ace4d39-7c51-452c-a85b-14e9527836f0\")>,\n",
       " <selenium.webdriver.remote.webelement.WebElement (session=\"383b502bbbf08b788d01410f3cb061d3\", element=\"4eb5ece6-ef8e-4730-b36e-4bfc1cb47aa3\")>,\n",
       " <selenium.webdriver.remote.webelement.WebElement (session=\"383b502bbbf08b788d01410f3cb061d3\", element=\"5efcd621-7dd1-41e0-9019-a2cf1eebae1d\")>,\n",
       " <selenium.webdriver.remote.webelement.WebElement (session=\"383b502bbbf08b788d01410f3cb061d3\", element=\"f43c0bc7-cfde-484d-92d6-20079fa79b14\")>,\n",
       " <selenium.webdriver.remote.webelement.WebElement (session=\"383b502bbbf08b788d01410f3cb061d3\", element=\"a9dc1859-dda5-4453-9fb6-3580b7fcc4e3\")>,\n",
       " <selenium.webdriver.remote.webelement.WebElement (session=\"383b502bbbf08b788d01410f3cb061d3\", element=\"ceda6ac4-5537-4953-b07a-151d74274b7a\")>,\n",
       " <selenium.webdriver.remote.webelement.WebElement (session=\"383b502bbbf08b788d01410f3cb061d3\", element=\"a26c6848-59eb-4aea-9395-7dc7699081d9\")>,\n",
       " <selenium.webdriver.remote.webelement.WebElement (session=\"383b502bbbf08b788d01410f3cb061d3\", element=\"93f3246e-123c-40e8-b553-04118c4a9342\")>]"
      ]
     },
     "execution_count": 75,
     "metadata": {},
     "output_type": "execute_result"
    }
   ],
   "source": [
    "title_tags = driver.find_elements_by_xpath('//a[@class=\"title fw500 ellipsis\"]')\n",
    "title_tags"
   ]
  },
  {
   "cell_type": "code",
   "execution_count": 78,
   "id": "34c01aed",
   "metadata": {},
   "outputs": [
    {
     "data": {
      "text/plain": [
       "['Global Tax Automation & Operations - Data Scientist Senior Analyst',\n",
       " 'Associate Data Scientist',\n",
       " 'Data Scientist / Analyst',\n",
       " 'Senior Data Scientist - Research',\n",
       " 'Senior Data Scientist, Speech Synthesis',\n",
       " 'Senior Data Scientist (Marketplace)',\n",
       " 'Senior Data Scientist',\n",
       " 'Senior Data Scientist - Customer Analytics',\n",
       " 'Data Scientist - Lead / Architect - Looking For Early Joiners - Wipro',\n",
       " 'Senior Data Scientist I',\n",
       " 'Senior Risk Data Scientist',\n",
       " 'Senior Data Scientist - Analytics Organization- Data Science',\n",
       " 'Data Scientist / ML Engineer',\n",
       " 'Data Scientist - Lead / Architect - Looking For Early Joiners - Wipro',\n",
       " 'Sr Data Scientist',\n",
       " 'Data Scientist I',\n",
       " 'Data Scientist: Advanced Analytics',\n",
       " 'Data Scientist: Advanced Analytics',\n",
       " 'Principal Data Scientist',\n",
       " 'Data Scientist: Artificial Intelligence']"
      ]
     },
     "execution_count": 78,
     "metadata": {},
     "output_type": "execute_result"
    }
   ],
   "source": []
  },
  {
   "cell_type": "code",
   "execution_count": 93,
   "id": "b15a471a",
   "metadata": {},
   "outputs": [
    {
     "data": {
      "text/plain": [
       "[<selenium.webdriver.remote.webelement.WebElement (session=\"383b502bbbf08b788d01410f3cb061d3\", element=\"0bec7ed4-72b3-4901-ba57-2f82817a53b3\")>,\n",
       " <selenium.webdriver.remote.webelement.WebElement (session=\"383b502bbbf08b788d01410f3cb061d3\", element=\"f1764ff7-8504-41b8-8009-ca642292cf85\")>,\n",
       " <selenium.webdriver.remote.webelement.WebElement (session=\"383b502bbbf08b788d01410f3cb061d3\", element=\"adfe44a2-bcdb-4c4a-a665-dc3bc43d707b\")>,\n",
       " <selenium.webdriver.remote.webelement.WebElement (session=\"383b502bbbf08b788d01410f3cb061d3\", element=\"22ed42a5-1979-4b00-a535-eb9066434557\")>,\n",
       " <selenium.webdriver.remote.webelement.WebElement (session=\"383b502bbbf08b788d01410f3cb061d3\", element=\"d4eac388-a338-43e8-b9df-8e795cf6b8d0\")>,\n",
       " <selenium.webdriver.remote.webelement.WebElement (session=\"383b502bbbf08b788d01410f3cb061d3\", element=\"589c5656-fdf5-42a4-8f6a-e21b4e838029\")>,\n",
       " <selenium.webdriver.remote.webelement.WebElement (session=\"383b502bbbf08b788d01410f3cb061d3\", element=\"b573ef19-ffc5-42a6-b5fa-e11be722b9f7\")>,\n",
       " <selenium.webdriver.remote.webelement.WebElement (session=\"383b502bbbf08b788d01410f3cb061d3\", element=\"a7a5b849-9ebf-4067-b6a2-c27295379c40\")>,\n",
       " <selenium.webdriver.remote.webelement.WebElement (session=\"383b502bbbf08b788d01410f3cb061d3\", element=\"fe4ae7d3-1065-43b5-a442-327b98dff686\")>,\n",
       " <selenium.webdriver.remote.webelement.WebElement (session=\"383b502bbbf08b788d01410f3cb061d3\", element=\"4c93db91-f902-4719-86ca-e7d07e7df96d\")>,\n",
       " <selenium.webdriver.remote.webelement.WebElement (session=\"383b502bbbf08b788d01410f3cb061d3\", element=\"54c4d881-ea61-45f3-994f-4e778a9310a5\")>,\n",
       " <selenium.webdriver.remote.webelement.WebElement (session=\"383b502bbbf08b788d01410f3cb061d3\", element=\"f62cabbd-a296-4fd5-b6d6-679ebe7eb360\")>,\n",
       " <selenium.webdriver.remote.webelement.WebElement (session=\"383b502bbbf08b788d01410f3cb061d3\", element=\"70916c62-a9d1-456a-9c7e-ab5b0591e554\")>,\n",
       " <selenium.webdriver.remote.webelement.WebElement (session=\"383b502bbbf08b788d01410f3cb061d3\", element=\"218998b0-b0b4-4e9a-83a2-82942d3cac5b\")>,\n",
       " <selenium.webdriver.remote.webelement.WebElement (session=\"383b502bbbf08b788d01410f3cb061d3\", element=\"b0aa0e5f-c336-446d-b08a-3df2abf4422d\")>,\n",
       " <selenium.webdriver.remote.webelement.WebElement (session=\"383b502bbbf08b788d01410f3cb061d3\", element=\"21998ebb-f190-4e7a-ab7c-833175135909\")>,\n",
       " <selenium.webdriver.remote.webelement.WebElement (session=\"383b502bbbf08b788d01410f3cb061d3\", element=\"16d2e6b7-3dae-42d6-8aa7-72771bd8e60c\")>,\n",
       " <selenium.webdriver.remote.webelement.WebElement (session=\"383b502bbbf08b788d01410f3cb061d3\", element=\"42bf8bea-a3b1-4b32-ba7e-81229f34785d\")>,\n",
       " <selenium.webdriver.remote.webelement.WebElement (session=\"383b502bbbf08b788d01410f3cb061d3\", element=\"732d1289-b98c-4df6-b57b-f6997855c75e\")>,\n",
       " <selenium.webdriver.remote.webelement.WebElement (session=\"383b502bbbf08b788d01410f3cb061d3\", element=\"d107c4ae-c5cd-46bd-a4e7-94db2bf620a6\")>]"
      ]
     },
     "execution_count": 93,
     "metadata": {},
     "output_type": "execute_result"
    }
   ],
   "source": [
    "#Extracting company name\n",
    "\n",
    "company_name = driver.find_elements_by_xpath('//a[@class=\"subTitle ellipsis fleft\"]')\n",
    "company_name"
   ]
  },
  {
   "cell_type": "code",
   "execution_count": 94,
   "id": "2619911d",
   "metadata": {},
   "outputs": [
    {
     "data": {
      "text/plain": [
       "['Dell',\n",
       " 'Kaplan',\n",
       " 'Talentify',\n",
       " 'Gojek',\n",
       " 'NVIDIA',\n",
       " 'Walmart',\n",
       " 'Walmart',\n",
       " 'Atlassian',\n",
       " 'Wipro',\n",
       " 'Delhivery',\n",
       " 'GSK India',\n",
       " 'PlaceMinds Consulting Pvt. Ltd',\n",
       " 'AVE-Promagne',\n",
       " 'Wipro',\n",
       " 'Fragma data systems pvt ltd',\n",
       " 'DAZN',\n",
       " 'IBM',\n",
       " 'IBM',\n",
       " 'Signify',\n",
       " 'IBM']"
      ]
     },
     "execution_count": 94,
     "metadata": {},
     "output_type": "execute_result"
    }
   ],
   "source": [
    "company = []\n",
    "for i in company_name:\n",
    "    company.append(i.text)\n",
    "company"
   ]
  },
  {
   "cell_type": "code",
   "execution_count": 105,
   "id": "39675c6d",
   "metadata": {},
   "outputs": [
    {
     "data": {
      "text/plain": [
       "[<selenium.webdriver.remote.webelement.WebElement (session=\"383b502bbbf08b788d01410f3cb061d3\", element=\"e747df09-677a-44ef-98a6-32585c1867dc\")>,\n",
       " <selenium.webdriver.remote.webelement.WebElement (session=\"383b502bbbf08b788d01410f3cb061d3\", element=\"e04a40a0-08d3-48ec-befe-8b277121b038\")>,\n",
       " <selenium.webdriver.remote.webelement.WebElement (session=\"383b502bbbf08b788d01410f3cb061d3\", element=\"6ccc7cd3-d82b-4a7b-a656-e1e725aa3439\")>,\n",
       " <selenium.webdriver.remote.webelement.WebElement (session=\"383b502bbbf08b788d01410f3cb061d3\", element=\"6d77884f-e85d-4c8b-838f-2ce5e9de7686\")>,\n",
       " <selenium.webdriver.remote.webelement.WebElement (session=\"383b502bbbf08b788d01410f3cb061d3\", element=\"ad6ba9d1-246c-4d60-8ae6-09ba728f5ae4\")>,\n",
       " <selenium.webdriver.remote.webelement.WebElement (session=\"383b502bbbf08b788d01410f3cb061d3\", element=\"bf392b27-299c-4517-a621-2034e8d37480\")>,\n",
       " <selenium.webdriver.remote.webelement.WebElement (session=\"383b502bbbf08b788d01410f3cb061d3\", element=\"1169fc7d-b84d-41b4-ab3c-e7ddf31e8dd8\")>,\n",
       " <selenium.webdriver.remote.webelement.WebElement (session=\"383b502bbbf08b788d01410f3cb061d3\", element=\"2882ab85-a011-4f5f-aa56-2e2562cc8abf\")>,\n",
       " <selenium.webdriver.remote.webelement.WebElement (session=\"383b502bbbf08b788d01410f3cb061d3\", element=\"48a2a088-5257-4acc-95fe-1d8225c1e3ca\")>,\n",
       " <selenium.webdriver.remote.webelement.WebElement (session=\"383b502bbbf08b788d01410f3cb061d3\", element=\"6ad2dbf9-e357-4c06-8bcb-63253dde6a9e\")>,\n",
       " <selenium.webdriver.remote.webelement.WebElement (session=\"383b502bbbf08b788d01410f3cb061d3\", element=\"f7d8cf32-3c3d-47a0-8347-948c801dbb7e\")>,\n",
       " <selenium.webdriver.remote.webelement.WebElement (session=\"383b502bbbf08b788d01410f3cb061d3\", element=\"062c83db-529d-48b9-bea1-f953d51f1fb8\")>,\n",
       " <selenium.webdriver.remote.webelement.WebElement (session=\"383b502bbbf08b788d01410f3cb061d3\", element=\"b126e13c-029e-4633-b0b2-66c0117f6ddc\")>,\n",
       " <selenium.webdriver.remote.webelement.WebElement (session=\"383b502bbbf08b788d01410f3cb061d3\", element=\"ca28823e-6f82-4fcd-9510-8734a94f1b0c\")>,\n",
       " <selenium.webdriver.remote.webelement.WebElement (session=\"383b502bbbf08b788d01410f3cb061d3\", element=\"398a153e-1482-4d12-a110-c59090313439\")>,\n",
       " <selenium.webdriver.remote.webelement.WebElement (session=\"383b502bbbf08b788d01410f3cb061d3\", element=\"f4deb7de-d04a-4703-a16c-78b3a42d5f54\")>,\n",
       " <selenium.webdriver.remote.webelement.WebElement (session=\"383b502bbbf08b788d01410f3cb061d3\", element=\"192db387-03e6-48e5-badc-bd3e1e3773e0\")>,\n",
       " <selenium.webdriver.remote.webelement.WebElement (session=\"383b502bbbf08b788d01410f3cb061d3\", element=\"9ce07252-0b5a-4041-8512-5552376bb294\")>,\n",
       " <selenium.webdriver.remote.webelement.WebElement (session=\"383b502bbbf08b788d01410f3cb061d3\", element=\"5c38a304-e878-4106-866e-9aa148a31698\")>,\n",
       " <selenium.webdriver.remote.webelement.WebElement (session=\"383b502bbbf08b788d01410f3cb061d3\", element=\"9106b420-22e4-4b8e-ad95-709a35af6519\")>]"
      ]
     },
     "execution_count": 105,
     "metadata": {},
     "output_type": "execute_result"
    }
   ],
   "source": [
    "job_locations = driver.find_elements_by_xpath('//li[@class=\"fleft grey-text br2 placeHolderLi location\"]')\n",
    "job_locations"
   ]
  },
  {
   "cell_type": "code",
   "execution_count": 107,
   "id": "a78427c9",
   "metadata": {},
   "outputs": [
    {
     "data": {
      "text/plain": [
       "['Bangalore/Bengaluru',\n",
       " 'Bangalore/Bengaluru',\n",
       " 'Hyderabad/Secunderabad, Bangalore/Bengaluru, Delhi / NCR',\n",
       " 'Bangalore/Bengaluru',\n",
       " 'Hyderabad/Secunderabad, Pune, Bangalore/Bengaluru',\n",
       " 'Bangalore/Bengaluru',\n",
       " 'Bangalore/Bengaluru',\n",
       " 'Bangalore/Bengaluru',\n",
       " 'Hyderabad/Secunderabad, Pune, Chennai, Bangalore/Bengaluru',\n",
       " 'Bangalore/Bengaluru',\n",
       " 'Bangalore/Bengaluru',\n",
       " 'Mumbai, Pune, Bangalore/Bengaluru',\n",
       " 'Noida, Kota, Mumbai, Chandigarh, Lucknow, Agra, Gurgaon/Gurugram, Jaipur, Bangalore/Bengaluru',\n",
       " 'Kochi/Cochin, Kolkata, Pune, Gurgaon/Gurugram, Chennai, Coimbatore, Bangalore/Bengaluru, Mumbai (All Areas), Hyderabad',\n",
       " 'Bangalore/Bengaluru\\n(WFH during Covid)',\n",
       " 'Bangalore/Bengaluru',\n",
       " 'Bangalore/Bengaluru',\n",
       " 'Bangalore/Bengaluru',\n",
       " 'Bangalore/Bengaluru',\n",
       " 'Bangalore/Bengaluru']"
      ]
     },
     "execution_count": 107,
     "metadata": {},
     "output_type": "execute_result"
    }
   ],
   "source": [
    "location = []\n",
    "for i in job_locations:\n",
    "    location.append(i.text)\n",
    "location"
   ]
  },
  {
   "cell_type": "code",
   "execution_count": 108,
   "id": "1d529a81",
   "metadata": {},
   "outputs": [
    {
     "data": {
      "text/plain": [
       "(20, 20, 20)"
      ]
     },
     "execution_count": 108,
     "metadata": {},
     "output_type": "execute_result"
    }
   ],
   "source": [
    "len(job_titles), len(company), len(location)"
   ]
  },
  {
   "cell_type": "code",
   "execution_count": 111,
   "id": "4bb0b968",
   "metadata": {},
   "outputs": [
    {
     "data": {
      "text/html": [
       "<div>\n",
       "<style scoped>\n",
       "    .dataframe tbody tr th:only-of-type {\n",
       "        vertical-align: middle;\n",
       "    }\n",
       "\n",
       "    .dataframe tbody tr th {\n",
       "        vertical-align: top;\n",
       "    }\n",
       "\n",
       "    .dataframe thead th {\n",
       "        text-align: right;\n",
       "    }\n",
       "</style>\n",
       "<table border=\"1\" class=\"dataframe\">\n",
       "  <thead>\n",
       "    <tr style=\"text-align: right;\">\n",
       "      <th></th>\n",
       "      <th>Job Title</th>\n",
       "      <th>Job Location</th>\n",
       "      <th>Job Company</th>\n",
       "    </tr>\n",
       "  </thead>\n",
       "  <tbody>\n",
       "    <tr>\n",
       "      <th>0</th>\n",
       "      <td>Global Tax Automation &amp; Operations - Data Scie...</td>\n",
       "      <td>Bangalore/Bengaluru</td>\n",
       "      <td>Dell</td>\n",
       "    </tr>\n",
       "    <tr>\n",
       "      <th>1</th>\n",
       "      <td>Associate Data Scientist</td>\n",
       "      <td>Bangalore/Bengaluru</td>\n",
       "      <td>Kaplan</td>\n",
       "    </tr>\n",
       "    <tr>\n",
       "      <th>2</th>\n",
       "      <td>Data Scientist / Analyst</td>\n",
       "      <td>Hyderabad/Secunderabad, Bangalore/Bengaluru, D...</td>\n",
       "      <td>Talentify</td>\n",
       "    </tr>\n",
       "    <tr>\n",
       "      <th>3</th>\n",
       "      <td>Senior Data Scientist - Research</td>\n",
       "      <td>Bangalore/Bengaluru</td>\n",
       "      <td>Gojek</td>\n",
       "    </tr>\n",
       "    <tr>\n",
       "      <th>4</th>\n",
       "      <td>Senior Data Scientist, Speech Synthesis</td>\n",
       "      <td>Hyderabad/Secunderabad, Pune, Bangalore/Bengaluru</td>\n",
       "      <td>NVIDIA</td>\n",
       "    </tr>\n",
       "    <tr>\n",
       "      <th>5</th>\n",
       "      <td>Senior Data Scientist (Marketplace)</td>\n",
       "      <td>Bangalore/Bengaluru</td>\n",
       "      <td>Walmart</td>\n",
       "    </tr>\n",
       "    <tr>\n",
       "      <th>6</th>\n",
       "      <td>Senior Data Scientist</td>\n",
       "      <td>Bangalore/Bengaluru</td>\n",
       "      <td>Walmart</td>\n",
       "    </tr>\n",
       "    <tr>\n",
       "      <th>7</th>\n",
       "      <td>Senior Data Scientist - Customer Analytics</td>\n",
       "      <td>Bangalore/Bengaluru</td>\n",
       "      <td>Atlassian</td>\n",
       "    </tr>\n",
       "    <tr>\n",
       "      <th>8</th>\n",
       "      <td>Data Scientist - Lead / Architect - Looking Fo...</td>\n",
       "      <td>Hyderabad/Secunderabad, Pune, Chennai, Bangalo...</td>\n",
       "      <td>Wipro</td>\n",
       "    </tr>\n",
       "    <tr>\n",
       "      <th>9</th>\n",
       "      <td>Senior Data Scientist I</td>\n",
       "      <td>Bangalore/Bengaluru</td>\n",
       "      <td>Delhivery</td>\n",
       "    </tr>\n",
       "    <tr>\n",
       "      <th>10</th>\n",
       "      <td>Senior Risk Data Scientist</td>\n",
       "      <td>Bangalore/Bengaluru</td>\n",
       "      <td>GSK India</td>\n",
       "    </tr>\n",
       "    <tr>\n",
       "      <th>11</th>\n",
       "      <td>Senior Data Scientist - Analytics Organization...</td>\n",
       "      <td>Mumbai, Pune, Bangalore/Bengaluru</td>\n",
       "      <td>PlaceMinds Consulting Pvt. Ltd</td>\n",
       "    </tr>\n",
       "    <tr>\n",
       "      <th>12</th>\n",
       "      <td>Data Scientist / ML Engineer</td>\n",
       "      <td>Noida, Kota, Mumbai, Chandigarh, Lucknow, Agra...</td>\n",
       "      <td>AVE-Promagne</td>\n",
       "    </tr>\n",
       "    <tr>\n",
       "      <th>13</th>\n",
       "      <td>Data Scientist - Lead / Architect - Looking Fo...</td>\n",
       "      <td>Kochi/Cochin, Kolkata, Pune, Gurgaon/Gurugram,...</td>\n",
       "      <td>Wipro</td>\n",
       "    </tr>\n",
       "    <tr>\n",
       "      <th>14</th>\n",
       "      <td>Sr Data Scientist</td>\n",
       "      <td>Bangalore/Bengaluru\\n(WFH during Covid)</td>\n",
       "      <td>Fragma data systems pvt ltd</td>\n",
       "    </tr>\n",
       "    <tr>\n",
       "      <th>15</th>\n",
       "      <td>Data Scientist I</td>\n",
       "      <td>Bangalore/Bengaluru</td>\n",
       "      <td>DAZN</td>\n",
       "    </tr>\n",
       "    <tr>\n",
       "      <th>16</th>\n",
       "      <td>Data Scientist: Advanced Analytics</td>\n",
       "      <td>Bangalore/Bengaluru</td>\n",
       "      <td>IBM</td>\n",
       "    </tr>\n",
       "    <tr>\n",
       "      <th>17</th>\n",
       "      <td>Data Scientist: Advanced Analytics</td>\n",
       "      <td>Bangalore/Bengaluru</td>\n",
       "      <td>IBM</td>\n",
       "    </tr>\n",
       "    <tr>\n",
       "      <th>18</th>\n",
       "      <td>Principal Data Scientist</td>\n",
       "      <td>Bangalore/Bengaluru</td>\n",
       "      <td>Signify</td>\n",
       "    </tr>\n",
       "    <tr>\n",
       "      <th>19</th>\n",
       "      <td>Data Scientist: Artificial Intelligence</td>\n",
       "      <td>Bangalore/Bengaluru</td>\n",
       "      <td>IBM</td>\n",
       "    </tr>\n",
       "  </tbody>\n",
       "</table>\n",
       "</div>"
      ],
      "text/plain": [
       "                                            Job Title  \\\n",
       "0   Global Tax Automation & Operations - Data Scie...   \n",
       "1                            Associate Data Scientist   \n",
       "2                            Data Scientist / Analyst   \n",
       "3                    Senior Data Scientist - Research   \n",
       "4             Senior Data Scientist, Speech Synthesis   \n",
       "5                 Senior Data Scientist (Marketplace)   \n",
       "6                               Senior Data Scientist   \n",
       "7          Senior Data Scientist - Customer Analytics   \n",
       "8   Data Scientist - Lead / Architect - Looking Fo...   \n",
       "9                             Senior Data Scientist I   \n",
       "10                         Senior Risk Data Scientist   \n",
       "11  Senior Data Scientist - Analytics Organization...   \n",
       "12                       Data Scientist / ML Engineer   \n",
       "13  Data Scientist - Lead / Architect - Looking Fo...   \n",
       "14                                  Sr Data Scientist   \n",
       "15                                   Data Scientist I   \n",
       "16                 Data Scientist: Advanced Analytics   \n",
       "17                 Data Scientist: Advanced Analytics   \n",
       "18                           Principal Data Scientist   \n",
       "19            Data Scientist: Artificial Intelligence   \n",
       "\n",
       "                                         Job Location  \\\n",
       "0                                 Bangalore/Bengaluru   \n",
       "1                                 Bangalore/Bengaluru   \n",
       "2   Hyderabad/Secunderabad, Bangalore/Bengaluru, D...   \n",
       "3                                 Bangalore/Bengaluru   \n",
       "4   Hyderabad/Secunderabad, Pune, Bangalore/Bengaluru   \n",
       "5                                 Bangalore/Bengaluru   \n",
       "6                                 Bangalore/Bengaluru   \n",
       "7                                 Bangalore/Bengaluru   \n",
       "8   Hyderabad/Secunderabad, Pune, Chennai, Bangalo...   \n",
       "9                                 Bangalore/Bengaluru   \n",
       "10                                Bangalore/Bengaluru   \n",
       "11                  Mumbai, Pune, Bangalore/Bengaluru   \n",
       "12  Noida, Kota, Mumbai, Chandigarh, Lucknow, Agra...   \n",
       "13  Kochi/Cochin, Kolkata, Pune, Gurgaon/Gurugram,...   \n",
       "14            Bangalore/Bengaluru\\n(WFH during Covid)   \n",
       "15                                Bangalore/Bengaluru   \n",
       "16                                Bangalore/Bengaluru   \n",
       "17                                Bangalore/Bengaluru   \n",
       "18                                Bangalore/Bengaluru   \n",
       "19                                Bangalore/Bengaluru   \n",
       "\n",
       "                       Job Company  \n",
       "0                             Dell  \n",
       "1                           Kaplan  \n",
       "2                        Talentify  \n",
       "3                            Gojek  \n",
       "4                           NVIDIA  \n",
       "5                          Walmart  \n",
       "6                          Walmart  \n",
       "7                        Atlassian  \n",
       "8                            Wipro  \n",
       "9                        Delhivery  \n",
       "10                       GSK India  \n",
       "11  PlaceMinds Consulting Pvt. Ltd  \n",
       "12                    AVE-Promagne  \n",
       "13                           Wipro  \n",
       "14     Fragma data systems pvt ltd  \n",
       "15                            DAZN  \n",
       "16                             IBM  \n",
       "17                             IBM  \n",
       "18                         Signify  \n",
       "19                             IBM  "
      ]
     },
     "execution_count": 111,
     "metadata": {},
     "output_type": "execute_result"
    }
   ],
   "source": [
    "#extracting data frame\n",
    "jobs = pd.DataFrame()\n",
    "jobs['Job Title'] = job_titles\n",
    "jobs['Job Location'] = location\n",
    "jobs['Job Company'] = company\n",
    "jobs"
   ]
  },
  {
   "cell_type": "code",
   "execution_count": 337,
   "id": "e3a91997",
   "metadata": {},
   "outputs": [
    {
     "name": "stdout",
     "output_type": "stream",
     "text": [
      "Requirement already satisfied: selenium in c:\\users\\hp\\anaconda3\\lib\\site-packages (4.1.0)\n",
      "Requirement already satisfied: trio-websocket~=0.9 in c:\\users\\hp\\anaconda3\\lib\\site-packages (from selenium) (0.9.2)\n",
      "Requirement already satisfied: trio~=0.17 in c:\\users\\hp\\anaconda3\\lib\\site-packages (from selenium) (0.19.0)\n",
      "Requirement already satisfied: urllib3[secure]~=1.26 in c:\\users\\hp\\anaconda3\\lib\\site-packages (from selenium) (1.26.4)\n",
      "Requirement already satisfied: outcome in c:\\users\\hp\\anaconda3\\lib\\site-packages (from trio~=0.17->selenium) (1.1.0)\n",
      "Requirement already satisfied: sortedcontainers in c:\\users\\hp\\anaconda3\\lib\\site-packages (from trio~=0.17->selenium) (2.3.0)\n",
      "Requirement already satisfied: idna in c:\\users\\hp\\anaconda3\\lib\\site-packages (from trio~=0.17->selenium) (2.10)\n",
      "Requirement already satisfied: async-generator>=1.9 in c:\\users\\hp\\anaconda3\\lib\\site-packages (from trio~=0.17->selenium) (1.10)\n",
      "Requirement already satisfied: sniffio in c:\\users\\hp\\anaconda3\\lib\\site-packages (from trio~=0.17->selenium) (1.2.0)\n",
      "Requirement already satisfied: cffi>=1.14 in c:\\users\\hp\\anaconda3\\lib\\site-packages (from trio~=0.17->selenium) (1.14.5)\n",
      "Requirement already satisfied: attrs>=19.2.0 in c:\\users\\hp\\anaconda3\\lib\\site-packages (from trio~=0.17->selenium) (20.3.0)\n",
      "Requirement already satisfied: pycparser in c:\\users\\hp\\anaconda3\\lib\\site-packages (from cffi>=1.14->trio~=0.17->selenium) (2.20)\n",
      "Requirement already satisfied: wsproto>=0.14 in c:\\users\\hp\\anaconda3\\lib\\site-packages (from trio-websocket~=0.9->selenium) (1.0.0)\n",
      "Requirement already satisfied: cryptography>=1.3.4 in c:\\users\\hp\\anaconda3\\lib\\site-packages (from urllib3[secure]~=1.26->selenium) (3.4.7)\n",
      "Requirement already satisfied: pyOpenSSL>=0.14 in c:\\users\\hp\\anaconda3\\lib\\site-packages (from urllib3[secure]~=1.26->selenium) (20.0.1)\n",
      "Requirement already satisfied: certifi in c:\\users\\hp\\anaconda3\\lib\\site-packages (from urllib3[secure]~=1.26->selenium) (2020.12.5)\n",
      "Requirement already satisfied: six>=1.5.2 in c:\\users\\hp\\anaconda3\\lib\\site-packages (from pyOpenSSL>=0.14->urllib3[secure]~=1.26->selenium) (1.15.0)\n",
      "Requirement already satisfied: h11<1,>=0.9.0 in c:\\users\\hp\\anaconda3\\lib\\site-packages (from wsproto>=0.14->trio-websocket~=0.9->selenium) (0.13.0)\n"
     ]
    }
   ],
   "source": [
    "!pip install selenium"
   ]
  },
  {
   "cell_type": "code",
   "execution_count": 338,
   "id": "a364e07c",
   "metadata": {},
   "outputs": [],
   "source": [
    "#Q3: In this question you have to scrape data using the filters available on the webpage as shown below:\n",
    "\n",
    "import selenium \n",
    "from selenium import webdriver\n",
    "import pandas as pd\n",
    "import warnings\n",
    "warnings.filterwarnings(\"ignore\")"
   ]
  },
  {
   "cell_type": "code",
   "execution_count": 339,
   "id": "8bb29904",
   "metadata": {},
   "outputs": [],
   "source": [
    "#controlling the edge browser\n",
    "driver = webdriver.Edge(executable_path = 'D:\\Brijesh\\Internship\\edgedriver_win64\\\\msedgedriver.exe')\n"
   ]
  },
  {
   "cell_type": "code",
   "execution_count": 5,
   "id": "e4ce3f66",
   "metadata": {},
   "outputs": [],
   "source": [
    "#accessing the website remotely\n",
    "url = 'https://www.naukri.com/'\n",
    "driver.get(url)"
   ]
  },
  {
   "cell_type": "code",
   "execution_count": 6,
   "id": "b729814b",
   "metadata": {},
   "outputs": [
    {
     "data": {
      "text/plain": [
       "<selenium.webdriver.remote.webelement.WebElement (session=\"882b8991802b5018e7d3750327a5efc5\", element=\"8826f45e-ede0-4509-be52-02adcb0e8f73\")>"
      ]
     },
     "execution_count": 6,
     "metadata": {},
     "output_type": "execute_result"
    }
   ],
   "source": [
    "search_job = driver.find_element_by_class_name(\"suggestor-input\")\n",
    "search_job"
   ]
  },
  {
   "cell_type": "code",
   "execution_count": 7,
   "id": "40871406",
   "metadata": {},
   "outputs": [],
   "source": [
    "#inputing data using send keys\n",
    "search_job.send_keys('Data Scientist')"
   ]
  },
  {
   "cell_type": "code",
   "execution_count": 18,
   "id": "61f11fbd",
   "metadata": {},
   "outputs": [
    {
     "data": {
      "text/plain": [
       "<selenium.webdriver.remote.webelement.WebElement (session=\"882b8991802b5018e7d3750327a5efc5\", element=\"184de77c-257e-4529-b700-9377fa781922\")>"
      ]
     },
     "execution_count": 18,
     "metadata": {},
     "output_type": "execute_result"
    }
   ],
   "source": [
    "search_btn = driver.find_element_by_class_name(\"qsbSubmit\")\n",
    "search_btn"
   ]
  },
  {
   "cell_type": "code",
   "execution_count": 19,
   "id": "13b0ad4a",
   "metadata": {},
   "outputs": [],
   "source": [
    "search_btn.click()"
   ]
  },
  {
   "cell_type": "code",
   "execution_count": 20,
   "id": "11479f0d",
   "metadata": {},
   "outputs": [],
   "source": [
    "location_check = driver.find_element_by_xpath('/html/body/div[1]/div[3]/div[2]/section[1]/div[2]/div[3]/div[2]/div[3]/label/i')"
   ]
  },
  {
   "cell_type": "code",
   "execution_count": 21,
   "id": "db02459a",
   "metadata": {},
   "outputs": [],
   "source": [
    "location_check.click()"
   ]
  },
  {
   "cell_type": "code",
   "execution_count": 22,
   "id": "acfa9eb4",
   "metadata": {},
   "outputs": [],
   "source": [
    "salary_check = driver.find_element_by_xpath('/html/body/div[1]/div[3]/div[2]/section[1]/div[2]/div[4]/div[2]/div[2]/label/i')"
   ]
  },
  {
   "cell_type": "code",
   "execution_count": 23,
   "id": "d06b4196",
   "metadata": {},
   "outputs": [],
   "source": [
    "salary_check.click()"
   ]
  },
  {
   "cell_type": "code",
   "execution_count": 24,
   "id": "95092393",
   "metadata": {},
   "outputs": [
    {
     "data": {
      "text/plain": [
       "[<selenium.webdriver.remote.webelement.WebElement (session=\"882b8991802b5018e7d3750327a5efc5\", element=\"8333c761-da53-4b9c-ad26-8aa2430dd741\")>,\n",
       " <selenium.webdriver.remote.webelement.WebElement (session=\"882b8991802b5018e7d3750327a5efc5\", element=\"d0a13dd5-987b-468d-94f3-ccefd7eac6fc\")>,\n",
       " <selenium.webdriver.remote.webelement.WebElement (session=\"882b8991802b5018e7d3750327a5efc5\", element=\"e0b0217d-273e-4b32-9fb8-afe7bb0f0c95\")>,\n",
       " <selenium.webdriver.remote.webelement.WebElement (session=\"882b8991802b5018e7d3750327a5efc5\", element=\"217d9f9b-56aa-489a-86a9-f46b0d9fc61f\")>,\n",
       " <selenium.webdriver.remote.webelement.WebElement (session=\"882b8991802b5018e7d3750327a5efc5\", element=\"03651441-bde6-4540-9fb1-391ef642e2ba\")>,\n",
       " <selenium.webdriver.remote.webelement.WebElement (session=\"882b8991802b5018e7d3750327a5efc5\", element=\"bed86945-948c-4fab-862f-fb6be999b567\")>,\n",
       " <selenium.webdriver.remote.webelement.WebElement (session=\"882b8991802b5018e7d3750327a5efc5\", element=\"45179351-71e5-4926-acc3-3a7aa4e1c7c3\")>,\n",
       " <selenium.webdriver.remote.webelement.WebElement (session=\"882b8991802b5018e7d3750327a5efc5\", element=\"302c9b04-84e8-402a-a758-56f795db755c\")>,\n",
       " <selenium.webdriver.remote.webelement.WebElement (session=\"882b8991802b5018e7d3750327a5efc5\", element=\"9e13d821-c70b-4036-9a97-a3fa374cda30\")>,\n",
       " <selenium.webdriver.remote.webelement.WebElement (session=\"882b8991802b5018e7d3750327a5efc5\", element=\"164744da-a468-4bd9-9f3d-730076f34182\")>,\n",
       " <selenium.webdriver.remote.webelement.WebElement (session=\"882b8991802b5018e7d3750327a5efc5\", element=\"ee56f46d-4e3e-48c0-b1bb-1efa203f8dbd\")>,\n",
       " <selenium.webdriver.remote.webelement.WebElement (session=\"882b8991802b5018e7d3750327a5efc5\", element=\"49cef27b-01fc-4c4d-a32c-1c5f714a3df6\")>,\n",
       " <selenium.webdriver.remote.webelement.WebElement (session=\"882b8991802b5018e7d3750327a5efc5\", element=\"16746601-bfc0-4c4d-94c2-9dbea9414bb5\")>,\n",
       " <selenium.webdriver.remote.webelement.WebElement (session=\"882b8991802b5018e7d3750327a5efc5\", element=\"1c8e3cc4-8920-466f-8c48-581d590b54bb\")>,\n",
       " <selenium.webdriver.remote.webelement.WebElement (session=\"882b8991802b5018e7d3750327a5efc5\", element=\"bb0fdf84-851d-4f36-bd39-940d7f72fc4a\")>,\n",
       " <selenium.webdriver.remote.webelement.WebElement (session=\"882b8991802b5018e7d3750327a5efc5\", element=\"dfcecca2-685e-4d98-807e-ee9d7f8f2536\")>,\n",
       " <selenium.webdriver.remote.webelement.WebElement (session=\"882b8991802b5018e7d3750327a5efc5\", element=\"1e0a84b9-08d0-4d8f-8501-bd018dda712a\")>,\n",
       " <selenium.webdriver.remote.webelement.WebElement (session=\"882b8991802b5018e7d3750327a5efc5\", element=\"3a90f53c-8e55-4a56-8a47-1ab74d4f2232\")>,\n",
       " <selenium.webdriver.remote.webelement.WebElement (session=\"882b8991802b5018e7d3750327a5efc5\", element=\"104b6834-21d1-4a0b-b219-1de66523f47e\")>,\n",
       " <selenium.webdriver.remote.webelement.WebElement (session=\"882b8991802b5018e7d3750327a5efc5\", element=\"425d4772-d1f8-412c-8a23-d37ad813f4e0\")>]"
      ]
     },
     "execution_count": 24,
     "metadata": {},
     "output_type": "execute_result"
    }
   ],
   "source": [
    "title_tags = driver.find_elements_by_xpath('//a[@class=\"title fw500 ellipsis\"]')\n",
    "title_tags"
   ]
  },
  {
   "cell_type": "code",
   "execution_count": 34,
   "id": "a3e4121b",
   "metadata": {},
   "outputs": [
    {
     "data": {
      "text/plain": [
       "['Data Scientist | A Fintech Organisation',\n",
       " 'Data Scientist-Onsite and offshore',\n",
       " 'Data Scientist',\n",
       " 'Data Scientist II',\n",
       " 'Opening For Data Scientist',\n",
       " 'Data & Applied Scientist',\n",
       " 'Data and applied Scientist',\n",
       " 'Data Scientist / Senior DS/ Team Lead',\n",
       " 'Data Scientist',\n",
       " 'Data Scientist (ML AI Engineer) / InfoObjects Inc.',\n",
       " 'Urgent Requirement || Data Scientist || Noida',\n",
       " 'Data Analyst / Data Scientist / Business Analytics / Fresher - MNC',\n",
       " 'Data Scientist',\n",
       " 'Data Scientist',\n",
       " 'Senior Data Scientist',\n",
       " 'Lead Data Scientist - KYC/Fraud/Marketing',\n",
       " 'Data Scientist',\n",
       " 'Data Scientist',\n",
       " 'Data Scientist',\n",
       " 'Data Scientist']"
      ]
     },
     "execution_count": 34,
     "metadata": {},
     "output_type": "execute_result"
    }
   ],
   "source": [
    "job_titles = []\n",
    "for i in title_tags:\n",
    "    job_titles.append(i.text)\n",
    "job_titles"
   ]
  },
  {
   "cell_type": "code",
   "execution_count": 35,
   "id": "9f5dfcac",
   "metadata": {},
   "outputs": [
    {
     "data": {
      "text/plain": [
       "[<selenium.webdriver.remote.webelement.WebElement (session=\"882b8991802b5018e7d3750327a5efc5\", element=\"0bd33285-0984-436a-9ef1-ac448a21f298\")>,\n",
       " <selenium.webdriver.remote.webelement.WebElement (session=\"882b8991802b5018e7d3750327a5efc5\", element=\"ddae4678-964a-4322-92ce-5fb683192ca2\")>,\n",
       " <selenium.webdriver.remote.webelement.WebElement (session=\"882b8991802b5018e7d3750327a5efc5\", element=\"2faab8cb-491b-45d9-85c1-76548170dd93\")>,\n",
       " <selenium.webdriver.remote.webelement.WebElement (session=\"882b8991802b5018e7d3750327a5efc5\", element=\"bf27d7c1-7713-4c0e-997d-f651a0ee5f0a\")>,\n",
       " <selenium.webdriver.remote.webelement.WebElement (session=\"882b8991802b5018e7d3750327a5efc5\", element=\"0d425a9b-594a-4db2-9b9a-cbf3973c92e9\")>,\n",
       " <selenium.webdriver.remote.webelement.WebElement (session=\"882b8991802b5018e7d3750327a5efc5\", element=\"54e5d99b-0033-4e47-9908-3b0ad19df92c\")>,\n",
       " <selenium.webdriver.remote.webelement.WebElement (session=\"882b8991802b5018e7d3750327a5efc5\", element=\"013a589e-a137-4ade-82eb-f43d33c2b4dc\")>,\n",
       " <selenium.webdriver.remote.webelement.WebElement (session=\"882b8991802b5018e7d3750327a5efc5\", element=\"e47b6d2e-78ed-4d36-9585-6ecb6ae8f07b\")>,\n",
       " <selenium.webdriver.remote.webelement.WebElement (session=\"882b8991802b5018e7d3750327a5efc5\", element=\"509a108f-3901-49b0-8aee-fe25e87652ec\")>,\n",
       " <selenium.webdriver.remote.webelement.WebElement (session=\"882b8991802b5018e7d3750327a5efc5\", element=\"2e8a4ad0-522c-4e6c-ac73-934436e73759\")>,\n",
       " <selenium.webdriver.remote.webelement.WebElement (session=\"882b8991802b5018e7d3750327a5efc5\", element=\"eefbf489-23e2-4d9e-b222-11e6e4b28a0c\")>,\n",
       " <selenium.webdriver.remote.webelement.WebElement (session=\"882b8991802b5018e7d3750327a5efc5\", element=\"897d703f-3fa6-4c8f-bb57-03e0a1ae1f28\")>,\n",
       " <selenium.webdriver.remote.webelement.WebElement (session=\"882b8991802b5018e7d3750327a5efc5\", element=\"55d70360-8a52-45a6-8550-947abcb04bbc\")>,\n",
       " <selenium.webdriver.remote.webelement.WebElement (session=\"882b8991802b5018e7d3750327a5efc5\", element=\"e1184fd2-e474-42b5-bc7f-288e879d1761\")>,\n",
       " <selenium.webdriver.remote.webelement.WebElement (session=\"882b8991802b5018e7d3750327a5efc5\", element=\"f0a6af91-dfde-42f0-ae37-727a3504bb0a\")>,\n",
       " <selenium.webdriver.remote.webelement.WebElement (session=\"882b8991802b5018e7d3750327a5efc5\", element=\"9fc2a030-a192-4873-966c-ebc925d71f26\")>,\n",
       " <selenium.webdriver.remote.webelement.WebElement (session=\"882b8991802b5018e7d3750327a5efc5\", element=\"bc3164b0-ba4d-4a58-9a1e-01d09d94703e\")>,\n",
       " <selenium.webdriver.remote.webelement.WebElement (session=\"882b8991802b5018e7d3750327a5efc5\", element=\"7971ee05-e790-4a7f-bee2-f8c3ff86f3ad\")>,\n",
       " <selenium.webdriver.remote.webelement.WebElement (session=\"882b8991802b5018e7d3750327a5efc5\", element=\"dc519e70-304c-49e0-b11a-86ed93124da0\")>,\n",
       " <selenium.webdriver.remote.webelement.WebElement (session=\"882b8991802b5018e7d3750327a5efc5\", element=\"9516d6b3-73aa-43e6-a91c-6c096ed9de59\")>]"
      ]
     },
     "execution_count": 35,
     "metadata": {},
     "output_type": "execute_result"
    }
   ],
   "source": [
    "company_name = driver.find_elements_by_xpath('//a[@class=\"subTitle ellipsis fleft\"]')\n",
    "company_name"
   ]
  },
  {
   "cell_type": "code",
   "execution_count": 36,
   "id": "3df4c7cc",
   "metadata": {},
   "outputs": [
    {
     "data": {
      "text/plain": [
       "['Vision Beyond Resources India Private Limited',\n",
       " 'PROKXIMITY',\n",
       " 'DECISION POINT PRIVATE LIMITED',\n",
       " 'Chegg',\n",
       " 'Care Health Insurance',\n",
       " 'Microsoft',\n",
       " 'Microsoft',\n",
       " 'NebulARC Technologies Private Limited',\n",
       " 'Cloudstrats Technologies Private Limited',\n",
       " 'INFOOBJECTS SOFTWARE ( INDIA) PRIVATE LIMITED',\n",
       " 'HCL',\n",
       " 'GABA Consultancy services',\n",
       " 'Boston Consulting Group',\n",
       " 'Stefanini',\n",
       " 'iNICU',\n",
       " 'Tide Software',\n",
       " 'BlackBuck',\n",
       " 'Country Veggie',\n",
       " 'Mahajan Imaging',\n",
       " 'Mahajan Imaging']"
      ]
     },
     "execution_count": 36,
     "metadata": {},
     "output_type": "execute_result"
    }
   ],
   "source": [
    "company = []\n",
    "for i in company_name:\n",
    "    company.append(i.text)\n",
    "company"
   ]
  },
  {
   "cell_type": "code",
   "execution_count": 37,
   "id": "f1a46640",
   "metadata": {},
   "outputs": [
    {
     "data": {
      "text/plain": [
       "[<selenium.webdriver.remote.webelement.WebElement (session=\"882b8991802b5018e7d3750327a5efc5\", element=\"755b5a8e-a804-4087-882c-7c78da7630e8\")>,\n",
       " <selenium.webdriver.remote.webelement.WebElement (session=\"882b8991802b5018e7d3750327a5efc5\", element=\"5a03b13f-8a52-45d8-886d-abd8efe5dcfc\")>,\n",
       " <selenium.webdriver.remote.webelement.WebElement (session=\"882b8991802b5018e7d3750327a5efc5\", element=\"dfc20cf8-730a-4547-aad4-3c18e0705053\")>,\n",
       " <selenium.webdriver.remote.webelement.WebElement (session=\"882b8991802b5018e7d3750327a5efc5\", element=\"4f90a381-5d92-4a2f-b89e-5c10c94d26bd\")>,\n",
       " <selenium.webdriver.remote.webelement.WebElement (session=\"882b8991802b5018e7d3750327a5efc5\", element=\"1bf182c7-b471-4be4-8394-079ea11a32e7\")>,\n",
       " <selenium.webdriver.remote.webelement.WebElement (session=\"882b8991802b5018e7d3750327a5efc5\", element=\"a823e02c-8fe3-410f-ab53-d0128ebb06e0\")>,\n",
       " <selenium.webdriver.remote.webelement.WebElement (session=\"882b8991802b5018e7d3750327a5efc5\", element=\"d6fe7689-9c91-47d4-a698-0abb2f93ba7b\")>,\n",
       " <selenium.webdriver.remote.webelement.WebElement (session=\"882b8991802b5018e7d3750327a5efc5\", element=\"6790719d-aafc-477f-9949-cc30e8145a41\")>,\n",
       " <selenium.webdriver.remote.webelement.WebElement (session=\"882b8991802b5018e7d3750327a5efc5\", element=\"83794c89-b8da-493b-bcf0-54858b937d91\")>,\n",
       " <selenium.webdriver.remote.webelement.WebElement (session=\"882b8991802b5018e7d3750327a5efc5\", element=\"fff7111d-48dc-46ba-94e9-ba92f46741ca\")>,\n",
       " <selenium.webdriver.remote.webelement.WebElement (session=\"882b8991802b5018e7d3750327a5efc5\", element=\"5eb83b6b-dc7b-4e31-8969-1053c66b78a3\")>,\n",
       " <selenium.webdriver.remote.webelement.WebElement (session=\"882b8991802b5018e7d3750327a5efc5\", element=\"c86cdc68-7afc-4ecd-8d59-a986c12aec93\")>,\n",
       " <selenium.webdriver.remote.webelement.WebElement (session=\"882b8991802b5018e7d3750327a5efc5\", element=\"d92fc4dd-4953-4c23-a1bb-2c31f3783a32\")>,\n",
       " <selenium.webdriver.remote.webelement.WebElement (session=\"882b8991802b5018e7d3750327a5efc5\", element=\"b79def31-1b71-4108-921a-8f0a1dd39955\")>,\n",
       " <selenium.webdriver.remote.webelement.WebElement (session=\"882b8991802b5018e7d3750327a5efc5\", element=\"007e5756-3ab0-4cc5-a1a7-a815e2d83038\")>,\n",
       " <selenium.webdriver.remote.webelement.WebElement (session=\"882b8991802b5018e7d3750327a5efc5\", element=\"a5ed7318-c736-4dbc-9288-86d4279225de\")>,\n",
       " <selenium.webdriver.remote.webelement.WebElement (session=\"882b8991802b5018e7d3750327a5efc5\", element=\"3a85640e-34c0-4441-98ac-5da73859287e\")>,\n",
       " <selenium.webdriver.remote.webelement.WebElement (session=\"882b8991802b5018e7d3750327a5efc5\", element=\"758d9242-a7b8-46ab-8cf0-007c3ca53e2d\")>,\n",
       " <selenium.webdriver.remote.webelement.WebElement (session=\"882b8991802b5018e7d3750327a5efc5\", element=\"4162f489-aae8-4a70-88e9-8aae36e0cef2\")>,\n",
       " <selenium.webdriver.remote.webelement.WebElement (session=\"882b8991802b5018e7d3750327a5efc5\", element=\"3947c665-a4d4-499e-9fb6-e1d8f0fe3f6f\")>]"
      ]
     },
     "execution_count": 37,
     "metadata": {},
     "output_type": "execute_result"
    }
   ],
   "source": [
    "job_locations = driver.find_elements_by_xpath('//li[@class=\"fleft grey-text br2 placeHolderLi location\"]')\n",
    "job_locations"
   ]
  },
  {
   "cell_type": "code",
   "execution_count": 38,
   "id": "d870be10",
   "metadata": {},
   "outputs": [
    {
     "data": {
      "text/plain": [
       "['Gurgaon/Gurugram',\n",
       " 'Hyderabad/Secunderabad, Pune, Chennai, Bangalore/Bengaluru, Delhi / NCR, Mumbai (All Areas)',\n",
       " 'Gurgaon/Gurugram, Chennai\\n(WFH during Covid)',\n",
       " 'Delhi / NCR',\n",
       " 'Gurgaon/Gurugram',\n",
       " 'Noida, Hyderabad/Secunderabad, Bangalore/Bengaluru',\n",
       " 'Noida, Hyderabad/Secunderabad, Bangalore/Bengaluru',\n",
       " 'Mumbai, Gurgaon/Gurugram(Cyber City +1)',\n",
       " 'New Delhi, Delhi / NCR, Mumbai (All Areas)',\n",
       " 'Indore, Jaipur, Delhi / NCR\\n(WFH during Covid)',\n",
       " 'Noida, Delhi / NCR',\n",
       " 'Noida, New Delhi, Delhi / NCR',\n",
       " 'New Delhi',\n",
       " 'Noida',\n",
       " 'Delhi',\n",
       " 'New Delhi',\n",
       " 'Gurgaon, Bengaluru',\n",
       " 'Bharuch, Jaipur, Bhopal, Mumbai, Jhansi, Nagpur, Ghaziabad, Jaunpur, Kanpur, Delhi, Lucknow, Agra, Gurgaon, Rajkot, Bengaluru',\n",
       " 'Delhi',\n",
       " 'Delhi']"
      ]
     },
     "execution_count": 38,
     "metadata": {},
     "output_type": "execute_result"
    }
   ],
   "source": [
    "location = []\n",
    "for i in job_locations:\n",
    "    location.append(i.text)\n",
    "location"
   ]
  },
  {
   "cell_type": "code",
   "execution_count": 42,
   "id": "54d36997",
   "metadata": {},
   "outputs": [],
   "source": [
    "exp_tags = driver.find_elements_by_xpath('//*[contains(@title, \"Yrs\")]')"
   ]
  },
  {
   "cell_type": "code",
   "execution_count": 43,
   "id": "8929290e",
   "metadata": {},
   "outputs": [
    {
     "data": {
      "text/plain": [
       "[<selenium.webdriver.remote.webelement.WebElement (session=\"882b8991802b5018e7d3750327a5efc5\", element=\"c6e6fb77-e8c0-4aeb-bcca-b8028d41bbcc\")>,\n",
       " <selenium.webdriver.remote.webelement.WebElement (session=\"882b8991802b5018e7d3750327a5efc5\", element=\"7fad97a0-3bf3-4203-b3a0-c2b697c75c7c\")>,\n",
       " <selenium.webdriver.remote.webelement.WebElement (session=\"882b8991802b5018e7d3750327a5efc5\", element=\"96eae1ee-8626-444b-81ae-5291b4d7f906\")>,\n",
       " <selenium.webdriver.remote.webelement.WebElement (session=\"882b8991802b5018e7d3750327a5efc5\", element=\"006cce29-6915-40e4-8821-7ebd16b894d1\")>,\n",
       " <selenium.webdriver.remote.webelement.WebElement (session=\"882b8991802b5018e7d3750327a5efc5\", element=\"af59f706-eaa8-4715-9ba3-feddb39edbf4\")>,\n",
       " <selenium.webdriver.remote.webelement.WebElement (session=\"882b8991802b5018e7d3750327a5efc5\", element=\"4a77c964-a892-4c84-98fb-4a4a816f3acc\")>,\n",
       " <selenium.webdriver.remote.webelement.WebElement (session=\"882b8991802b5018e7d3750327a5efc5\", element=\"38fb7e09-c55c-44ee-9c70-c1cc8bd980f0\")>,\n",
       " <selenium.webdriver.remote.webelement.WebElement (session=\"882b8991802b5018e7d3750327a5efc5\", element=\"d5e46b4d-a018-4996-86f3-59b1963acf12\")>,\n",
       " <selenium.webdriver.remote.webelement.WebElement (session=\"882b8991802b5018e7d3750327a5efc5\", element=\"1d831bec-d222-43dc-9f60-01427d44a2a0\")>,\n",
       " <selenium.webdriver.remote.webelement.WebElement (session=\"882b8991802b5018e7d3750327a5efc5\", element=\"b9fa4c38-5b17-4c5a-9009-63f3fcbd4948\")>,\n",
       " <selenium.webdriver.remote.webelement.WebElement (session=\"882b8991802b5018e7d3750327a5efc5\", element=\"b6f21d57-323d-4398-b851-4df037bd5e45\")>,\n",
       " <selenium.webdriver.remote.webelement.WebElement (session=\"882b8991802b5018e7d3750327a5efc5\", element=\"8ab02dba-11f5-4483-afaf-e367a117d4d7\")>,\n",
       " <selenium.webdriver.remote.webelement.WebElement (session=\"882b8991802b5018e7d3750327a5efc5\", element=\"818bc329-e8ee-4495-ad71-e472a5149840\")>,\n",
       " <selenium.webdriver.remote.webelement.WebElement (session=\"882b8991802b5018e7d3750327a5efc5\", element=\"4415c685-f714-4462-a82c-e596963c0e34\")>,\n",
       " <selenium.webdriver.remote.webelement.WebElement (session=\"882b8991802b5018e7d3750327a5efc5\", element=\"18742d7e-d844-4ccd-a30d-5ce44ee98295\")>,\n",
       " <selenium.webdriver.remote.webelement.WebElement (session=\"882b8991802b5018e7d3750327a5efc5\", element=\"edcb9608-5795-4420-9afe-8950b2b13a0c\")>,\n",
       " <selenium.webdriver.remote.webelement.WebElement (session=\"882b8991802b5018e7d3750327a5efc5\", element=\"0d3d2294-9af6-4d56-8f3f-5461c95eea37\")>,\n",
       " <selenium.webdriver.remote.webelement.WebElement (session=\"882b8991802b5018e7d3750327a5efc5\", element=\"1b8de777-8a71-4a7e-ab85-70b75d8c697a\")>,\n",
       " <selenium.webdriver.remote.webelement.WebElement (session=\"882b8991802b5018e7d3750327a5efc5\", element=\"4b6ee509-e47c-4080-a98b-4ba8f9566930\")>,\n",
       " <selenium.webdriver.remote.webelement.WebElement (session=\"882b8991802b5018e7d3750327a5efc5\", element=\"081a435a-de0c-4913-8b0f-ba5df4360557\")>]"
      ]
     },
     "execution_count": 43,
     "metadata": {},
     "output_type": "execute_result"
    }
   ],
   "source": [
    "exp_tags"
   ]
  },
  {
   "cell_type": "code",
   "execution_count": 44,
   "id": "e9561965",
   "metadata": {},
   "outputs": [
    {
     "data": {
      "text/plain": [
       "['2-7 Yrs',\n",
       " '3-8 Yrs',\n",
       " '1-6 Yrs',\n",
       " '2-6 Yrs',\n",
       " '1-5 Yrs',\n",
       " '3-7 Yrs',\n",
       " '3-7 Yrs',\n",
       " '0-4 Yrs',\n",
       " '3-5 Yrs',\n",
       " '3-7 Yrs',\n",
       " '3-8 Yrs',\n",
       " '0-0 Yrs',\n",
       " '2-5 Yrs',\n",
       " '3-8 Yrs',\n",
       " '1-5 Yrs',\n",
       " '1-6 Yrs',\n",
       " '3-7 Yrs',\n",
       " '1-3 Yrs',\n",
       " '2-6 Yrs',\n",
       " '2-6 Yrs']"
      ]
     },
     "execution_count": 44,
     "metadata": {},
     "output_type": "execute_result"
    }
   ],
   "source": [
    "experience_required =[]\n",
    "for i in exp_tags:\n",
    "    experience_required.append(i.text)\n",
    "experience_required"
   ]
  },
  {
   "cell_type": "code",
   "execution_count": 45,
   "id": "54a68068",
   "metadata": {},
   "outputs": [
    {
     "data": {
      "text/plain": [
       "(20, 20, 20, 20)"
      ]
     },
     "execution_count": 45,
     "metadata": {},
     "output_type": "execute_result"
    }
   ],
   "source": [
    "len(job_titles), len(company), len(location), len(experience_required)"
   ]
  },
  {
   "cell_type": "code",
   "execution_count": 48,
   "id": "2467690d",
   "metadata": {},
   "outputs": [],
   "source": [
    "jobs = pd.DataFrame()\n",
    "jobs['Job Titles'] = job_titles\n",
    "jobs['Company Name'] = company\n",
    "jobs[\"Job Location\"] = location\n",
    "jobs['Experience Required'] = experience_required"
   ]
  },
  {
   "cell_type": "code",
   "execution_count": 49,
   "id": "d6b314ae",
   "metadata": {},
   "outputs": [
    {
     "data": {
      "text/html": [
       "<div>\n",
       "<style scoped>\n",
       "    .dataframe tbody tr th:only-of-type {\n",
       "        vertical-align: middle;\n",
       "    }\n",
       "\n",
       "    .dataframe tbody tr th {\n",
       "        vertical-align: top;\n",
       "    }\n",
       "\n",
       "    .dataframe thead th {\n",
       "        text-align: right;\n",
       "    }\n",
       "</style>\n",
       "<table border=\"1\" class=\"dataframe\">\n",
       "  <thead>\n",
       "    <tr style=\"text-align: right;\">\n",
       "      <th></th>\n",
       "      <th>Job Titles</th>\n",
       "      <th>Company Name</th>\n",
       "      <th>Job Location</th>\n",
       "      <th>Experience Required</th>\n",
       "    </tr>\n",
       "  </thead>\n",
       "  <tbody>\n",
       "    <tr>\n",
       "      <th>0</th>\n",
       "      <td>Data Scientist | A Fintech Organisation</td>\n",
       "      <td>Vision Beyond Resources India Private Limited</td>\n",
       "      <td>Gurgaon/Gurugram</td>\n",
       "      <td>2-7 Yrs</td>\n",
       "    </tr>\n",
       "    <tr>\n",
       "      <th>1</th>\n",
       "      <td>Data Scientist-Onsite and offshore</td>\n",
       "      <td>PROKXIMITY</td>\n",
       "      <td>Hyderabad/Secunderabad, Pune, Chennai, Bangalo...</td>\n",
       "      <td>3-8 Yrs</td>\n",
       "    </tr>\n",
       "    <tr>\n",
       "      <th>2</th>\n",
       "      <td>Data Scientist</td>\n",
       "      <td>DECISION POINT PRIVATE LIMITED</td>\n",
       "      <td>Gurgaon/Gurugram, Chennai\\n(WFH during Covid)</td>\n",
       "      <td>1-6 Yrs</td>\n",
       "    </tr>\n",
       "    <tr>\n",
       "      <th>3</th>\n",
       "      <td>Data Scientist II</td>\n",
       "      <td>Chegg</td>\n",
       "      <td>Delhi / NCR</td>\n",
       "      <td>2-6 Yrs</td>\n",
       "    </tr>\n",
       "    <tr>\n",
       "      <th>4</th>\n",
       "      <td>Opening For Data Scientist</td>\n",
       "      <td>Care Health Insurance</td>\n",
       "      <td>Gurgaon/Gurugram</td>\n",
       "      <td>1-5 Yrs</td>\n",
       "    </tr>\n",
       "    <tr>\n",
       "      <th>5</th>\n",
       "      <td>Data &amp; Applied Scientist</td>\n",
       "      <td>Microsoft</td>\n",
       "      <td>Noida, Hyderabad/Secunderabad, Bangalore/Benga...</td>\n",
       "      <td>3-7 Yrs</td>\n",
       "    </tr>\n",
       "    <tr>\n",
       "      <th>6</th>\n",
       "      <td>Data and applied Scientist</td>\n",
       "      <td>Microsoft</td>\n",
       "      <td>Noida, Hyderabad/Secunderabad, Bangalore/Benga...</td>\n",
       "      <td>3-7 Yrs</td>\n",
       "    </tr>\n",
       "    <tr>\n",
       "      <th>7</th>\n",
       "      <td>Data Scientist / Senior DS/ Team Lead</td>\n",
       "      <td>NebulARC Technologies Private Limited</td>\n",
       "      <td>Mumbai, Gurgaon/Gurugram(Cyber City +1)</td>\n",
       "      <td>0-4 Yrs</td>\n",
       "    </tr>\n",
       "    <tr>\n",
       "      <th>8</th>\n",
       "      <td>Data Scientist</td>\n",
       "      <td>Cloudstrats Technologies Private Limited</td>\n",
       "      <td>New Delhi, Delhi / NCR, Mumbai (All Areas)</td>\n",
       "      <td>3-5 Yrs</td>\n",
       "    </tr>\n",
       "    <tr>\n",
       "      <th>9</th>\n",
       "      <td>Data Scientist (ML AI Engineer) / InfoObjects ...</td>\n",
       "      <td>INFOOBJECTS SOFTWARE ( INDIA) PRIVATE LIMITED</td>\n",
       "      <td>Indore, Jaipur, Delhi / NCR\\n(WFH during Covid)</td>\n",
       "      <td>3-7 Yrs</td>\n",
       "    </tr>\n",
       "    <tr>\n",
       "      <th>10</th>\n",
       "      <td>Urgent Requirement || Data Scientist || Noida</td>\n",
       "      <td>HCL</td>\n",
       "      <td>Noida, Delhi / NCR</td>\n",
       "      <td>3-8 Yrs</td>\n",
       "    </tr>\n",
       "    <tr>\n",
       "      <th>11</th>\n",
       "      <td>Data Analyst / Data Scientist / Business Analy...</td>\n",
       "      <td>GABA Consultancy services</td>\n",
       "      <td>Noida, New Delhi, Delhi / NCR</td>\n",
       "      <td>0-0 Yrs</td>\n",
       "    </tr>\n",
       "    <tr>\n",
       "      <th>12</th>\n",
       "      <td>Data Scientist</td>\n",
       "      <td>Boston Consulting Group</td>\n",
       "      <td>New Delhi</td>\n",
       "      <td>2-5 Yrs</td>\n",
       "    </tr>\n",
       "    <tr>\n",
       "      <th>13</th>\n",
       "      <td>Data Scientist</td>\n",
       "      <td>Stefanini</td>\n",
       "      <td>Noida</td>\n",
       "      <td>3-8 Yrs</td>\n",
       "    </tr>\n",
       "    <tr>\n",
       "      <th>14</th>\n",
       "      <td>Senior Data Scientist</td>\n",
       "      <td>iNICU</td>\n",
       "      <td>Delhi</td>\n",
       "      <td>1-5 Yrs</td>\n",
       "    </tr>\n",
       "    <tr>\n",
       "      <th>15</th>\n",
       "      <td>Lead Data Scientist - KYC/Fraud/Marketing</td>\n",
       "      <td>Tide Software</td>\n",
       "      <td>New Delhi</td>\n",
       "      <td>1-6 Yrs</td>\n",
       "    </tr>\n",
       "    <tr>\n",
       "      <th>16</th>\n",
       "      <td>Data Scientist</td>\n",
       "      <td>BlackBuck</td>\n",
       "      <td>Gurgaon, Bengaluru</td>\n",
       "      <td>3-7 Yrs</td>\n",
       "    </tr>\n",
       "    <tr>\n",
       "      <th>17</th>\n",
       "      <td>Data Scientist</td>\n",
       "      <td>Country Veggie</td>\n",
       "      <td>Bharuch, Jaipur, Bhopal, Mumbai, Jhansi, Nagpu...</td>\n",
       "      <td>1-3 Yrs</td>\n",
       "    </tr>\n",
       "    <tr>\n",
       "      <th>18</th>\n",
       "      <td>Data Scientist</td>\n",
       "      <td>Mahajan Imaging</td>\n",
       "      <td>Delhi</td>\n",
       "      <td>2-6 Yrs</td>\n",
       "    </tr>\n",
       "    <tr>\n",
       "      <th>19</th>\n",
       "      <td>Data Scientist</td>\n",
       "      <td>Mahajan Imaging</td>\n",
       "      <td>Delhi</td>\n",
       "      <td>2-6 Yrs</td>\n",
       "    </tr>\n",
       "  </tbody>\n",
       "</table>\n",
       "</div>"
      ],
      "text/plain": [
       "                                           Job Titles  \\\n",
       "0             Data Scientist | A Fintech Organisation   \n",
       "1                  Data Scientist-Onsite and offshore   \n",
       "2                                      Data Scientist   \n",
       "3                                   Data Scientist II   \n",
       "4                          Opening For Data Scientist   \n",
       "5                            Data & Applied Scientist   \n",
       "6                          Data and applied Scientist   \n",
       "7               Data Scientist / Senior DS/ Team Lead   \n",
       "8                                      Data Scientist   \n",
       "9   Data Scientist (ML AI Engineer) / InfoObjects ...   \n",
       "10      Urgent Requirement || Data Scientist || Noida   \n",
       "11  Data Analyst / Data Scientist / Business Analy...   \n",
       "12                                     Data Scientist   \n",
       "13                                     Data Scientist   \n",
       "14                              Senior Data Scientist   \n",
       "15          Lead Data Scientist - KYC/Fraud/Marketing   \n",
       "16                                     Data Scientist   \n",
       "17                                     Data Scientist   \n",
       "18                                     Data Scientist   \n",
       "19                                     Data Scientist   \n",
       "\n",
       "                                     Company Name  \\\n",
       "0   Vision Beyond Resources India Private Limited   \n",
       "1                                      PROKXIMITY   \n",
       "2                  DECISION POINT PRIVATE LIMITED   \n",
       "3                                           Chegg   \n",
       "4                           Care Health Insurance   \n",
       "5                                       Microsoft   \n",
       "6                                       Microsoft   \n",
       "7           NebulARC Technologies Private Limited   \n",
       "8        Cloudstrats Technologies Private Limited   \n",
       "9   INFOOBJECTS SOFTWARE ( INDIA) PRIVATE LIMITED   \n",
       "10                                            HCL   \n",
       "11                      GABA Consultancy services   \n",
       "12                        Boston Consulting Group   \n",
       "13                                      Stefanini   \n",
       "14                                          iNICU   \n",
       "15                                  Tide Software   \n",
       "16                                      BlackBuck   \n",
       "17                                 Country Veggie   \n",
       "18                                Mahajan Imaging   \n",
       "19                                Mahajan Imaging   \n",
       "\n",
       "                                         Job Location Experience Required  \n",
       "0                                    Gurgaon/Gurugram             2-7 Yrs  \n",
       "1   Hyderabad/Secunderabad, Pune, Chennai, Bangalo...             3-8 Yrs  \n",
       "2       Gurgaon/Gurugram, Chennai\\n(WFH during Covid)             1-6 Yrs  \n",
       "3                                         Delhi / NCR             2-6 Yrs  \n",
       "4                                    Gurgaon/Gurugram             1-5 Yrs  \n",
       "5   Noida, Hyderabad/Secunderabad, Bangalore/Benga...             3-7 Yrs  \n",
       "6   Noida, Hyderabad/Secunderabad, Bangalore/Benga...             3-7 Yrs  \n",
       "7             Mumbai, Gurgaon/Gurugram(Cyber City +1)             0-4 Yrs  \n",
       "8          New Delhi, Delhi / NCR, Mumbai (All Areas)             3-5 Yrs  \n",
       "9     Indore, Jaipur, Delhi / NCR\\n(WFH during Covid)             3-7 Yrs  \n",
       "10                                 Noida, Delhi / NCR             3-8 Yrs  \n",
       "11                      Noida, New Delhi, Delhi / NCR             0-0 Yrs  \n",
       "12                                          New Delhi             2-5 Yrs  \n",
       "13                                              Noida             3-8 Yrs  \n",
       "14                                              Delhi             1-5 Yrs  \n",
       "15                                          New Delhi             1-6 Yrs  \n",
       "16                                 Gurgaon, Bengaluru             3-7 Yrs  \n",
       "17  Bharuch, Jaipur, Bhopal, Mumbai, Jhansi, Nagpu...             1-3 Yrs  \n",
       "18                                              Delhi             2-6 Yrs  \n",
       "19                                              Delhi             2-6 Yrs  "
      ]
     },
     "execution_count": 49,
     "metadata": {},
     "output_type": "execute_result"
    }
   ],
   "source": [
    "jobs"
   ]
  },
  {
   "cell_type": "code",
   "execution_count": 340,
   "id": "34e7ef4d",
   "metadata": {},
   "outputs": [
    {
     "name": "stdout",
     "output_type": "stream",
     "text": [
      "Requirement already satisfied: selenium in c:\\users\\hp\\anaconda3\\lib\\site-packages (4.1.0)\n",
      "Requirement already satisfied: urllib3[secure]~=1.26 in c:\\users\\hp\\anaconda3\\lib\\site-packages (from selenium) (1.26.4)\n",
      "Requirement already satisfied: trio-websocket~=0.9 in c:\\users\\hp\\anaconda3\\lib\\site-packages (from selenium) (0.9.2)\n",
      "Requirement already satisfied: trio~=0.17 in c:\\users\\hp\\anaconda3\\lib\\site-packages (from selenium) (0.19.0)\n",
      "Requirement already satisfied: attrs>=19.2.0 in c:\\users\\hp\\anaconda3\\lib\\site-packages (from trio~=0.17->selenium) (20.3.0)\n",
      "Requirement already satisfied: outcome in c:\\users\\hp\\anaconda3\\lib\\site-packages (from trio~=0.17->selenium) (1.1.0)\n",
      "Requirement already satisfied: async-generator>=1.9 in c:\\users\\hp\\anaconda3\\lib\\site-packages (from trio~=0.17->selenium) (1.10)\n",
      "Requirement already satisfied: cffi>=1.14 in c:\\users\\hp\\anaconda3\\lib\\site-packages (from trio~=0.17->selenium) (1.14.5)\n",
      "Requirement already satisfied: sniffio in c:\\users\\hp\\anaconda3\\lib\\site-packages (from trio~=0.17->selenium) (1.2.0)\n",
      "Requirement already satisfied: sortedcontainers in c:\\users\\hp\\anaconda3\\lib\\site-packages (from trio~=0.17->selenium) (2.3.0)\n",
      "Requirement already satisfied: idna in c:\\users\\hp\\anaconda3\\lib\\site-packages (from trio~=0.17->selenium) (2.10)\n",
      "Requirement already satisfied: pycparser in c:\\users\\hp\\anaconda3\\lib\\site-packages (from cffi>=1.14->trio~=0.17->selenium) (2.20)\n",
      "Requirement already satisfied: wsproto>=0.14 in c:\\users\\hp\\anaconda3\\lib\\site-packages (from trio-websocket~=0.9->selenium) (1.0.0)\n",
      "Requirement already satisfied: pyOpenSSL>=0.14 in c:\\users\\hp\\anaconda3\\lib\\site-packages (from urllib3[secure]~=1.26->selenium) (20.0.1)\n",
      "Requirement already satisfied: cryptography>=1.3.4 in c:\\users\\hp\\anaconda3\\lib\\site-packages (from urllib3[secure]~=1.26->selenium) (3.4.7)\n",
      "Requirement already satisfied: certifi in c:\\users\\hp\\anaconda3\\lib\\site-packages (from urllib3[secure]~=1.26->selenium) (2020.12.5)\n",
      "Requirement already satisfied: six>=1.5.2 in c:\\users\\hp\\anaconda3\\lib\\site-packages (from pyOpenSSL>=0.14->urllib3[secure]~=1.26->selenium) (1.15.0)\n",
      "Requirement already satisfied: h11<1,>=0.9.0 in c:\\users\\hp\\anaconda3\\lib\\site-packages (from wsproto>=0.14->trio-websocket~=0.9->selenium) (0.13.0)\n"
     ]
    }
   ],
   "source": [
    "# Scrape data of first 100 sunglasses listings on flipkart.com. Y\n",
    "#installing selenium library\n",
    "!pip install selenium"
   ]
  },
  {
   "cell_type": "code",
   "execution_count": 341,
   "id": "78d76065",
   "metadata": {},
   "outputs": [],
   "source": [
    "import pandas as pd\n",
    "import selenium \n",
    "from selenium import webdriver\n",
    "import warnings\n",
    "warnings.filterwarnings(\"ignore\")"
   ]
  },
  {
   "cell_type": "code",
   "execution_count": 342,
   "id": "c434f532",
   "metadata": {},
   "outputs": [],
   "source": [
    "#controlling the edge browser\n",
    "driver = webdriver.Edge(executable_path = 'D:\\Brijesh\\Internship\\edgedriver_win64\\\\msedgedriver.exe')"
   ]
  },
  {
   "cell_type": "code",
   "execution_count": 348,
   "id": "18effcf7",
   "metadata": {},
   "outputs": [],
   "source": [
    "url = 'https://www.flipkart.com/'\n",
    "driver.get(url)"
   ]
  },
  {
   "cell_type": "code",
   "execution_count": 349,
   "id": "154817bf",
   "metadata": {},
   "outputs": [
    {
     "data": {
      "text/plain": [
       "<selenium.webdriver.remote.webelement.WebElement (session=\"15a2371509e19b76b3a508c002391c06\", element=\"43d10656-307f-4a36-8b23-aaac1cb84c02\")>"
      ]
     },
     "execution_count": 349,
     "metadata": {},
     "output_type": "execute_result"
    }
   ],
   "source": [
    "search_pdct = driver.find_element_by_xpath('//input[@class=\"_3704LK\"]')\n",
    "search_pdct"
   ]
  },
  {
   "cell_type": "code",
   "execution_count": 350,
   "id": "7cc5d484",
   "metadata": {},
   "outputs": [
    {
     "data": {
      "text/plain": [
       "<selenium.webdriver.remote.webelement.WebElement (session=\"15a2371509e19b76b3a508c002391c06\", element=\"43d10656-307f-4a36-8b23-aaac1cb84c02\")>"
      ]
     },
     "execution_count": 350,
     "metadata": {},
     "output_type": "execute_result"
    }
   ],
   "source": [
    "search_pdct.send_keys('sunglasses')\n",
    "search_pdct"
   ]
  },
  {
   "cell_type": "code",
   "execution_count": 351,
   "id": "5fb789d2",
   "metadata": {},
   "outputs": [],
   "source": [
    "search_btn = driver.find_element_by_class_name(\"L0Z3Pu\")\n",
    "search_btn.click()"
   ]
  },
  {
   "cell_type": "code",
   "execution_count": 352,
   "id": "88f12511",
   "metadata": {},
   "outputs": [
    {
     "data": {
      "text/plain": [
       "[<selenium.webdriver.remote.webelement.WebElement (session=\"15a2371509e19b76b3a508c002391c06\", element=\"41be1f6e-5ce8-41e4-8eb0-7a4dda63a2d6\")>,\n",
       " <selenium.webdriver.remote.webelement.WebElement (session=\"15a2371509e19b76b3a508c002391c06\", element=\"c0897193-a336-4f02-94c2-8c234dec559c\")>,\n",
       " <selenium.webdriver.remote.webelement.WebElement (session=\"15a2371509e19b76b3a508c002391c06\", element=\"c3190c5e-6c29-48e4-b6b8-c453a304dbac\")>,\n",
       " <selenium.webdriver.remote.webelement.WebElement (session=\"15a2371509e19b76b3a508c002391c06\", element=\"206bb439-2c8b-42b6-8e0c-bf07ec041679\")>,\n",
       " <selenium.webdriver.remote.webelement.WebElement (session=\"15a2371509e19b76b3a508c002391c06\", element=\"966735bd-50a6-4f0d-a400-0cbb7d3ae3d7\")>,\n",
       " <selenium.webdriver.remote.webelement.WebElement (session=\"15a2371509e19b76b3a508c002391c06\", element=\"28dd1693-7b64-4bc6-8bdf-9fd00e7d073a\")>,\n",
       " <selenium.webdriver.remote.webelement.WebElement (session=\"15a2371509e19b76b3a508c002391c06\", element=\"0de59cd6-2f35-4b90-acc3-cc959ad3c4d3\")>,\n",
       " <selenium.webdriver.remote.webelement.WebElement (session=\"15a2371509e19b76b3a508c002391c06\", element=\"5bfd1259-3710-442a-bfa8-ea974733df2b\")>,\n",
       " <selenium.webdriver.remote.webelement.WebElement (session=\"15a2371509e19b76b3a508c002391c06\", element=\"b9bb38b9-dabd-4327-aa13-2a03357d37cb\")>,\n",
       " <selenium.webdriver.remote.webelement.WebElement (session=\"15a2371509e19b76b3a508c002391c06\", element=\"d31173f9-8105-4a42-93f9-a54b93bfc8b7\")>,\n",
       " <selenium.webdriver.remote.webelement.WebElement (session=\"15a2371509e19b76b3a508c002391c06\", element=\"6e5d217c-251d-41c3-a3c3-3d5fee84fa1e\")>,\n",
       " <selenium.webdriver.remote.webelement.WebElement (session=\"15a2371509e19b76b3a508c002391c06\", element=\"babda6c2-6bc0-44db-b018-5b16cc41f5bf\")>,\n",
       " <selenium.webdriver.remote.webelement.WebElement (session=\"15a2371509e19b76b3a508c002391c06\", element=\"797977c3-521b-4273-8d2f-fbde97de7a3a\")>,\n",
       " <selenium.webdriver.remote.webelement.WebElement (session=\"15a2371509e19b76b3a508c002391c06\", element=\"4d7413bb-34f9-49bc-8d43-ee723225971f\")>,\n",
       " <selenium.webdriver.remote.webelement.WebElement (session=\"15a2371509e19b76b3a508c002391c06\", element=\"8002d181-bcc9-4082-94af-0bc45d3da8b0\")>,\n",
       " <selenium.webdriver.remote.webelement.WebElement (session=\"15a2371509e19b76b3a508c002391c06\", element=\"d32345f2-5f50-4902-a104-e6d2634656a8\")>,\n",
       " <selenium.webdriver.remote.webelement.WebElement (session=\"15a2371509e19b76b3a508c002391c06\", element=\"9b3f82d0-e96f-4cc3-b7a7-3947fd29c5d8\")>,\n",
       " <selenium.webdriver.remote.webelement.WebElement (session=\"15a2371509e19b76b3a508c002391c06\", element=\"6ccc95d4-7005-47c7-9232-089a0b80c1ff\")>,\n",
       " <selenium.webdriver.remote.webelement.WebElement (session=\"15a2371509e19b76b3a508c002391c06\", element=\"36d08aa7-d176-4295-ab2d-a976a5e9e024\")>,\n",
       " <selenium.webdriver.remote.webelement.WebElement (session=\"15a2371509e19b76b3a508c002391c06\", element=\"5aa5945c-ab16-4adf-a3e7-36522b6c4b2c\")>,\n",
       " <selenium.webdriver.remote.webelement.WebElement (session=\"15a2371509e19b76b3a508c002391c06\", element=\"693a8360-4b48-45ab-9e7a-5f64eff65ab0\")>,\n",
       " <selenium.webdriver.remote.webelement.WebElement (session=\"15a2371509e19b76b3a508c002391c06\", element=\"f6611331-4255-4be7-b042-727f668124fe\")>,\n",
       " <selenium.webdriver.remote.webelement.WebElement (session=\"15a2371509e19b76b3a508c002391c06\", element=\"481fc9bb-3b24-40f5-87a5-21034a3b6140\")>,\n",
       " <selenium.webdriver.remote.webelement.WebElement (session=\"15a2371509e19b76b3a508c002391c06\", element=\"7de11926-23ea-4cc1-bd3f-09e7d264f182\")>,\n",
       " <selenium.webdriver.remote.webelement.WebElement (session=\"15a2371509e19b76b3a508c002391c06\", element=\"a5969386-3fc4-4da9-8703-00db666cfd07\")>,\n",
       " <selenium.webdriver.remote.webelement.WebElement (session=\"15a2371509e19b76b3a508c002391c06\", element=\"730c4635-7d03-4fb3-92ed-b90a5f7a66dd\")>,\n",
       " <selenium.webdriver.remote.webelement.WebElement (session=\"15a2371509e19b76b3a508c002391c06\", element=\"c7f267f1-5d8c-4988-b8c8-0b1ff70f5ce8\")>,\n",
       " <selenium.webdriver.remote.webelement.WebElement (session=\"15a2371509e19b76b3a508c002391c06\", element=\"450bfc55-bb5c-4342-a050-2f5db877a530\")>,\n",
       " <selenium.webdriver.remote.webelement.WebElement (session=\"15a2371509e19b76b3a508c002391c06\", element=\"05c64edf-f110-4a52-b156-e125ae8a1d9b\")>,\n",
       " <selenium.webdriver.remote.webelement.WebElement (session=\"15a2371509e19b76b3a508c002391c06\", element=\"eb8e3d4b-65ee-4a0b-a0eb-0541ba977781\")>,\n",
       " <selenium.webdriver.remote.webelement.WebElement (session=\"15a2371509e19b76b3a508c002391c06\", element=\"f90a9dc9-4dc4-4bd2-8963-118f1ffc8866\")>,\n",
       " <selenium.webdriver.remote.webelement.WebElement (session=\"15a2371509e19b76b3a508c002391c06\", element=\"9c8b1ed0-e2be-4bcc-a1f4-7ac1e2bc1815\")>,\n",
       " <selenium.webdriver.remote.webelement.WebElement (session=\"15a2371509e19b76b3a508c002391c06\", element=\"8505dacf-f286-4db9-8bc2-23b08dd42d02\")>,\n",
       " <selenium.webdriver.remote.webelement.WebElement (session=\"15a2371509e19b76b3a508c002391c06\", element=\"debe5ad2-c146-486d-8c4e-f8cfe6a5781d\")>,\n",
       " <selenium.webdriver.remote.webelement.WebElement (session=\"15a2371509e19b76b3a508c002391c06\", element=\"b3fcb9a5-a525-44d5-b778-8deab902529d\")>,\n",
       " <selenium.webdriver.remote.webelement.WebElement (session=\"15a2371509e19b76b3a508c002391c06\", element=\"cbf717cb-35da-4399-aee6-389b24a82f4d\")>,\n",
       " <selenium.webdriver.remote.webelement.WebElement (session=\"15a2371509e19b76b3a508c002391c06\", element=\"0b3256c9-edd7-470f-ab45-829aa764a42a\")>,\n",
       " <selenium.webdriver.remote.webelement.WebElement (session=\"15a2371509e19b76b3a508c002391c06\", element=\"5fe4bc64-3767-4b43-a40b-4ec6077c220f\")>,\n",
       " <selenium.webdriver.remote.webelement.WebElement (session=\"15a2371509e19b76b3a508c002391c06\", element=\"70aa8018-36a0-49c5-95fb-99084d04924a\")>,\n",
       " <selenium.webdriver.remote.webelement.WebElement (session=\"15a2371509e19b76b3a508c002391c06\", element=\"6d364101-6f38-4c5d-bf9d-ec78bd77e2dc\")>]"
      ]
     },
     "execution_count": 352,
     "metadata": {},
     "output_type": "execute_result"
    }
   ],
   "source": [
    "product_name = driver.find_elements_by_xpath('//div[@class=\"_2WkVRV\"]')\n",
    "product_name"
   ]
  },
  {
   "cell_type": "code",
   "execution_count": 353,
   "id": "cd78f1aa",
   "metadata": {},
   "outputs": [
    {
     "data": {
      "text/plain": [
       "['Fastrack',\n",
       " 'Elligator',\n",
       " 'SRPM',\n",
       " 'New Specs',\n",
       " 'SUNBEE',\n",
       " 'PIRASO',\n",
       " 'SHAAH COLLECTIONS',\n",
       " 'Fastrack',\n",
       " 'kingsunglasses',\n",
       " 'ROZZETTA CRAFT',\n",
       " 'PHENOMENAL',\n",
       " 'Johaena',\n",
       " 'ROZZETTA CRAFT',\n",
       " 'Elligator',\n",
       " 'GANSTA',\n",
       " 'PHENOMENAL',\n",
       " 'PIRASO',\n",
       " 'SUNBEE',\n",
       " 'Fastrack',\n",
       " 'Elligator',\n",
       " 'PHENOMENAL',\n",
       " 'maxa',\n",
       " 'Lee Topper',\n",
       " 'Lee Topper',\n",
       " 'New Specs',\n",
       " 'kingsunglasses',\n",
       " 'New Specs',\n",
       " 'agera',\n",
       " 'Rich Club',\n",
       " 'Fastrack',\n",
       " 'Elligator',\n",
       " 'PHENOMENAL',\n",
       " 'PHENOMENAL',\n",
       " 'Rich Club',\n",
       " 'Fastrack',\n",
       " 'PIRASO',\n",
       " 'PIRASO',\n",
       " 'ROZZETTA CRAFT',\n",
       " 'Johaena',\n",
       " 'Elligator']"
      ]
     },
     "execution_count": 353,
     "metadata": {},
     "output_type": "execute_result"
    }
   ],
   "source": [
    "product = []\n",
    "for i in product_name:\n",
    "    product.append(i.text)\n",
    "product"
   ]
  },
  {
   "cell_type": "code",
   "execution_count": 354,
   "id": "02ef68f2",
   "metadata": {},
   "outputs": [
    {
     "data": {
      "text/plain": [
       "<selenium.webdriver.remote.webelement.WebElement (session=\"15a2371509e19b76b3a508c002391c06\", element=\"fe311109-5017-45e4-85f7-67b8a800ddd8\")>"
      ]
     },
     "execution_count": 354,
     "metadata": {},
     "output_type": "execute_result"
    }
   ],
   "source": [
    "next_btn = driver.find_element_by_xpath('//a[@class=\"_1LKTO3\"]')\n",
    "next_btn"
   ]
  },
  {
   "cell_type": "code",
   "execution_count": 355,
   "id": "33d70f40",
   "metadata": {},
   "outputs": [],
   "source": [
    "next_btn.click()"
   ]
  },
  {
   "cell_type": "code",
   "execution_count": 356,
   "id": "70c1b7a0",
   "metadata": {},
   "outputs": [
    {
     "data": {
      "text/plain": [
       "[<selenium.webdriver.remote.webelement.WebElement (session=\"15a2371509e19b76b3a508c002391c06\", element=\"907c2eca-85b9-4e7f-97b2-f86697bb58bc\")>,\n",
       " <selenium.webdriver.remote.webelement.WebElement (session=\"15a2371509e19b76b3a508c002391c06\", element=\"9418d135-67ff-48fe-b2da-4cfa76c548cb\")>,\n",
       " <selenium.webdriver.remote.webelement.WebElement (session=\"15a2371509e19b76b3a508c002391c06\", element=\"aee7d2d5-9f22-4c8d-9532-e7a74be14763\")>,\n",
       " <selenium.webdriver.remote.webelement.WebElement (session=\"15a2371509e19b76b3a508c002391c06\", element=\"1be30d4b-33ec-4bf3-9b08-8cb11de01cf3\")>,\n",
       " <selenium.webdriver.remote.webelement.WebElement (session=\"15a2371509e19b76b3a508c002391c06\", element=\"29eb3d36-70bc-4386-9782-17d890d8afc2\")>,\n",
       " <selenium.webdriver.remote.webelement.WebElement (session=\"15a2371509e19b76b3a508c002391c06\", element=\"4f7fdb59-6ec9-499c-b0ac-871ed0cb64f5\")>,\n",
       " <selenium.webdriver.remote.webelement.WebElement (session=\"15a2371509e19b76b3a508c002391c06\", element=\"1fd01823-a83c-43c1-ad82-1a5a3a88514c\")>,\n",
       " <selenium.webdriver.remote.webelement.WebElement (session=\"15a2371509e19b76b3a508c002391c06\", element=\"1b0173d6-ce48-4cb5-b154-fa30b25dd0fd\")>,\n",
       " <selenium.webdriver.remote.webelement.WebElement (session=\"15a2371509e19b76b3a508c002391c06\", element=\"0c2d05d4-a200-4ced-b42b-1f8938ed0e75\")>,\n",
       " <selenium.webdriver.remote.webelement.WebElement (session=\"15a2371509e19b76b3a508c002391c06\", element=\"a7dec227-90b5-4470-a940-00fad710f03e\")>,\n",
       " <selenium.webdriver.remote.webelement.WebElement (session=\"15a2371509e19b76b3a508c002391c06\", element=\"2a1bf1d9-0bf7-4b75-a10e-affce5b138a3\")>,\n",
       " <selenium.webdriver.remote.webelement.WebElement (session=\"15a2371509e19b76b3a508c002391c06\", element=\"d3c8193a-4f4c-4a5b-a007-31d91ff5f951\")>,\n",
       " <selenium.webdriver.remote.webelement.WebElement (session=\"15a2371509e19b76b3a508c002391c06\", element=\"e4a19308-0cf7-48f7-b4f9-a5e00309fe56\")>,\n",
       " <selenium.webdriver.remote.webelement.WebElement (session=\"15a2371509e19b76b3a508c002391c06\", element=\"55e3b56c-5b11-4104-86a1-d0b25d8c2069\")>,\n",
       " <selenium.webdriver.remote.webelement.WebElement (session=\"15a2371509e19b76b3a508c002391c06\", element=\"e9f47843-91f4-4fbf-b5f3-597191f7c8b6\")>,\n",
       " <selenium.webdriver.remote.webelement.WebElement (session=\"15a2371509e19b76b3a508c002391c06\", element=\"366e2c2f-84e6-4a97-8ca4-89f69eb4457c\")>,\n",
       " <selenium.webdriver.remote.webelement.WebElement (session=\"15a2371509e19b76b3a508c002391c06\", element=\"ea766721-e44c-4f35-a9d9-e03f6b8fb28f\")>,\n",
       " <selenium.webdriver.remote.webelement.WebElement (session=\"15a2371509e19b76b3a508c002391c06\", element=\"e858de87-7509-4d3e-81b6-2db88d7bad77\")>,\n",
       " <selenium.webdriver.remote.webelement.WebElement (session=\"15a2371509e19b76b3a508c002391c06\", element=\"157bb997-7eaa-41a4-8706-e1a112b049a9\")>,\n",
       " <selenium.webdriver.remote.webelement.WebElement (session=\"15a2371509e19b76b3a508c002391c06\", element=\"2d5bc9f8-f49b-4b4e-9123-bda69d61bade\")>,\n",
       " <selenium.webdriver.remote.webelement.WebElement (session=\"15a2371509e19b76b3a508c002391c06\", element=\"b503e84e-4149-4030-afc2-95ca1ceef68f\")>,\n",
       " <selenium.webdriver.remote.webelement.WebElement (session=\"15a2371509e19b76b3a508c002391c06\", element=\"a4fa7568-d4b4-4fd5-82d1-73f3a280f5b0\")>,\n",
       " <selenium.webdriver.remote.webelement.WebElement (session=\"15a2371509e19b76b3a508c002391c06\", element=\"ebeee954-5b57-447e-b126-483ed615d73a\")>,\n",
       " <selenium.webdriver.remote.webelement.WebElement (session=\"15a2371509e19b76b3a508c002391c06\", element=\"2bd232bf-c762-499e-9b3b-9882923491de\")>,\n",
       " <selenium.webdriver.remote.webelement.WebElement (session=\"15a2371509e19b76b3a508c002391c06\", element=\"936bba11-4e1f-49e4-9b9a-c088b2e25304\")>,\n",
       " <selenium.webdriver.remote.webelement.WebElement (session=\"15a2371509e19b76b3a508c002391c06\", element=\"abd3c32b-039d-4e3e-92a6-debd1110108f\")>,\n",
       " <selenium.webdriver.remote.webelement.WebElement (session=\"15a2371509e19b76b3a508c002391c06\", element=\"9752ece8-343f-49f2-b785-2ee6d961ff1b\")>,\n",
       " <selenium.webdriver.remote.webelement.WebElement (session=\"15a2371509e19b76b3a508c002391c06\", element=\"72bbbb67-e3f3-4c6d-8b04-a525d27513a2\")>,\n",
       " <selenium.webdriver.remote.webelement.WebElement (session=\"15a2371509e19b76b3a508c002391c06\", element=\"f620772a-bc13-43d0-813e-1bbe75c8ecd2\")>,\n",
       " <selenium.webdriver.remote.webelement.WebElement (session=\"15a2371509e19b76b3a508c002391c06\", element=\"eee0ea8c-1152-4a95-8ec7-fe2cb9b5ea4e\")>,\n",
       " <selenium.webdriver.remote.webelement.WebElement (session=\"15a2371509e19b76b3a508c002391c06\", element=\"9b6793f6-7142-4d99-b530-407ef77baad6\")>,\n",
       " <selenium.webdriver.remote.webelement.WebElement (session=\"15a2371509e19b76b3a508c002391c06\", element=\"c91fc4c3-2fa4-4caf-8e03-1b2288e33363\")>,\n",
       " <selenium.webdriver.remote.webelement.WebElement (session=\"15a2371509e19b76b3a508c002391c06\", element=\"57bea0f6-3bfd-448a-a56c-aabc90980663\")>,\n",
       " <selenium.webdriver.remote.webelement.WebElement (session=\"15a2371509e19b76b3a508c002391c06\", element=\"b5ae3bb2-becf-43fa-b450-2d957d2cded7\")>,\n",
       " <selenium.webdriver.remote.webelement.WebElement (session=\"15a2371509e19b76b3a508c002391c06\", element=\"61bbeef6-6dda-4a7a-94d4-6cc82af6f6f6\")>,\n",
       " <selenium.webdriver.remote.webelement.WebElement (session=\"15a2371509e19b76b3a508c002391c06\", element=\"b9786843-e7f2-4209-9bfc-75402d3c147c\")>,\n",
       " <selenium.webdriver.remote.webelement.WebElement (session=\"15a2371509e19b76b3a508c002391c06\", element=\"71c75e4a-1882-4da4-b895-ab14c07439da\")>,\n",
       " <selenium.webdriver.remote.webelement.WebElement (session=\"15a2371509e19b76b3a508c002391c06\", element=\"e42cdd43-4180-4c0f-b79f-8ee8142f3b5e\")>,\n",
       " <selenium.webdriver.remote.webelement.WebElement (session=\"15a2371509e19b76b3a508c002391c06\", element=\"66522bed-3509-4f38-aa9c-b02ddd085788\")>,\n",
       " <selenium.webdriver.remote.webelement.WebElement (session=\"15a2371509e19b76b3a508c002391c06\", element=\"2d632f16-7e01-4596-93f4-98eaaa7bfe12\")>]"
      ]
     },
     "execution_count": 356,
     "metadata": {},
     "output_type": "execute_result"
    }
   ],
   "source": [
    "product_name2= driver.find_elements_by_xpath('//div[@class=\"_2WkVRV\"]')\n",
    "product_name2"
   ]
  },
  {
   "cell_type": "code",
   "execution_count": 357,
   "id": "3158d850",
   "metadata": {},
   "outputs": [
    {
     "data": {
      "text/plain": [
       "['New Specs',\n",
       " 'Singco India',\n",
       " 'kingsunglasses',\n",
       " 'Elligator',\n",
       " 'Fastrack',\n",
       " 'PIRASO',\n",
       " 'ROYAL SON',\n",
       " 'Fastrack',\n",
       " 'kingsunglasses',\n",
       " 'ROZZETTA CRAFT',\n",
       " 'SRPM',\n",
       " 'ROYAL SON',\n",
       " 'DEIXELS',\n",
       " 'PIRASO',\n",
       " 'Fastrack',\n",
       " 'kingsunglasses',\n",
       " 'kingsunglasses',\n",
       " 'kingsunglasses',\n",
       " 'NuVew',\n",
       " 'ROZZETTA CRAFT',\n",
       " 'Badfella',\n",
       " 'hipe',\n",
       " 'Rich Club',\n",
       " 'PHENOMENAL',\n",
       " 'Lee Topper',\n",
       " 'kingsunglasses',\n",
       " 'HIPPON',\n",
       " 'Fastrack',\n",
       " 'Fastrack',\n",
       " 'Singco India',\n",
       " 'Fastrack',\n",
       " 'New Specs',\n",
       " 'New Specs',\n",
       " 'Silver Kartz',\n",
       " 'ROYAL SON',\n",
       " 'Singco India',\n",
       " 'GANSTA',\n",
       " 'kingsunglasses',\n",
       " 'Fastrack',\n",
       " 'SUNBEE']"
      ]
     },
     "execution_count": 357,
     "metadata": {},
     "output_type": "execute_result"
    }
   ],
   "source": [
    "product2 = []\n",
    "for i in product_name2:\n",
    "    product2.append(i.text)\n",
    "product2"
   ]
  },
  {
   "cell_type": "code",
   "execution_count": 358,
   "id": "7bb7072c",
   "metadata": {},
   "outputs": [
    {
     "data": {
      "text/plain": [
       "['Fastrack',\n",
       " 'Elligator',\n",
       " 'SRPM',\n",
       " 'New Specs',\n",
       " 'SUNBEE',\n",
       " 'PIRASO',\n",
       " 'SHAAH COLLECTIONS',\n",
       " 'Fastrack',\n",
       " 'kingsunglasses',\n",
       " 'ROZZETTA CRAFT',\n",
       " 'PHENOMENAL',\n",
       " 'Johaena',\n",
       " 'ROZZETTA CRAFT',\n",
       " 'Elligator',\n",
       " 'GANSTA',\n",
       " 'PHENOMENAL',\n",
       " 'PIRASO',\n",
       " 'SUNBEE',\n",
       " 'Fastrack',\n",
       " 'Elligator',\n",
       " 'PHENOMENAL',\n",
       " 'maxa',\n",
       " 'Lee Topper',\n",
       " 'Lee Topper',\n",
       " 'New Specs',\n",
       " 'kingsunglasses',\n",
       " 'New Specs',\n",
       " 'agera',\n",
       " 'Rich Club',\n",
       " 'Fastrack',\n",
       " 'Elligator',\n",
       " 'PHENOMENAL',\n",
       " 'PHENOMENAL',\n",
       " 'Rich Club',\n",
       " 'Fastrack',\n",
       " 'PIRASO',\n",
       " 'PIRASO',\n",
       " 'ROZZETTA CRAFT',\n",
       " 'Johaena',\n",
       " 'Elligator',\n",
       " 'New Specs',\n",
       " 'Singco India',\n",
       " 'kingsunglasses',\n",
       " 'Elligator',\n",
       " 'Fastrack',\n",
       " 'PIRASO',\n",
       " 'ROYAL SON',\n",
       " 'Fastrack',\n",
       " 'kingsunglasses',\n",
       " 'ROZZETTA CRAFT',\n",
       " 'SRPM',\n",
       " 'ROYAL SON',\n",
       " 'DEIXELS',\n",
       " 'PIRASO',\n",
       " 'Fastrack',\n",
       " 'kingsunglasses',\n",
       " 'kingsunglasses',\n",
       " 'kingsunglasses',\n",
       " 'NuVew',\n",
       " 'ROZZETTA CRAFT',\n",
       " 'Badfella',\n",
       " 'hipe',\n",
       " 'Rich Club',\n",
       " 'PHENOMENAL',\n",
       " 'Lee Topper',\n",
       " 'kingsunglasses',\n",
       " 'HIPPON',\n",
       " 'Fastrack',\n",
       " 'Fastrack',\n",
       " 'Singco India',\n",
       " 'Fastrack',\n",
       " 'New Specs',\n",
       " 'New Specs',\n",
       " 'Silver Kartz',\n",
       " 'ROYAL SON',\n",
       " 'Singco India',\n",
       " 'GANSTA',\n",
       " 'kingsunglasses',\n",
       " 'Fastrack',\n",
       " 'SUNBEE']"
      ]
     },
     "execution_count": 358,
     "metadata": {},
     "output_type": "execute_result"
    }
   ],
   "source": [
    "product_80 = product + product2\n",
    "product_80"
   ]
  },
  {
   "cell_type": "code",
   "execution_count": 359,
   "id": "2289b77a",
   "metadata": {},
   "outputs": [
    {
     "data": {
      "text/plain": [
       "100"
      ]
     },
     "execution_count": 359,
     "metadata": {},
     "output_type": "execute_result"
    }
   ],
   "source": [
    "len(product_100)"
   ]
  },
  {
   "cell_type": "code",
   "execution_count": 360,
   "id": "c452bcba",
   "metadata": {},
   "outputs": [],
   "source": [
    "next_btn = driver.find_element_by_xpath('/html/body/div[1]/div/div[3]/div[1]/div[2]/div[12]/div/div/nav/a[12]')\n",
    "next_btn.click()"
   ]
  },
  {
   "cell_type": "code",
   "execution_count": 361,
   "id": "2a58baaf",
   "metadata": {},
   "outputs": [
    {
     "data": {
      "text/plain": [
       "[<selenium.webdriver.remote.webelement.WebElement (session=\"15a2371509e19b76b3a508c002391c06\", element=\"84ce31bf-db61-4111-b50f-820b58baebe5\")>,\n",
       " <selenium.webdriver.remote.webelement.WebElement (session=\"15a2371509e19b76b3a508c002391c06\", element=\"d8fd1910-7617-4e8f-8f45-0b020204d1f3\")>,\n",
       " <selenium.webdriver.remote.webelement.WebElement (session=\"15a2371509e19b76b3a508c002391c06\", element=\"d2c56e1e-315d-4758-a098-c82da8919b1e\")>,\n",
       " <selenium.webdriver.remote.webelement.WebElement (session=\"15a2371509e19b76b3a508c002391c06\", element=\"4b86f7af-f288-42dc-92bf-2492ba0aa295\")>,\n",
       " <selenium.webdriver.remote.webelement.WebElement (session=\"15a2371509e19b76b3a508c002391c06\", element=\"d9da1a79-bedd-482b-900d-9cdfa5a8ec16\")>,\n",
       " <selenium.webdriver.remote.webelement.WebElement (session=\"15a2371509e19b76b3a508c002391c06\", element=\"7d96171f-572b-4c3e-92a3-14d7d4df948d\")>,\n",
       " <selenium.webdriver.remote.webelement.WebElement (session=\"15a2371509e19b76b3a508c002391c06\", element=\"5f85f974-6706-42d7-95ca-3b4e1bca76b7\")>,\n",
       " <selenium.webdriver.remote.webelement.WebElement (session=\"15a2371509e19b76b3a508c002391c06\", element=\"c588fa78-955b-4306-a12a-7f36cd402d9a\")>,\n",
       " <selenium.webdriver.remote.webelement.WebElement (session=\"15a2371509e19b76b3a508c002391c06\", element=\"50e2a581-ab9b-488a-a761-5c0a61eda2d1\")>,\n",
       " <selenium.webdriver.remote.webelement.WebElement (session=\"15a2371509e19b76b3a508c002391c06\", element=\"e8df6980-602b-43fe-b09d-848938650c52\")>,\n",
       " <selenium.webdriver.remote.webelement.WebElement (session=\"15a2371509e19b76b3a508c002391c06\", element=\"e7c6179c-06a7-4f3e-9c2c-9805096d0d88\")>,\n",
       " <selenium.webdriver.remote.webelement.WebElement (session=\"15a2371509e19b76b3a508c002391c06\", element=\"d385c5f3-2428-433f-add7-c692111c8732\")>,\n",
       " <selenium.webdriver.remote.webelement.WebElement (session=\"15a2371509e19b76b3a508c002391c06\", element=\"c29e022a-065f-488a-89be-1a83cdbb79fc\")>,\n",
       " <selenium.webdriver.remote.webelement.WebElement (session=\"15a2371509e19b76b3a508c002391c06\", element=\"3dca82c1-67f3-4cb6-9c2a-3d5888c68c91\")>,\n",
       " <selenium.webdriver.remote.webelement.WebElement (session=\"15a2371509e19b76b3a508c002391c06\", element=\"53e07a96-9c33-48ff-9202-c12027a5c50c\")>,\n",
       " <selenium.webdriver.remote.webelement.WebElement (session=\"15a2371509e19b76b3a508c002391c06\", element=\"a94911d9-9826-4531-b4b0-cc6a50a89ae5\")>,\n",
       " <selenium.webdriver.remote.webelement.WebElement (session=\"15a2371509e19b76b3a508c002391c06\", element=\"5946d514-6a94-4420-9b3d-952c389abe5c\")>,\n",
       " <selenium.webdriver.remote.webelement.WebElement (session=\"15a2371509e19b76b3a508c002391c06\", element=\"8957e062-dc94-44f2-8528-f8d9a58ec7b4\")>,\n",
       " <selenium.webdriver.remote.webelement.WebElement (session=\"15a2371509e19b76b3a508c002391c06\", element=\"c70c8f4c-a256-41f2-9485-825af8fde784\")>,\n",
       " <selenium.webdriver.remote.webelement.WebElement (session=\"15a2371509e19b76b3a508c002391c06\", element=\"83aab916-3ec8-439f-b76c-e8a18e80c6d5\")>,\n",
       " <selenium.webdriver.remote.webelement.WebElement (session=\"15a2371509e19b76b3a508c002391c06\", element=\"b3ce98cd-723e-41e3-98f6-1ad79199a5b0\")>,\n",
       " <selenium.webdriver.remote.webelement.WebElement (session=\"15a2371509e19b76b3a508c002391c06\", element=\"4fd4559e-caa6-4c95-96fb-66781231cfff\")>,\n",
       " <selenium.webdriver.remote.webelement.WebElement (session=\"15a2371509e19b76b3a508c002391c06\", element=\"6b172216-b26f-47bd-9523-251ab899bf4f\")>,\n",
       " <selenium.webdriver.remote.webelement.WebElement (session=\"15a2371509e19b76b3a508c002391c06\", element=\"26df4a7d-c099-4be5-a815-bd737329935a\")>,\n",
       " <selenium.webdriver.remote.webelement.WebElement (session=\"15a2371509e19b76b3a508c002391c06\", element=\"5498e532-d02b-47ba-b208-4a924ac7608d\")>,\n",
       " <selenium.webdriver.remote.webelement.WebElement (session=\"15a2371509e19b76b3a508c002391c06\", element=\"b2f37559-5d30-4bce-a96f-703724ca7b75\")>,\n",
       " <selenium.webdriver.remote.webelement.WebElement (session=\"15a2371509e19b76b3a508c002391c06\", element=\"5f9ff444-92e5-428e-a163-78d74bcd9e88\")>,\n",
       " <selenium.webdriver.remote.webelement.WebElement (session=\"15a2371509e19b76b3a508c002391c06\", element=\"83dab1b0-af56-4937-94e3-454de9b2c838\")>,\n",
       " <selenium.webdriver.remote.webelement.WebElement (session=\"15a2371509e19b76b3a508c002391c06\", element=\"3ba5d90a-658c-48d7-8029-6bc19a08eb51\")>,\n",
       " <selenium.webdriver.remote.webelement.WebElement (session=\"15a2371509e19b76b3a508c002391c06\", element=\"cb5cc41e-247f-4330-a27d-4fb529b86cf3\")>,\n",
       " <selenium.webdriver.remote.webelement.WebElement (session=\"15a2371509e19b76b3a508c002391c06\", element=\"93ea87c8-e521-481f-9277-b10f39b6868c\")>,\n",
       " <selenium.webdriver.remote.webelement.WebElement (session=\"15a2371509e19b76b3a508c002391c06\", element=\"433f2b4b-b8c9-48dd-a92b-064f72d0b348\")>,\n",
       " <selenium.webdriver.remote.webelement.WebElement (session=\"15a2371509e19b76b3a508c002391c06\", element=\"b89f2575-6660-4b77-b467-a4133f715e60\")>,\n",
       " <selenium.webdriver.remote.webelement.WebElement (session=\"15a2371509e19b76b3a508c002391c06\", element=\"af7a47e9-ff7b-4d00-84c7-102184dbc26a\")>,\n",
       " <selenium.webdriver.remote.webelement.WebElement (session=\"15a2371509e19b76b3a508c002391c06\", element=\"831e41a1-76a0-4781-8908-cf3db45314ec\")>,\n",
       " <selenium.webdriver.remote.webelement.WebElement (session=\"15a2371509e19b76b3a508c002391c06\", element=\"ab548e49-f1b6-44ac-ae7a-8908755155dd\")>,\n",
       " <selenium.webdriver.remote.webelement.WebElement (session=\"15a2371509e19b76b3a508c002391c06\", element=\"c4eeeb55-cc1a-490c-bbe4-3187c22aed3f\")>,\n",
       " <selenium.webdriver.remote.webelement.WebElement (session=\"15a2371509e19b76b3a508c002391c06\", element=\"b27d9fd1-2eda-42d0-8a1c-a23c95d0efad\")>,\n",
       " <selenium.webdriver.remote.webelement.WebElement (session=\"15a2371509e19b76b3a508c002391c06\", element=\"e7ece7c2-c38e-413f-8764-674a56515d78\")>,\n",
       " <selenium.webdriver.remote.webelement.WebElement (session=\"15a2371509e19b76b3a508c002391c06\", element=\"777b3ff1-9411-46eb-8d72-c0e87e34be54\")>]"
      ]
     },
     "execution_count": 361,
     "metadata": {},
     "output_type": "execute_result"
    }
   ],
   "source": [
    "product_name3 = driver.find_elements_by_xpath('//div[@class=\"_2WkVRV\"]')\n",
    "product_name3"
   ]
  },
  {
   "cell_type": "code",
   "execution_count": 362,
   "id": "120c3356",
   "metadata": {},
   "outputs": [
    {
     "data": {
      "text/plain": [
       "['AISLIN',\n",
       " 'GANSTA',\n",
       " 'SHAAH COLLECTIONS',\n",
       " 'Fastrack',\n",
       " 'NuVew',\n",
       " 'kingsunglasses',\n",
       " 'ROZZETTA CRAFT',\n",
       " 'GANSTA',\n",
       " 'Rich Club',\n",
       " 'Johaena',\n",
       " 'New Specs',\n",
       " 'AISLIN',\n",
       " 'Urbanic',\n",
       " 'Lee Topper',\n",
       " 'NuVew',\n",
       " 'PHENOMENAL',\n",
       " 'Fastrack',\n",
       " 'IDEE',\n",
       " 'PIRASO',\n",
       " 'Fastrack']"
      ]
     },
     "execution_count": 362,
     "metadata": {},
     "output_type": "execute_result"
    }
   ],
   "source": [
    "product3=[]\n",
    "for i in product_name3:\n",
    "    product3.append(i.text)\n",
    "product3[:20]"
   ]
  },
  {
   "cell_type": "code",
   "execution_count": 363,
   "id": "82fcf6d7",
   "metadata": {},
   "outputs": [
    {
     "data": {
      "text/plain": [
       "['Fastrack',\n",
       " 'Elligator',\n",
       " 'SRPM',\n",
       " 'New Specs',\n",
       " 'SUNBEE',\n",
       " 'PIRASO',\n",
       " 'SHAAH COLLECTIONS',\n",
       " 'Fastrack',\n",
       " 'kingsunglasses',\n",
       " 'ROZZETTA CRAFT',\n",
       " 'PHENOMENAL',\n",
       " 'Johaena',\n",
       " 'ROZZETTA CRAFT',\n",
       " 'Elligator',\n",
       " 'GANSTA',\n",
       " 'PHENOMENAL',\n",
       " 'PIRASO',\n",
       " 'SUNBEE',\n",
       " 'Fastrack',\n",
       " 'Elligator',\n",
       " 'PHENOMENAL',\n",
       " 'maxa',\n",
       " 'Lee Topper',\n",
       " 'Lee Topper',\n",
       " 'New Specs',\n",
       " 'kingsunglasses',\n",
       " 'New Specs',\n",
       " 'agera',\n",
       " 'Rich Club',\n",
       " 'Fastrack',\n",
       " 'Elligator',\n",
       " 'PHENOMENAL',\n",
       " 'PHENOMENAL',\n",
       " 'Rich Club',\n",
       " 'Fastrack',\n",
       " 'PIRASO',\n",
       " 'PIRASO',\n",
       " 'ROZZETTA CRAFT',\n",
       " 'Johaena',\n",
       " 'Elligator',\n",
       " 'New Specs',\n",
       " 'Singco India',\n",
       " 'kingsunglasses',\n",
       " 'Elligator',\n",
       " 'Fastrack',\n",
       " 'PIRASO',\n",
       " 'ROYAL SON',\n",
       " 'Fastrack',\n",
       " 'kingsunglasses',\n",
       " 'ROZZETTA CRAFT',\n",
       " 'SRPM',\n",
       " 'ROYAL SON',\n",
       " 'DEIXELS',\n",
       " 'PIRASO',\n",
       " 'Fastrack',\n",
       " 'kingsunglasses',\n",
       " 'kingsunglasses',\n",
       " 'kingsunglasses',\n",
       " 'NuVew',\n",
       " 'ROZZETTA CRAFT',\n",
       " 'Badfella',\n",
       " 'hipe',\n",
       " 'Rich Club',\n",
       " 'PHENOMENAL',\n",
       " 'Lee Topper',\n",
       " 'kingsunglasses',\n",
       " 'HIPPON',\n",
       " 'Fastrack',\n",
       " 'Fastrack',\n",
       " 'Singco India',\n",
       " 'Fastrack',\n",
       " 'New Specs',\n",
       " 'New Specs',\n",
       " 'Silver Kartz',\n",
       " 'ROYAL SON',\n",
       " 'Singco India',\n",
       " 'GANSTA',\n",
       " 'kingsunglasses',\n",
       " 'Fastrack',\n",
       " 'SUNBEE',\n",
       " 'AISLIN',\n",
       " 'GANSTA',\n",
       " 'SHAAH COLLECTIONS',\n",
       " 'Fastrack',\n",
       " 'NuVew',\n",
       " 'kingsunglasses',\n",
       " 'ROZZETTA CRAFT',\n",
       " 'GANSTA',\n",
       " 'Rich Club',\n",
       " 'Johaena',\n",
       " 'New Specs',\n",
       " 'AISLIN',\n",
       " 'Urbanic',\n",
       " 'Lee Topper',\n",
       " 'NuVew',\n",
       " 'PHENOMENAL',\n",
       " 'Fastrack',\n",
       " 'IDEE',\n",
       " 'PIRASO',\n",
       " 'Fastrack']"
      ]
     },
     "execution_count": 363,
     "metadata": {},
     "output_type": "execute_result"
    }
   ],
   "source": [
    "Brand =[]\n",
    "Brand = product+product2+product3[:20]\n",
    "Brand\n"
   ]
  },
  {
   "cell_type": "code",
   "execution_count": 364,
   "id": "d9b25c8a",
   "metadata": {},
   "outputs": [
    {
     "data": {
      "text/plain": [
       "100"
      ]
     },
     "execution_count": 364,
     "metadata": {},
     "output_type": "execute_result"
    }
   ],
   "source": [
    "len(Brand)"
   ]
  },
  {
   "cell_type": "code",
   "execution_count": 365,
   "id": "68e23fba",
   "metadata": {},
   "outputs": [
    {
     "data": {
      "text/plain": [
       "[<selenium.webdriver.remote.webelement.WebElement (session=\"15a2371509e19b76b3a508c002391c06\", element=\"6348e9ae-0dee-44c9-9bb4-14d9a99afd15\")>,\n",
       " <selenium.webdriver.remote.webelement.WebElement (session=\"15a2371509e19b76b3a508c002391c06\", element=\"e50d1fbb-dce8-483e-a901-a884e7d78a0b\")>,\n",
       " <selenium.webdriver.remote.webelement.WebElement (session=\"15a2371509e19b76b3a508c002391c06\", element=\"670d123b-3ecd-4c5e-807c-6497265fdf1a\")>,\n",
       " <selenium.webdriver.remote.webelement.WebElement (session=\"15a2371509e19b76b3a508c002391c06\", element=\"f708889c-040d-45d0-af74-f6b0d2201071\")>,\n",
       " <selenium.webdriver.remote.webelement.WebElement (session=\"15a2371509e19b76b3a508c002391c06\", element=\"49dd9f4e-7b03-40e8-8b7b-75e9d0d95eeb\")>,\n",
       " <selenium.webdriver.remote.webelement.WebElement (session=\"15a2371509e19b76b3a508c002391c06\", element=\"1d85ded1-eb1a-4641-92b6-e30a3348b1f1\")>,\n",
       " <selenium.webdriver.remote.webelement.WebElement (session=\"15a2371509e19b76b3a508c002391c06\", element=\"4a652a13-38e8-473f-8a1c-a391b598ad33\")>,\n",
       " <selenium.webdriver.remote.webelement.WebElement (session=\"15a2371509e19b76b3a508c002391c06\", element=\"008346d2-1d8e-4e3d-aac1-d0683a3f957e\")>,\n",
       " <selenium.webdriver.remote.webelement.WebElement (session=\"15a2371509e19b76b3a508c002391c06\", element=\"21faa653-53b9-465d-98c3-7e0e51701488\")>,\n",
       " <selenium.webdriver.remote.webelement.WebElement (session=\"15a2371509e19b76b3a508c002391c06\", element=\"849de8c8-accf-4525-9196-0c6499410210\")>,\n",
       " <selenium.webdriver.remote.webelement.WebElement (session=\"15a2371509e19b76b3a508c002391c06\", element=\"cc055aa6-317a-45aa-a995-1a809411202a\")>,\n",
       " <selenium.webdriver.remote.webelement.WebElement (session=\"15a2371509e19b76b3a508c002391c06\", element=\"300a3263-e34d-4748-88c9-5956bcc4de07\")>,\n",
       " <selenium.webdriver.remote.webelement.WebElement (session=\"15a2371509e19b76b3a508c002391c06\", element=\"c018471a-b379-4a6e-8111-ccc521ffcf6c\")>,\n",
       " <selenium.webdriver.remote.webelement.WebElement (session=\"15a2371509e19b76b3a508c002391c06\", element=\"7057cb87-a761-407f-8fd6-b043ec3d474e\")>,\n",
       " <selenium.webdriver.remote.webelement.WebElement (session=\"15a2371509e19b76b3a508c002391c06\", element=\"bf6ed1a1-cf9e-49fa-b4b6-af034dfc171b\")>,\n",
       " <selenium.webdriver.remote.webelement.WebElement (session=\"15a2371509e19b76b3a508c002391c06\", element=\"86b1af4b-34d2-4bcb-836d-0accb7a2f27d\")>,\n",
       " <selenium.webdriver.remote.webelement.WebElement (session=\"15a2371509e19b76b3a508c002391c06\", element=\"d1465d54-12f4-4f6d-87b6-1b5f3c4bb8a9\")>,\n",
       " <selenium.webdriver.remote.webelement.WebElement (session=\"15a2371509e19b76b3a508c002391c06\", element=\"9fdd0bfa-7d28-4a12-9a7c-2334d58fd072\")>,\n",
       " <selenium.webdriver.remote.webelement.WebElement (session=\"15a2371509e19b76b3a508c002391c06\", element=\"e01f5e27-6185-4051-a2d1-c3e0a71f1357\")>,\n",
       " <selenium.webdriver.remote.webelement.WebElement (session=\"15a2371509e19b76b3a508c002391c06\", element=\"a52dc978-e383-44ee-ae11-df60645f9c25\")>,\n",
       " <selenium.webdriver.remote.webelement.WebElement (session=\"15a2371509e19b76b3a508c002391c06\", element=\"a1787feb-db6c-40f7-b53d-e41084898937\")>,\n",
       " <selenium.webdriver.remote.webelement.WebElement (session=\"15a2371509e19b76b3a508c002391c06\", element=\"a8993ca1-23fa-4fb4-94eb-f8dbaa98c82f\")>,\n",
       " <selenium.webdriver.remote.webelement.WebElement (session=\"15a2371509e19b76b3a508c002391c06\", element=\"dff03d12-7c1d-4261-ae01-3d38c2f0fb6b\")>,\n",
       " <selenium.webdriver.remote.webelement.WebElement (session=\"15a2371509e19b76b3a508c002391c06\", element=\"e4ae86c0-aeb3-4425-8f40-72268768a0ae\")>,\n",
       " <selenium.webdriver.remote.webelement.WebElement (session=\"15a2371509e19b76b3a508c002391c06\", element=\"ab33f459-3e45-4d28-8aeb-2ec90a8c52ea\")>,\n",
       " <selenium.webdriver.remote.webelement.WebElement (session=\"15a2371509e19b76b3a508c002391c06\", element=\"af908219-d119-4c7e-a5ca-2a1a5e2006e2\")>,\n",
       " <selenium.webdriver.remote.webelement.WebElement (session=\"15a2371509e19b76b3a508c002391c06\", element=\"a31db7c1-0eeb-43e2-867b-4763f33ee95b\")>,\n",
       " <selenium.webdriver.remote.webelement.WebElement (session=\"15a2371509e19b76b3a508c002391c06\", element=\"6c78d198-f82c-4724-8dc9-ab6fe43e3dd2\")>,\n",
       " <selenium.webdriver.remote.webelement.WebElement (session=\"15a2371509e19b76b3a508c002391c06\", element=\"275ae0dd-5675-4579-8aa6-a5dfc1a35b72\")>,\n",
       " <selenium.webdriver.remote.webelement.WebElement (session=\"15a2371509e19b76b3a508c002391c06\", element=\"2677c970-e01d-429f-b702-74312dc29cbf\")>,\n",
       " <selenium.webdriver.remote.webelement.WebElement (session=\"15a2371509e19b76b3a508c002391c06\", element=\"38a6f3a2-c217-479e-8e97-ccf71fc77442\")>,\n",
       " <selenium.webdriver.remote.webelement.WebElement (session=\"15a2371509e19b76b3a508c002391c06\", element=\"c1c49a49-7816-4353-b833-cb353284c3f1\")>,\n",
       " <selenium.webdriver.remote.webelement.WebElement (session=\"15a2371509e19b76b3a508c002391c06\", element=\"48b7bb74-ad51-4117-9e49-0576d3a0c5ff\")>,\n",
       " <selenium.webdriver.remote.webelement.WebElement (session=\"15a2371509e19b76b3a508c002391c06\", element=\"9b0b5448-9b1b-4909-a0be-1ba875e6e810\")>,\n",
       " <selenium.webdriver.remote.webelement.WebElement (session=\"15a2371509e19b76b3a508c002391c06\", element=\"d8af08c2-f316-45b5-a904-e9cc1ff97880\")>,\n",
       " <selenium.webdriver.remote.webelement.WebElement (session=\"15a2371509e19b76b3a508c002391c06\", element=\"24cf3286-a092-44cf-974c-8b6e65ab389a\")>,\n",
       " <selenium.webdriver.remote.webelement.WebElement (session=\"15a2371509e19b76b3a508c002391c06\", element=\"64338467-cab7-4d36-8c72-828efdb6f8a5\")>,\n",
       " <selenium.webdriver.remote.webelement.WebElement (session=\"15a2371509e19b76b3a508c002391c06\", element=\"eff1d9e1-f062-4830-97af-1fa57bac5808\")>,\n",
       " <selenium.webdriver.remote.webelement.WebElement (session=\"15a2371509e19b76b3a508c002391c06\", element=\"1eb2af7f-d97a-4146-b1be-2ca60d8a907c\")>,\n",
       " <selenium.webdriver.remote.webelement.WebElement (session=\"15a2371509e19b76b3a508c002391c06\", element=\"1bab72c2-8a0e-46ed-8bac-0226dce51552\")>]"
      ]
     },
     "execution_count": 365,
     "metadata": {},
     "output_type": "execute_result"
    }
   ],
   "source": [
    "#getting product description\n",
    "pd1 = driver.find_elements_by_class_name(\"IRpwTa\")\n",
    "pd1"
   ]
  },
  {
   "cell_type": "code",
   "execution_count": 366,
   "id": "4c81e80a",
   "metadata": {},
   "outputs": [
    {
     "data": {
      "text/plain": [
       "['UV Protection, Gradient Cat-eye Sunglasses (58)',\n",
       " 'UV Protection Aviator Sunglasses (57)',\n",
       " 'UV Protection Round Sunglasses (Free Size)',\n",
       " 'UV Protection Wayfarer Sunglasses (Free Size)',\n",
       " 'UV Protection Retro Square, Wayfarer Sunglasses (58)',\n",
       " 'UV Protection Round Sunglasses (Free Size)',\n",
       " 'UV Protection, Riding Glasses Rectangular Sunglasses (F...',\n",
       " 'UV Protection, Riding Glasses Wayfarer Sunglasses (53)',\n",
       " 'Polarized Round Sunglasses (48)',\n",
       " 'Riding Glasses, UV Protection Oval Sunglasses (48)',\n",
       " 'UV Protection, Mirrored Sports Sunglasses (Free Size)',\n",
       " 'UV Protection, Gradient Butterfly, Retro Square Sunglas...',\n",
       " 'Others Retro Square Sunglasses (Free Size)',\n",
       " 'Riding Glasses Wrap-around Sunglasses (Free Size)',\n",
       " 'UV Protection Sports Sunglasses (62)',\n",
       " 'UV Protection, Mirrored Round Sunglasses (Free Size)',\n",
       " 'UV Protection Sports Sunglasses (Free Size)',\n",
       " 'Mirrored, UV Protection Wayfarer Sunglasses (18)',\n",
       " 'Mirrored Aviator Sunglasses (32)',\n",
       " 'UV Protection Round Sunglasses (52)',\n",
       " 'UV Protection Over-sized Sunglasses (57)',\n",
       " 'UV Protection Aviator Sunglasses (58)',\n",
       " 'UV Protection Aviator Sunglasses (Free Size)',\n",
       " 'UV Protection Cat-eye Sunglasses (54)',\n",
       " 'UV Protection, Gradient Retro Square Sunglasses (Free S...',\n",
       " 'UV Protection, Gradient Butterfly, Retro Square Sunglas...',\n",
       " 'UV Protection, Mirrored Round Sunglasses (Free Size)',\n",
       " 'UV Protection Wayfarer Sunglasses (Free Size)',\n",
       " 'UV Protection Aviator Sunglasses (59)',\n",
       " 'UV Protection Aviator Sunglasses (50)',\n",
       " 'UV Protection Wayfarer Sunglasses (Free Size)',\n",
       " 'Mirrored Aviator Sunglasses (55)',\n",
       " 'UV Protection Sports Sunglasses (63)',\n",
       " 'Others Retro Square Sunglasses (Free Size)',\n",
       " 'UV Protection Wayfarer Sunglasses (50)',\n",
       " 'UV Protection, Riding Glasses Rectangular, Retro Square...',\n",
       " 'UV Protection, Mirrored Retro Square Sunglasses (53)',\n",
       " 'UV Protection, Gradient Cat-eye Sunglasses (61)',\n",
       " 'UV Protection, Mirrored Aviator Sunglasses (Free Size)',\n",
       " 'Polarized Wayfarer Sunglasses (Free Size)']"
      ]
     },
     "execution_count": 366,
     "metadata": {},
     "output_type": "execute_result"
    }
   ],
   "source": [
    "product1=[]\n",
    "for i in pd1:\n",
    "    product1.append(i.text)\n",
    "product1"
   ]
  },
  {
   "cell_type": "code",
   "execution_count": 367,
   "id": "b9d1b84c",
   "metadata": {},
   "outputs": [
    {
     "data": {
      "text/plain": [
       "<selenium.webdriver.remote.webelement.WebElement (session=\"15a2371509e19b76b3a508c002391c06\", element=\"42268128-67c2-4b07-8fb6-4d86e6055a47\")>"
      ]
     },
     "execution_count": 367,
     "metadata": {},
     "output_type": "execute_result"
    }
   ],
   "source": [
    "#clicking next button\n",
    "next_btn = driver.find_element_by_xpath('//a[@class=\"_1LKTO3\"]')\n",
    "next_btn"
   ]
  },
  {
   "cell_type": "code",
   "execution_count": 368,
   "id": "af5c6096",
   "metadata": {},
   "outputs": [],
   "source": [
    "next_btn.click()"
   ]
  },
  {
   "cell_type": "code",
   "execution_count": 369,
   "id": "ccba76cf",
   "metadata": {},
   "outputs": [
    {
     "data": {
      "text/plain": [
       "[<selenium.webdriver.remote.webelement.WebElement (session=\"15a2371509e19b76b3a508c002391c06\", element=\"19ef79ec-c06c-4ab2-a876-a9f40723e9d9\")>,\n",
       " <selenium.webdriver.remote.webelement.WebElement (session=\"15a2371509e19b76b3a508c002391c06\", element=\"5fb6960d-01ea-4341-b63f-a87f10f670ad\")>,\n",
       " <selenium.webdriver.remote.webelement.WebElement (session=\"15a2371509e19b76b3a508c002391c06\", element=\"39da0b73-a707-4cff-8953-5e36835c6bba\")>,\n",
       " <selenium.webdriver.remote.webelement.WebElement (session=\"15a2371509e19b76b3a508c002391c06\", element=\"8bcd7899-2b86-450c-a783-1af4a135e11b\")>,\n",
       " <selenium.webdriver.remote.webelement.WebElement (session=\"15a2371509e19b76b3a508c002391c06\", element=\"9ad95f8e-43d6-46ad-adde-4b97cba8dfca\")>,\n",
       " <selenium.webdriver.remote.webelement.WebElement (session=\"15a2371509e19b76b3a508c002391c06\", element=\"74ccc809-d66f-4931-8fa2-134b78447f09\")>,\n",
       " <selenium.webdriver.remote.webelement.WebElement (session=\"15a2371509e19b76b3a508c002391c06\", element=\"800574e0-528d-45fe-93eb-2ca767d6c8bd\")>,\n",
       " <selenium.webdriver.remote.webelement.WebElement (session=\"15a2371509e19b76b3a508c002391c06\", element=\"1b19fa81-5867-489f-8bb9-2c2964d16177\")>,\n",
       " <selenium.webdriver.remote.webelement.WebElement (session=\"15a2371509e19b76b3a508c002391c06\", element=\"27602d18-f62b-4a3f-a0a7-0bd6b2aaa277\")>,\n",
       " <selenium.webdriver.remote.webelement.WebElement (session=\"15a2371509e19b76b3a508c002391c06\", element=\"6c908f18-e56a-4fb4-8a2e-7dcb23b79d9c\")>,\n",
       " <selenium.webdriver.remote.webelement.WebElement (session=\"15a2371509e19b76b3a508c002391c06\", element=\"c05af995-1364-46b0-a038-9fd60bdcd9d4\")>,\n",
       " <selenium.webdriver.remote.webelement.WebElement (session=\"15a2371509e19b76b3a508c002391c06\", element=\"0a568c72-a1a3-4582-8815-734683a27e2b\")>,\n",
       " <selenium.webdriver.remote.webelement.WebElement (session=\"15a2371509e19b76b3a508c002391c06\", element=\"a0f0e15c-d4b5-4a05-a24e-a90b2194334b\")>,\n",
       " <selenium.webdriver.remote.webelement.WebElement (session=\"15a2371509e19b76b3a508c002391c06\", element=\"c852bb49-ce3b-4d10-b28f-ddbed3ba47c8\")>,\n",
       " <selenium.webdriver.remote.webelement.WebElement (session=\"15a2371509e19b76b3a508c002391c06\", element=\"60406882-e757-4dda-a249-53789f34d635\")>,\n",
       " <selenium.webdriver.remote.webelement.WebElement (session=\"15a2371509e19b76b3a508c002391c06\", element=\"2b8a2423-0c9f-46a6-b4c5-c710f64cb181\")>,\n",
       " <selenium.webdriver.remote.webelement.WebElement (session=\"15a2371509e19b76b3a508c002391c06\", element=\"3b3e0559-caa5-4863-983b-5a61b0198f4e\")>,\n",
       " <selenium.webdriver.remote.webelement.WebElement (session=\"15a2371509e19b76b3a508c002391c06\", element=\"3ee43189-2730-4995-af99-0cefa5e2ce20\")>,\n",
       " <selenium.webdriver.remote.webelement.WebElement (session=\"15a2371509e19b76b3a508c002391c06\", element=\"256c88d5-0ad3-4ce0-8eab-28771f376364\")>,\n",
       " <selenium.webdriver.remote.webelement.WebElement (session=\"15a2371509e19b76b3a508c002391c06\", element=\"21e52670-bb2a-4142-a86c-4e707b287ddc\")>,\n",
       " <selenium.webdriver.remote.webelement.WebElement (session=\"15a2371509e19b76b3a508c002391c06\", element=\"2fd25783-c2fa-4344-89b5-e76018963a37\")>,\n",
       " <selenium.webdriver.remote.webelement.WebElement (session=\"15a2371509e19b76b3a508c002391c06\", element=\"60897c7b-e20c-4da7-898f-6270806eb530\")>,\n",
       " <selenium.webdriver.remote.webelement.WebElement (session=\"15a2371509e19b76b3a508c002391c06\", element=\"98469a72-baa9-4061-850d-7f70eeed4336\")>,\n",
       " <selenium.webdriver.remote.webelement.WebElement (session=\"15a2371509e19b76b3a508c002391c06\", element=\"f2112f79-2756-4bfc-8f08-d6cb2111436d\")>,\n",
       " <selenium.webdriver.remote.webelement.WebElement (session=\"15a2371509e19b76b3a508c002391c06\", element=\"d633af32-01bf-4b7b-9ea4-a417b8db35c6\")>,\n",
       " <selenium.webdriver.remote.webelement.WebElement (session=\"15a2371509e19b76b3a508c002391c06\", element=\"b6b48313-09f5-4c5e-a190-eb2507384c8a\")>,\n",
       " <selenium.webdriver.remote.webelement.WebElement (session=\"15a2371509e19b76b3a508c002391c06\", element=\"18324353-c9e8-49ea-8bab-7cc408991607\")>,\n",
       " <selenium.webdriver.remote.webelement.WebElement (session=\"15a2371509e19b76b3a508c002391c06\", element=\"5a907e6b-092c-4b34-8cce-c2d6204408eb\")>,\n",
       " <selenium.webdriver.remote.webelement.WebElement (session=\"15a2371509e19b76b3a508c002391c06\", element=\"b112b8b3-7f42-4783-b999-0b3b20a0fa24\")>,\n",
       " <selenium.webdriver.remote.webelement.WebElement (session=\"15a2371509e19b76b3a508c002391c06\", element=\"1f0f6a25-86e6-4903-a400-3edc958b8f87\")>,\n",
       " <selenium.webdriver.remote.webelement.WebElement (session=\"15a2371509e19b76b3a508c002391c06\", element=\"7a7be2d2-fab5-479b-bd50-76a6317a3274\")>,\n",
       " <selenium.webdriver.remote.webelement.WebElement (session=\"15a2371509e19b76b3a508c002391c06\", element=\"9014673e-54f8-42b1-9dba-d62465d7043e\")>,\n",
       " <selenium.webdriver.remote.webelement.WebElement (session=\"15a2371509e19b76b3a508c002391c06\", element=\"6d4c16fd-6cef-4dee-bc84-674cf3019a4f\")>,\n",
       " <selenium.webdriver.remote.webelement.WebElement (session=\"15a2371509e19b76b3a508c002391c06\", element=\"bc487582-df64-433e-998e-82edec14681e\")>,\n",
       " <selenium.webdriver.remote.webelement.WebElement (session=\"15a2371509e19b76b3a508c002391c06\", element=\"8eaf0aa2-bdfb-4aac-9d79-f05dede68b77\")>,\n",
       " <selenium.webdriver.remote.webelement.WebElement (session=\"15a2371509e19b76b3a508c002391c06\", element=\"a9292613-e33d-40e4-8a10-87aa745800c9\")>,\n",
       " <selenium.webdriver.remote.webelement.WebElement (session=\"15a2371509e19b76b3a508c002391c06\", element=\"6c8c343a-1567-4354-a669-8a031e92368a\")>,\n",
       " <selenium.webdriver.remote.webelement.WebElement (session=\"15a2371509e19b76b3a508c002391c06\", element=\"768ae883-393f-4978-a149-f88959ff11a2\")>,\n",
       " <selenium.webdriver.remote.webelement.WebElement (session=\"15a2371509e19b76b3a508c002391c06\", element=\"ecbd7bf2-503b-4e0b-b64d-afa6333093ef\")>,\n",
       " <selenium.webdriver.remote.webelement.WebElement (session=\"15a2371509e19b76b3a508c002391c06\", element=\"d89af45a-d038-410c-bcb1-4e4adf0645f7\")>]"
      ]
     },
     "execution_count": 369,
     "metadata": {},
     "output_type": "execute_result"
    }
   ],
   "source": [
    "pd2 = driver.find_elements_by_class_name(\"IRpwTa\")\n",
    "pd2"
   ]
  },
  {
   "cell_type": "code",
   "execution_count": 370,
   "id": "eca90a8d",
   "metadata": {},
   "outputs": [
    {
     "data": {
      "text/plain": [
       "['UV Protection Round Sunglasses (Free Size)',\n",
       " 'UV Protection, Riding Glasses, Others Aviator, Wayfarer...',\n",
       " 'UV Protection, Night Vision Wayfarer Sunglasses (Free S...',\n",
       " 'UV Protection Retro Square, Round Sunglasses (54)',\n",
       " 'UV Protection Aviator Sunglasses (Free Size)',\n",
       " 'UV Protection Butterfly Sunglasses (65)',\n",
       " 'Mirrored Aviator Sunglasses (55)',\n",
       " 'UV Protection Shield Sunglasses (Free Size)',\n",
       " 'UV Protection, Others Round, Aviator Sunglasses (54)',\n",
       " 'UV Protection, Gradient Round Sunglasses (Free Size)',\n",
       " 'Night Vision, UV Protection Round Sunglasses (54)',\n",
       " 'UV Protection, Gradient Butterfly Sunglasses (57)',\n",
       " 'UV Protection Aviator, Wayfarer Sunglasses (Free Size)',\n",
       " 'UV Protection Aviator Sunglasses (Free Size)',\n",
       " 'UV Protection Aviator Sunglasses (Free Size)',\n",
       " 'Mirrored, UV Protection Wayfarer Sunglasses (Free Size)',\n",
       " 'UV Protection, Riding Glasses, Mirrored Wayfarer Sungla...',\n",
       " 'Mirrored, UV Protection Aviator Sunglasses (56)',\n",
       " 'UV Protection, Mirrored Sports Sunglasses (62)',\n",
       " 'UV Protection Aviator Sunglasses (62)',\n",
       " 'Polarized, UV Protection Retro Square Sunglasses (53)',\n",
       " 'Mirrored, Gradient, Riding Glasses Round Sunglasses (55...',\n",
       " 'UV Protection, Mirrored, Gradient Round Sunglasses (51)',\n",
       " 'UV Protection, Mirrored Clubmaster Sunglasses (Free Siz...',\n",
       " 'UV Protection, Riding Glasses Retro Square, Spectacle ...',\n",
       " 'UV Protection Rectangular Sunglasses (55)',\n",
       " 'UV Protection Round Sunglasses (55)',\n",
       " 'UV Protection Wayfarer Sunglasses (Free Size)',\n",
       " 'Polarized Retro Square Sunglasses (Free Size)',\n",
       " 'Gradient, Toughened Glass Lens, UV Protection Retro Squ...',\n",
       " 'UV Protection Aviator Sunglasses (58)',\n",
       " 'UV Protection Rectangular Sunglasses (Free Size)',\n",
       " 'UV Protection Rectangular Sunglasses (Free Size)',\n",
       " 'UV Protection Oval Sunglasses (56)',\n",
       " 'Mirrored Aviator Sunglasses (Free Size)',\n",
       " 'Riding Glasses, UV Protection, Others Aviator Sunglasse...',\n",
       " 'Night Vision, Riding Glasses Wayfarer Sunglasses (53)',\n",
       " 'UV Protection, Mirrored Round Sunglasses (54)',\n",
       " 'UV Protection Aviator Sunglasses (Free Size)',\n",
       " 'UV Protection, Polarized, Mirrored Wayfarer Sunglasses ...']"
      ]
     },
     "execution_count": 370,
     "metadata": {},
     "output_type": "execute_result"
    }
   ],
   "source": [
    "product2=[]\n",
    "for i in pd2:\n",
    "    product2.append(i.text)\n",
    "product2"
   ]
  },
  {
   "cell_type": "code",
   "execution_count": 371,
   "id": "455ee25b",
   "metadata": {},
   "outputs": [],
   "source": [
    "next_btn = driver.find_element_by_xpath('/html/body/div[1]/div/div[3]/div[1]/div[2]/div[12]/div/div/nav/a[12]')\n",
    "next_btn.click()"
   ]
  },
  {
   "cell_type": "code",
   "execution_count": 372,
   "id": "82259eba",
   "metadata": {},
   "outputs": [
    {
     "data": {
      "text/plain": [
       "[<selenium.webdriver.remote.webelement.WebElement (session=\"15a2371509e19b76b3a508c002391c06\", element=\"b7f29dc3-dd67-44d3-a1d9-fc5e9bd12476\")>,\n",
       " <selenium.webdriver.remote.webelement.WebElement (session=\"15a2371509e19b76b3a508c002391c06\", element=\"663b6600-f61e-4b6e-80df-0ddf66ec6902\")>,\n",
       " <selenium.webdriver.remote.webelement.WebElement (session=\"15a2371509e19b76b3a508c002391c06\", element=\"e4b2c325-0427-4b7f-ae97-ed2f7721de3b\")>,\n",
       " <selenium.webdriver.remote.webelement.WebElement (session=\"15a2371509e19b76b3a508c002391c06\", element=\"e7d1e606-9157-4a25-a4f6-0f64317220d3\")>,\n",
       " <selenium.webdriver.remote.webelement.WebElement (session=\"15a2371509e19b76b3a508c002391c06\", element=\"c7c2186c-f8cd-4e5d-b01e-2f700610a9ce\")>,\n",
       " <selenium.webdriver.remote.webelement.WebElement (session=\"15a2371509e19b76b3a508c002391c06\", element=\"b5307fff-254f-49ea-8def-1b4ba8464668\")>,\n",
       " <selenium.webdriver.remote.webelement.WebElement (session=\"15a2371509e19b76b3a508c002391c06\", element=\"2a0dc518-46b7-4e9b-8716-45bbe2b9e4cf\")>,\n",
       " <selenium.webdriver.remote.webelement.WebElement (session=\"15a2371509e19b76b3a508c002391c06\", element=\"cd3c4c33-82da-4e8c-a2f4-614c6d6e4adf\")>,\n",
       " <selenium.webdriver.remote.webelement.WebElement (session=\"15a2371509e19b76b3a508c002391c06\", element=\"bc909618-ea35-4f3a-b954-f9f40148d194\")>,\n",
       " <selenium.webdriver.remote.webelement.WebElement (session=\"15a2371509e19b76b3a508c002391c06\", element=\"93120bf0-a818-4f05-94ec-6ef41a88f9c0\")>,\n",
       " <selenium.webdriver.remote.webelement.WebElement (session=\"15a2371509e19b76b3a508c002391c06\", element=\"46427a97-32bc-41f4-873e-b540caf0adbf\")>,\n",
       " <selenium.webdriver.remote.webelement.WebElement (session=\"15a2371509e19b76b3a508c002391c06\", element=\"f4a91ad4-3136-4b8f-807f-4e195707b598\")>,\n",
       " <selenium.webdriver.remote.webelement.WebElement (session=\"15a2371509e19b76b3a508c002391c06\", element=\"a7e6ac48-7227-431c-95e7-f8db8d5898ed\")>,\n",
       " <selenium.webdriver.remote.webelement.WebElement (session=\"15a2371509e19b76b3a508c002391c06\", element=\"f77ec267-4802-4c00-9247-3eeedfd30f01\")>,\n",
       " <selenium.webdriver.remote.webelement.WebElement (session=\"15a2371509e19b76b3a508c002391c06\", element=\"513954dd-4087-46af-a810-db8a76e39959\")>,\n",
       " <selenium.webdriver.remote.webelement.WebElement (session=\"15a2371509e19b76b3a508c002391c06\", element=\"51570acc-b11f-43af-a6fa-6707bab78745\")>,\n",
       " <selenium.webdriver.remote.webelement.WebElement (session=\"15a2371509e19b76b3a508c002391c06\", element=\"197282bf-e5b8-44e8-bb52-53a780beb672\")>,\n",
       " <selenium.webdriver.remote.webelement.WebElement (session=\"15a2371509e19b76b3a508c002391c06\", element=\"5d80b1e5-1c2e-4b74-b126-6bdbf9832f50\")>,\n",
       " <selenium.webdriver.remote.webelement.WebElement (session=\"15a2371509e19b76b3a508c002391c06\", element=\"af25b0d8-c292-4f9a-8474-266e6a6fa1ef\")>,\n",
       " <selenium.webdriver.remote.webelement.WebElement (session=\"15a2371509e19b76b3a508c002391c06\", element=\"b9968838-b86f-4292-a567-2151c4b9d97b\")>,\n",
       " <selenium.webdriver.remote.webelement.WebElement (session=\"15a2371509e19b76b3a508c002391c06\", element=\"2da81bb1-8e01-4e53-b2f5-9b3d4ddfad05\")>,\n",
       " <selenium.webdriver.remote.webelement.WebElement (session=\"15a2371509e19b76b3a508c002391c06\", element=\"71450cb7-95d1-4ca0-99ee-9625369082f7\")>,\n",
       " <selenium.webdriver.remote.webelement.WebElement (session=\"15a2371509e19b76b3a508c002391c06\", element=\"3d5d667c-a8d1-4bf4-9f4d-2c28d1912e4f\")>,\n",
       " <selenium.webdriver.remote.webelement.WebElement (session=\"15a2371509e19b76b3a508c002391c06\", element=\"597cf580-f1dc-4260-a85e-208157b58111\")>,\n",
       " <selenium.webdriver.remote.webelement.WebElement (session=\"15a2371509e19b76b3a508c002391c06\", element=\"de3fcf83-1ccc-46eb-85e8-643a66275f90\")>,\n",
       " <selenium.webdriver.remote.webelement.WebElement (session=\"15a2371509e19b76b3a508c002391c06\", element=\"d989be27-5019-4f74-81ca-fa51978b1024\")>,\n",
       " <selenium.webdriver.remote.webelement.WebElement (session=\"15a2371509e19b76b3a508c002391c06\", element=\"2c9f071d-e516-4de9-88d0-98a44ec232b8\")>,\n",
       " <selenium.webdriver.remote.webelement.WebElement (session=\"15a2371509e19b76b3a508c002391c06\", element=\"241cc624-5fa3-4d34-8413-168be6bee6d2\")>,\n",
       " <selenium.webdriver.remote.webelement.WebElement (session=\"15a2371509e19b76b3a508c002391c06\", element=\"131dba09-c370-4fb9-ab98-ba5a23e7104f\")>,\n",
       " <selenium.webdriver.remote.webelement.WebElement (session=\"15a2371509e19b76b3a508c002391c06\", element=\"fcf8cc97-f228-47c1-9647-6b1bb6fb60ec\")>,\n",
       " <selenium.webdriver.remote.webelement.WebElement (session=\"15a2371509e19b76b3a508c002391c06\", element=\"d9d9cb39-5cfc-4897-a16a-6e3400119c33\")>,\n",
       " <selenium.webdriver.remote.webelement.WebElement (session=\"15a2371509e19b76b3a508c002391c06\", element=\"7950443e-e9eb-42bb-bff9-9d588d4b44e3\")>,\n",
       " <selenium.webdriver.remote.webelement.WebElement (session=\"15a2371509e19b76b3a508c002391c06\", element=\"b6d9b249-5bf3-4beb-bf46-1655565e4f6c\")>,\n",
       " <selenium.webdriver.remote.webelement.WebElement (session=\"15a2371509e19b76b3a508c002391c06\", element=\"32e52c48-ad43-4f16-8bd7-b0f9d6f42100\")>,\n",
       " <selenium.webdriver.remote.webelement.WebElement (session=\"15a2371509e19b76b3a508c002391c06\", element=\"14f118e3-5d59-4b02-a211-731557879347\")>,\n",
       " <selenium.webdriver.remote.webelement.WebElement (session=\"15a2371509e19b76b3a508c002391c06\", element=\"b1739e31-554c-4442-b8f2-48d58e345581\")>,\n",
       " <selenium.webdriver.remote.webelement.WebElement (session=\"15a2371509e19b76b3a508c002391c06\", element=\"c04bd3ff-e45a-4cd1-ba19-b8841579e060\")>,\n",
       " <selenium.webdriver.remote.webelement.WebElement (session=\"15a2371509e19b76b3a508c002391c06\", element=\"0c4a7457-0eaf-4b4e-a5d4-831506b01d4b\")>,\n",
       " <selenium.webdriver.remote.webelement.WebElement (session=\"15a2371509e19b76b3a508c002391c06\", element=\"aca01ddb-dd18-4efb-be63-66d7299ce330\")>,\n",
       " <selenium.webdriver.remote.webelement.WebElement (session=\"15a2371509e19b76b3a508c002391c06\", element=\"39266115-2093-4308-814b-43e4ca78ab3e\")>]"
      ]
     },
     "execution_count": 372,
     "metadata": {},
     "output_type": "execute_result"
    }
   ],
   "source": [
    "pd3 = driver.find_elements_by_xpath('//div[@class=\"_2WkVRV\"]')\n",
    "pd3"
   ]
  },
  {
   "cell_type": "code",
   "execution_count": 373,
   "id": "c37ced60",
   "metadata": {},
   "outputs": [
    {
     "data": {
      "text/plain": [
       "['AISLIN',\n",
       " 'GANSTA',\n",
       " 'SHAAH COLLECTIONS',\n",
       " 'Fastrack',\n",
       " 'NuVew',\n",
       " 'kingsunglasses',\n",
       " 'ROZZETTA CRAFT',\n",
       " 'GANSTA',\n",
       " 'Rich Club',\n",
       " 'Johaena',\n",
       " 'New Specs',\n",
       " 'AISLIN',\n",
       " 'Urbanic',\n",
       " 'Lee Topper',\n",
       " 'NuVew',\n",
       " 'PHENOMENAL',\n",
       " 'Fastrack',\n",
       " 'IDEE',\n",
       " 'PIRASO',\n",
       " 'Fastrack']"
      ]
     },
     "execution_count": 373,
     "metadata": {},
     "output_type": "execute_result"
    }
   ],
   "source": [
    "product3 = []\n",
    "for i in pd3:\n",
    "    product3.append(i.text)\n",
    "product3[:20]"
   ]
  },
  {
   "cell_type": "code",
   "execution_count": 374,
   "id": "61997faf",
   "metadata": {},
   "outputs": [
    {
     "data": {
      "text/plain": [
       "['UV Protection, Gradient Cat-eye Sunglasses (58)',\n",
       " 'UV Protection Aviator Sunglasses (57)',\n",
       " 'UV Protection Round Sunglasses (Free Size)',\n",
       " 'UV Protection Wayfarer Sunglasses (Free Size)',\n",
       " 'UV Protection Retro Square, Wayfarer Sunglasses (58)',\n",
       " 'UV Protection Round Sunglasses (Free Size)',\n",
       " 'UV Protection, Riding Glasses Rectangular Sunglasses (F...',\n",
       " 'UV Protection, Riding Glasses Wayfarer Sunglasses (53)',\n",
       " 'Polarized Round Sunglasses (48)',\n",
       " 'Riding Glasses, UV Protection Oval Sunglasses (48)',\n",
       " 'UV Protection, Mirrored Sports Sunglasses (Free Size)',\n",
       " 'UV Protection, Gradient Butterfly, Retro Square Sunglas...',\n",
       " 'Others Retro Square Sunglasses (Free Size)',\n",
       " 'Riding Glasses Wrap-around Sunglasses (Free Size)',\n",
       " 'UV Protection Sports Sunglasses (62)',\n",
       " 'UV Protection, Mirrored Round Sunglasses (Free Size)',\n",
       " 'UV Protection Sports Sunglasses (Free Size)',\n",
       " 'Mirrored, UV Protection Wayfarer Sunglasses (18)',\n",
       " 'Mirrored Aviator Sunglasses (32)',\n",
       " 'UV Protection Round Sunglasses (52)',\n",
       " 'UV Protection Over-sized Sunglasses (57)',\n",
       " 'UV Protection Aviator Sunglasses (58)',\n",
       " 'UV Protection Aviator Sunglasses (Free Size)',\n",
       " 'UV Protection Cat-eye Sunglasses (54)',\n",
       " 'UV Protection, Gradient Retro Square Sunglasses (Free S...',\n",
       " 'UV Protection, Gradient Butterfly, Retro Square Sunglas...',\n",
       " 'UV Protection, Mirrored Round Sunglasses (Free Size)',\n",
       " 'UV Protection Wayfarer Sunglasses (Free Size)',\n",
       " 'UV Protection Aviator Sunglasses (59)',\n",
       " 'UV Protection Aviator Sunglasses (50)',\n",
       " 'UV Protection Wayfarer Sunglasses (Free Size)',\n",
       " 'Mirrored Aviator Sunglasses (55)',\n",
       " 'UV Protection Sports Sunglasses (63)',\n",
       " 'Others Retro Square Sunglasses (Free Size)',\n",
       " 'UV Protection Wayfarer Sunglasses (50)',\n",
       " 'UV Protection, Riding Glasses Rectangular, Retro Square...',\n",
       " 'UV Protection, Mirrored Retro Square Sunglasses (53)',\n",
       " 'UV Protection, Gradient Cat-eye Sunglasses (61)',\n",
       " 'UV Protection, Mirrored Aviator Sunglasses (Free Size)',\n",
       " 'Polarized Wayfarer Sunglasses (Free Size)',\n",
       " 'UV Protection Round Sunglasses (Free Size)',\n",
       " 'UV Protection, Riding Glasses, Others Aviator, Wayfarer...',\n",
       " 'UV Protection, Night Vision Wayfarer Sunglasses (Free S...',\n",
       " 'UV Protection Retro Square, Round Sunglasses (54)',\n",
       " 'UV Protection Aviator Sunglasses (Free Size)',\n",
       " 'UV Protection Butterfly Sunglasses (65)',\n",
       " 'Mirrored Aviator Sunglasses (55)',\n",
       " 'UV Protection Shield Sunglasses (Free Size)',\n",
       " 'UV Protection, Others Round, Aviator Sunglasses (54)',\n",
       " 'UV Protection, Gradient Round Sunglasses (Free Size)',\n",
       " 'Night Vision, UV Protection Round Sunglasses (54)',\n",
       " 'UV Protection, Gradient Butterfly Sunglasses (57)',\n",
       " 'UV Protection Aviator, Wayfarer Sunglasses (Free Size)',\n",
       " 'UV Protection Aviator Sunglasses (Free Size)',\n",
       " 'UV Protection Aviator Sunglasses (Free Size)',\n",
       " 'Mirrored, UV Protection Wayfarer Sunglasses (Free Size)',\n",
       " 'UV Protection, Riding Glasses, Mirrored Wayfarer Sungla...',\n",
       " 'Mirrored, UV Protection Aviator Sunglasses (56)',\n",
       " 'UV Protection, Mirrored Sports Sunglasses (62)',\n",
       " 'UV Protection Aviator Sunglasses (62)',\n",
       " 'Polarized, UV Protection Retro Square Sunglasses (53)',\n",
       " 'Mirrored, Gradient, Riding Glasses Round Sunglasses (55...',\n",
       " 'UV Protection, Mirrored, Gradient Round Sunglasses (51)',\n",
       " 'UV Protection, Mirrored Clubmaster Sunglasses (Free Siz...',\n",
       " 'UV Protection, Riding Glasses Retro Square, Spectacle ...',\n",
       " 'UV Protection Rectangular Sunglasses (55)',\n",
       " 'UV Protection Round Sunglasses (55)',\n",
       " 'UV Protection Wayfarer Sunglasses (Free Size)',\n",
       " 'Polarized Retro Square Sunglasses (Free Size)',\n",
       " 'Gradient, Toughened Glass Lens, UV Protection Retro Squ...',\n",
       " 'UV Protection Aviator Sunglasses (58)',\n",
       " 'UV Protection Rectangular Sunglasses (Free Size)',\n",
       " 'UV Protection Rectangular Sunglasses (Free Size)',\n",
       " 'UV Protection Oval Sunglasses (56)',\n",
       " 'Mirrored Aviator Sunglasses (Free Size)',\n",
       " 'Riding Glasses, UV Protection, Others Aviator Sunglasse...',\n",
       " 'Night Vision, Riding Glasses Wayfarer Sunglasses (53)',\n",
       " 'UV Protection, Mirrored Round Sunglasses (54)',\n",
       " 'UV Protection Aviator Sunglasses (Free Size)',\n",
       " 'UV Protection, Polarized, Mirrored Wayfarer Sunglasses ...',\n",
       " 'AISLIN',\n",
       " 'GANSTA',\n",
       " 'SHAAH COLLECTIONS',\n",
       " 'Fastrack',\n",
       " 'NuVew',\n",
       " 'kingsunglasses',\n",
       " 'ROZZETTA CRAFT',\n",
       " 'GANSTA',\n",
       " 'Rich Club',\n",
       " 'Johaena',\n",
       " 'New Specs',\n",
       " 'AISLIN',\n",
       " 'Urbanic',\n",
       " 'Lee Topper',\n",
       " 'NuVew',\n",
       " 'PHENOMENAL',\n",
       " 'Fastrack',\n",
       " 'IDEE',\n",
       " 'PIRASO',\n",
       " 'Fastrack']"
      ]
     },
     "execution_count": 374,
     "metadata": {},
     "output_type": "execute_result"
    }
   ],
   "source": [
    "product_description = product1+product2+product3[:20]\n",
    "product_description"
   ]
  },
  {
   "cell_type": "code",
   "execution_count": 375,
   "id": "6b461517",
   "metadata": {},
   "outputs": [
    {
     "data": {
      "text/plain": [
       "100"
      ]
     },
     "execution_count": 375,
     "metadata": {},
     "output_type": "execute_result"
    }
   ],
   "source": [
    "len(product_description)"
   ]
  },
  {
   "cell_type": "code",
   "execution_count": 376,
   "id": "0b9baaab",
   "metadata": {},
   "outputs": [],
   "source": [
    "#redirecting to the 1st page\n",
    "page1 = driver.find_element_by_xpath('/html/body/div[1]/div/div[3]/div[1]/div[2]/div[12]/div/div/nav/a[1]')\n",
    "page1.click()"
   ]
  },
  {
   "cell_type": "code",
   "execution_count": 377,
   "id": "680a8b2b",
   "metadata": {},
   "outputs": [
    {
     "data": {
      "text/plain": [
       "[<selenium.webdriver.remote.webelement.WebElement (session=\"15a2371509e19b76b3a508c002391c06\", element=\"afa61873-30f9-43e0-b083-2dbaeaa0b2d6\")>,\n",
       " <selenium.webdriver.remote.webelement.WebElement (session=\"15a2371509e19b76b3a508c002391c06\", element=\"102bba32-fe71-4cc4-80be-993fa2731fbe\")>,\n",
       " <selenium.webdriver.remote.webelement.WebElement (session=\"15a2371509e19b76b3a508c002391c06\", element=\"e02f9822-d5c5-4d15-bae6-cbde44d08cc3\")>,\n",
       " <selenium.webdriver.remote.webelement.WebElement (session=\"15a2371509e19b76b3a508c002391c06\", element=\"d344c8fc-1440-4072-a583-5be3f7ea9e07\")>,\n",
       " <selenium.webdriver.remote.webelement.WebElement (session=\"15a2371509e19b76b3a508c002391c06\", element=\"4f13f55c-8e26-401e-9b07-17f1ffeb85b4\")>,\n",
       " <selenium.webdriver.remote.webelement.WebElement (session=\"15a2371509e19b76b3a508c002391c06\", element=\"7e5bee9b-f604-4d74-8a1c-97725bcd1eae\")>,\n",
       " <selenium.webdriver.remote.webelement.WebElement (session=\"15a2371509e19b76b3a508c002391c06\", element=\"6157e8b0-1ae7-427d-ba64-8a24e6842895\")>,\n",
       " <selenium.webdriver.remote.webelement.WebElement (session=\"15a2371509e19b76b3a508c002391c06\", element=\"43a8566e-c0dd-428b-a30d-440ddf519687\")>,\n",
       " <selenium.webdriver.remote.webelement.WebElement (session=\"15a2371509e19b76b3a508c002391c06\", element=\"b3f7c426-30f4-4d5d-8615-2028b25735f3\")>,\n",
       " <selenium.webdriver.remote.webelement.WebElement (session=\"15a2371509e19b76b3a508c002391c06\", element=\"b72c212c-5b60-45ac-8e4d-8c2fba49036a\")>,\n",
       " <selenium.webdriver.remote.webelement.WebElement (session=\"15a2371509e19b76b3a508c002391c06\", element=\"9f9596f8-9a47-4dab-a0a0-3c9f4cf06f15\")>,\n",
       " <selenium.webdriver.remote.webelement.WebElement (session=\"15a2371509e19b76b3a508c002391c06\", element=\"32956775-a559-430a-b4b1-3f8720b1d9a4\")>,\n",
       " <selenium.webdriver.remote.webelement.WebElement (session=\"15a2371509e19b76b3a508c002391c06\", element=\"19a3f740-3b6f-40b1-8583-67bc6fc958c0\")>,\n",
       " <selenium.webdriver.remote.webelement.WebElement (session=\"15a2371509e19b76b3a508c002391c06\", element=\"ee68925e-7d6d-47a6-b6d2-fc86ad8d14ad\")>,\n",
       " <selenium.webdriver.remote.webelement.WebElement (session=\"15a2371509e19b76b3a508c002391c06\", element=\"92fd2fb9-f3ef-4ac5-8463-0679d8f43692\")>,\n",
       " <selenium.webdriver.remote.webelement.WebElement (session=\"15a2371509e19b76b3a508c002391c06\", element=\"db348501-71c7-41d1-8286-692ce2558e84\")>,\n",
       " <selenium.webdriver.remote.webelement.WebElement (session=\"15a2371509e19b76b3a508c002391c06\", element=\"4a1b655a-de38-4051-a217-8ac19128d49c\")>,\n",
       " <selenium.webdriver.remote.webelement.WebElement (session=\"15a2371509e19b76b3a508c002391c06\", element=\"45b08c9f-5e49-4b7a-bda0-d406986b1da0\")>,\n",
       " <selenium.webdriver.remote.webelement.WebElement (session=\"15a2371509e19b76b3a508c002391c06\", element=\"104bc895-722f-4e13-901f-7ae342b3c2f4\")>,\n",
       " <selenium.webdriver.remote.webelement.WebElement (session=\"15a2371509e19b76b3a508c002391c06\", element=\"f1fbfdc7-17ba-4fc2-b78c-ac7892e6d6fb\")>,\n",
       " <selenium.webdriver.remote.webelement.WebElement (session=\"15a2371509e19b76b3a508c002391c06\", element=\"3a6a3f7d-a6e7-46a7-8d1a-5318756c8922\")>,\n",
       " <selenium.webdriver.remote.webelement.WebElement (session=\"15a2371509e19b76b3a508c002391c06\", element=\"9a1c0d09-1cf4-4ac3-92e6-efd64f6b0c29\")>,\n",
       " <selenium.webdriver.remote.webelement.WebElement (session=\"15a2371509e19b76b3a508c002391c06\", element=\"0db9f164-645a-4a83-a6c9-5c36f3013134\")>,\n",
       " <selenium.webdriver.remote.webelement.WebElement (session=\"15a2371509e19b76b3a508c002391c06\", element=\"a0556d08-23b1-49fa-ba7d-d9b1d29eec48\")>,\n",
       " <selenium.webdriver.remote.webelement.WebElement (session=\"15a2371509e19b76b3a508c002391c06\", element=\"fa4f46c2-6c2d-446a-97dd-3528fece884f\")>,\n",
       " <selenium.webdriver.remote.webelement.WebElement (session=\"15a2371509e19b76b3a508c002391c06\", element=\"2dff57dd-0ea7-407a-b8aa-cc2a3f8c5250\")>,\n",
       " <selenium.webdriver.remote.webelement.WebElement (session=\"15a2371509e19b76b3a508c002391c06\", element=\"90bd641a-f93e-4e36-8842-f5e08ef852f4\")>,\n",
       " <selenium.webdriver.remote.webelement.WebElement (session=\"15a2371509e19b76b3a508c002391c06\", element=\"f76bf755-9d87-4a52-bd83-509ac93baddb\")>,\n",
       " <selenium.webdriver.remote.webelement.WebElement (session=\"15a2371509e19b76b3a508c002391c06\", element=\"64e56bf2-da89-4510-8dd5-6b53c3df098b\")>,\n",
       " <selenium.webdriver.remote.webelement.WebElement (session=\"15a2371509e19b76b3a508c002391c06\", element=\"3ef1403d-a2d3-47dd-a298-c48899f02819\")>,\n",
       " <selenium.webdriver.remote.webelement.WebElement (session=\"15a2371509e19b76b3a508c002391c06\", element=\"067d6439-1292-446a-82a2-8ee664e33e12\")>,\n",
       " <selenium.webdriver.remote.webelement.WebElement (session=\"15a2371509e19b76b3a508c002391c06\", element=\"24f9acd3-8165-428c-95e5-33a1eb9641d0\")>,\n",
       " <selenium.webdriver.remote.webelement.WebElement (session=\"15a2371509e19b76b3a508c002391c06\", element=\"103652ad-c092-45b4-a0ae-bae47b8c0d39\")>,\n",
       " <selenium.webdriver.remote.webelement.WebElement (session=\"15a2371509e19b76b3a508c002391c06\", element=\"4edba0e0-735d-43ad-bd97-ee3c8e167b0e\")>,\n",
       " <selenium.webdriver.remote.webelement.WebElement (session=\"15a2371509e19b76b3a508c002391c06\", element=\"178caf6c-39a0-44f7-8280-b61851baed87\")>,\n",
       " <selenium.webdriver.remote.webelement.WebElement (session=\"15a2371509e19b76b3a508c002391c06\", element=\"dafe5458-b6b6-4a34-b91e-b1d664fd0b35\")>,\n",
       " <selenium.webdriver.remote.webelement.WebElement (session=\"15a2371509e19b76b3a508c002391c06\", element=\"4836f760-3a86-482f-a021-36f2b5f2a0c6\")>,\n",
       " <selenium.webdriver.remote.webelement.WebElement (session=\"15a2371509e19b76b3a508c002391c06\", element=\"a2cac438-dbd9-4f77-8044-45da3b99791c\")>,\n",
       " <selenium.webdriver.remote.webelement.WebElement (session=\"15a2371509e19b76b3a508c002391c06\", element=\"15707027-7d7d-4ccd-8d05-9f287f831418\")>,\n",
       " <selenium.webdriver.remote.webelement.WebElement (session=\"15a2371509e19b76b3a508c002391c06\", element=\"68d864ad-0efc-46cc-a30d-0a3c5d904d33\")>]"
      ]
     },
     "execution_count": 377,
     "metadata": {},
     "output_type": "execute_result"
    }
   ],
   "source": [
    "p1= driver.find_elements_by_xpath('//div[@class=\"_30jeq3\"]')\n",
    "p1"
   ]
  },
  {
   "cell_type": "code",
   "execution_count": 378,
   "id": "88f55e81",
   "metadata": {},
   "outputs": [
    {
     "data": {
      "text/plain": [
       "['₹232',\n",
       " '₹203',\n",
       " '₹249',\n",
       " '₹291',\n",
       " '₹639',\n",
       " '₹349',\n",
       " '₹359',\n",
       " '₹719',\n",
       " '₹174',\n",
       " '₹360',\n",
       " '₹199',\n",
       " '₹664',\n",
       " '₹202',\n",
       " '₹299',\n",
       " '₹729',\n",
       " '₹229',\n",
       " '₹177',\n",
       " '₹209',\n",
       " '₹327',\n",
       " '₹649',\n",
       " '₹199',\n",
       " '₹189',\n",
       " '₹188',\n",
       " '₹289',\n",
       " '₹375',\n",
       " '₹160',\n",
       " '₹179',\n",
       " '₹639',\n",
       " '₹639',\n",
       " '₹664',\n",
       " '₹1,099',\n",
       " '₹177',\n",
       " '₹157',\n",
       " '₹284',\n",
       " '₹359',\n",
       " '₹219',\n",
       " '₹198',\n",
       " '₹207',\n",
       " '₹584',\n",
       " '₹243']"
      ]
     },
     "execution_count": 378,
     "metadata": {},
     "output_type": "execute_result"
    }
   ],
   "source": [
    "price1 = []\n",
    "for i in p1:\n",
    "    price1.append(i.text)\n",
    "price1"
   ]
  },
  {
   "cell_type": "code",
   "execution_count": 379,
   "id": "e63489f0",
   "metadata": {},
   "outputs": [
    {
     "data": {
      "text/plain": [
       "<selenium.webdriver.remote.webelement.WebElement (session=\"15a2371509e19b76b3a508c002391c06\", element=\"42268128-67c2-4b07-8fb6-4d86e6055a47\")>"
      ]
     },
     "execution_count": 379,
     "metadata": {},
     "output_type": "execute_result"
    }
   ],
   "source": [
    "next_btn = driver.find_element_by_xpath('//a[@class=\"_1LKTO3\"]')\n",
    "next_btn"
   ]
  },
  {
   "cell_type": "code",
   "execution_count": 380,
   "id": "60c8b9d5",
   "metadata": {},
   "outputs": [],
   "source": [
    "next_btn.click()"
   ]
  },
  {
   "cell_type": "code",
   "execution_count": 381,
   "id": "1128cd4d",
   "metadata": {},
   "outputs": [
    {
     "data": {
      "text/plain": [
       "[<selenium.webdriver.remote.webelement.WebElement (session=\"15a2371509e19b76b3a508c002391c06\", element=\"578642fe-a21a-4a3c-a0b5-bf46f14114fe\")>,\n",
       " <selenium.webdriver.remote.webelement.WebElement (session=\"15a2371509e19b76b3a508c002391c06\", element=\"bae3aa12-5a50-4580-a322-6da3ff78e2f0\")>,\n",
       " <selenium.webdriver.remote.webelement.WebElement (session=\"15a2371509e19b76b3a508c002391c06\", element=\"0ffd5dd6-727e-4f3a-b1e4-a785065a6da8\")>,\n",
       " <selenium.webdriver.remote.webelement.WebElement (session=\"15a2371509e19b76b3a508c002391c06\", element=\"64a23a4b-290a-45da-995b-743ddc3ebae3\")>,\n",
       " <selenium.webdriver.remote.webelement.WebElement (session=\"15a2371509e19b76b3a508c002391c06\", element=\"a5109e9e-bcb7-4528-8d83-6ae68b6124c0\")>,\n",
       " <selenium.webdriver.remote.webelement.WebElement (session=\"15a2371509e19b76b3a508c002391c06\", element=\"c7f6812a-de49-46cd-b1ad-3f6bce93d85b\")>,\n",
       " <selenium.webdriver.remote.webelement.WebElement (session=\"15a2371509e19b76b3a508c002391c06\", element=\"aa142fd1-375e-4227-a044-9217287ff738\")>,\n",
       " <selenium.webdriver.remote.webelement.WebElement (session=\"15a2371509e19b76b3a508c002391c06\", element=\"cfb6e641-ff93-4c27-b657-2fcfd5b16e00\")>,\n",
       " <selenium.webdriver.remote.webelement.WebElement (session=\"15a2371509e19b76b3a508c002391c06\", element=\"c9c956a7-517a-4575-84e2-90166f19c834\")>,\n",
       " <selenium.webdriver.remote.webelement.WebElement (session=\"15a2371509e19b76b3a508c002391c06\", element=\"a1f2e547-2cc9-412b-9d40-47fd15b54a78\")>,\n",
       " <selenium.webdriver.remote.webelement.WebElement (session=\"15a2371509e19b76b3a508c002391c06\", element=\"8f351917-b747-4e63-8ebb-79211944ef67\")>,\n",
       " <selenium.webdriver.remote.webelement.WebElement (session=\"15a2371509e19b76b3a508c002391c06\", element=\"1e3295de-b625-4b07-a791-71da37ed585a\")>,\n",
       " <selenium.webdriver.remote.webelement.WebElement (session=\"15a2371509e19b76b3a508c002391c06\", element=\"189f0b8b-1b67-4d29-9898-5fea0e23e1f1\")>,\n",
       " <selenium.webdriver.remote.webelement.WebElement (session=\"15a2371509e19b76b3a508c002391c06\", element=\"70ac782a-9a30-48e2-9f20-e78222487c84\")>,\n",
       " <selenium.webdriver.remote.webelement.WebElement (session=\"15a2371509e19b76b3a508c002391c06\", element=\"a035e4c2-e5c8-40bd-9264-b0fdbc7cfc54\")>,\n",
       " <selenium.webdriver.remote.webelement.WebElement (session=\"15a2371509e19b76b3a508c002391c06\", element=\"b5f7381d-8178-4992-9f97-a66391fde243\")>,\n",
       " <selenium.webdriver.remote.webelement.WebElement (session=\"15a2371509e19b76b3a508c002391c06\", element=\"73aa04ba-f6a7-4c8b-9157-dcb78bcbf51d\")>,\n",
       " <selenium.webdriver.remote.webelement.WebElement (session=\"15a2371509e19b76b3a508c002391c06\", element=\"8d7c5f45-526a-403d-af96-d8b1cc0e2c8f\")>,\n",
       " <selenium.webdriver.remote.webelement.WebElement (session=\"15a2371509e19b76b3a508c002391c06\", element=\"cc42697b-68eb-4039-a963-a80df8ae3564\")>,\n",
       " <selenium.webdriver.remote.webelement.WebElement (session=\"15a2371509e19b76b3a508c002391c06\", element=\"0ba75642-afa5-4350-825a-6e3d2bda2dbf\")>,\n",
       " <selenium.webdriver.remote.webelement.WebElement (session=\"15a2371509e19b76b3a508c002391c06\", element=\"6e37144e-f5a3-418d-b93d-11f26d1b6ba9\")>,\n",
       " <selenium.webdriver.remote.webelement.WebElement (session=\"15a2371509e19b76b3a508c002391c06\", element=\"600f1fb9-c7fb-4b27-be61-a4dd2056bc5f\")>,\n",
       " <selenium.webdriver.remote.webelement.WebElement (session=\"15a2371509e19b76b3a508c002391c06\", element=\"d6b91018-8c0f-4a2d-99d1-66a08948f240\")>,\n",
       " <selenium.webdriver.remote.webelement.WebElement (session=\"15a2371509e19b76b3a508c002391c06\", element=\"d884e190-f966-4fc7-801a-a641a9dd9328\")>,\n",
       " <selenium.webdriver.remote.webelement.WebElement (session=\"15a2371509e19b76b3a508c002391c06\", element=\"df8f0568-22e7-4765-b66a-19d03f36cbd3\")>,\n",
       " <selenium.webdriver.remote.webelement.WebElement (session=\"15a2371509e19b76b3a508c002391c06\", element=\"4927b38e-0444-4e14-aa2b-cfc278590359\")>,\n",
       " <selenium.webdriver.remote.webelement.WebElement (session=\"15a2371509e19b76b3a508c002391c06\", element=\"7e0e06d6-28d7-4523-a170-01c5afb4d98e\")>,\n",
       " <selenium.webdriver.remote.webelement.WebElement (session=\"15a2371509e19b76b3a508c002391c06\", element=\"63986339-d3dd-459f-ac2b-34d34639ad47\")>,\n",
       " <selenium.webdriver.remote.webelement.WebElement (session=\"15a2371509e19b76b3a508c002391c06\", element=\"c7552fff-b51a-43ea-9927-e3280e410424\")>,\n",
       " <selenium.webdriver.remote.webelement.WebElement (session=\"15a2371509e19b76b3a508c002391c06\", element=\"98d3365a-3c2d-406c-a099-bc0619632edc\")>,\n",
       " <selenium.webdriver.remote.webelement.WebElement (session=\"15a2371509e19b76b3a508c002391c06\", element=\"db902641-5014-4dcc-bb65-0848e603069d\")>,\n",
       " <selenium.webdriver.remote.webelement.WebElement (session=\"15a2371509e19b76b3a508c002391c06\", element=\"bece1aa9-b2a5-4eda-b1cf-d33967f83360\")>,\n",
       " <selenium.webdriver.remote.webelement.WebElement (session=\"15a2371509e19b76b3a508c002391c06\", element=\"c5900e0f-5664-49f1-9ab2-cdf76d5e4fe4\")>,\n",
       " <selenium.webdriver.remote.webelement.WebElement (session=\"15a2371509e19b76b3a508c002391c06\", element=\"f206f26a-e7d5-4c07-855f-e20530bf6a60\")>,\n",
       " <selenium.webdriver.remote.webelement.WebElement (session=\"15a2371509e19b76b3a508c002391c06\", element=\"6375f870-6ea0-4b5d-b091-1227b1f8f43a\")>,\n",
       " <selenium.webdriver.remote.webelement.WebElement (session=\"15a2371509e19b76b3a508c002391c06\", element=\"5462e40d-85e2-4d22-8466-6ad323ebbd45\")>,\n",
       " <selenium.webdriver.remote.webelement.WebElement (session=\"15a2371509e19b76b3a508c002391c06\", element=\"5a74dcc7-755a-416f-9990-7c6336cf2305\")>,\n",
       " <selenium.webdriver.remote.webelement.WebElement (session=\"15a2371509e19b76b3a508c002391c06\", element=\"c641661b-66f8-42d3-8e74-ff842544f926\")>,\n",
       " <selenium.webdriver.remote.webelement.WebElement (session=\"15a2371509e19b76b3a508c002391c06\", element=\"bdb15e86-ec3d-4dd8-bb0a-5064f7ab5ef6\")>,\n",
       " <selenium.webdriver.remote.webelement.WebElement (session=\"15a2371509e19b76b3a508c002391c06\", element=\"177a9ae2-5191-4ebc-943e-302285f37974\")>]"
      ]
     },
     "execution_count": 381,
     "metadata": {},
     "output_type": "execute_result"
    }
   ],
   "source": [
    "p2= driver.find_elements_by_xpath('//div[@class=\"_30jeq3\"]')\n",
    "p2"
   ]
  },
  {
   "cell_type": "code",
   "execution_count": 382,
   "id": "6f91aef8",
   "metadata": {},
   "outputs": [
    {
     "data": {
      "text/plain": [
       "['₹489',\n",
       " '₹248',\n",
       " '₹188',\n",
       " '₹234',\n",
       " '₹243',\n",
       " '₹229',\n",
       " '₹165',\n",
       " '₹639',\n",
       " '₹178',\n",
       " '₹499',\n",
       " '₹309',\n",
       " '₹146',\n",
       " '₹399',\n",
       " '₹189',\n",
       " '₹269',\n",
       " '₹299',\n",
       " '₹200',\n",
       " '₹235',\n",
       " '₹626',\n",
       " '₹230',\n",
       " '₹269',\n",
       " '₹144',\n",
       " '₹276',\n",
       " '₹199',\n",
       " '₹259',\n",
       " '₹180',\n",
       " '₹175',\n",
       " '₹196',\n",
       " '₹165',\n",
       " '₹689',\n",
       " '₹167',\n",
       " '₹289',\n",
       " '₹299',\n",
       " '₹220',\n",
       " '₹459',\n",
       " '₹299',\n",
       " '₹225',\n",
       " '₹499',\n",
       " '₹156',\n",
       " '₹263']"
      ]
     },
     "execution_count": 382,
     "metadata": {},
     "output_type": "execute_result"
    }
   ],
   "source": [
    "price2=[]\n",
    "for i in p2:\n",
    "    price2.append(i.text)\n",
    "price2"
   ]
  },
  {
   "cell_type": "code",
   "execution_count": 383,
   "id": "cd7ddfd7",
   "metadata": {},
   "outputs": [
    {
     "ename": "NoSuchElementException",
     "evalue": "Message: no such element: Unable to locate element: {\"method\":\"xpath\",\"selector\":\"/html/body/div[1]/div/div[3]/div[1]/div[2]/div[12]/div/div/nav/a[12]\"}\n  (Session info: MicrosoftEdge=98.0.1108.50)\nStacktrace:\nBacktrace:\n\tMicrosoft::Applications::Events::EventProperties::unpack [0x00007FF71FCD3A82+22610]\n\tMicrosoft::Applications::Events::time_ticks_t::time_ticks_t [0x00007FF71FC12352+503810]\n\tOrdinal0 [0x00007FF71F710FA5+659365]\n\tOrdinal0 [0x00007FF71F74BF82+900994]\n\tOrdinal0 [0x00007FF71F74C258+901720]\n\tOrdinal0 [0x00007FF71F77E1A7+1106343]\n\tOrdinal0 [0x00007FF71F76707F+1011839]\n\tOrdinal0 [0x00007FF71F77B8A4+1095844]\n\tOrdinal0 [0x00007FF71F766E53+1011283]\n\tOrdinal0 [0x00007FF71F73E0C7+843975]\n\tOrdinal0 [0x00007FF71F73F598+849304]\n\tMicrosoft::Applications::Events::EventProperty::to_string [0x00007FF71F8D91B8+848488]\n\tMicrosoft::Applications::Events::EventProperty::EventProperty [0x00007FF71F9CB17D+39117]\n\tMicrosoft::Applications::Events::EventProperty::EventProperty [0x00007FF71F9CE3F2+52034]\n\tMicrosoft::Applications::Events::EventProperty::to_string [0x00007FF71F810D56+28166]\n\tMicrosoft::Applications::Events::time_ticks_t::time_ticks_t [0x00007FF71FC18FE1+531601]\n\tMicrosoft::Applications::Events::time_ticks_t::time_ticks_t [0x00007FF71FC1E4C4+553332]\n\tMicrosoft::Applications::Events::time_ticks_t::time_ticks_t [0x00007FF71FC1E655+553733]\n\tMicrosoft::Applications::Events::EventProperty::to_string [0x00007FF71F8E6C40+904432]\n\tBaseThreadInitThunk [0x00007FFA699B7034+20]\n\tRtlUserThreadStart [0x00007FFA6B342651+33]\n",
     "output_type": "error",
     "traceback": [
      "\u001b[1;31m---------------------------------------------------------------------------\u001b[0m",
      "\u001b[1;31mNoSuchElementException\u001b[0m                    Traceback (most recent call last)",
      "\u001b[1;32m<ipython-input-383-ff9ba0128a2f>\u001b[0m in \u001b[0;36m<module>\u001b[1;34m\u001b[0m\n\u001b[1;32m----> 1\u001b[1;33m \u001b[0mnext_btn\u001b[0m \u001b[1;33m=\u001b[0m \u001b[0mdriver\u001b[0m\u001b[1;33m.\u001b[0m\u001b[0mfind_element_by_xpath\u001b[0m\u001b[1;33m(\u001b[0m\u001b[1;34m'/html/body/div[1]/div/div[3]/div[1]/div[2]/div[12]/div/div/nav/a[12]'\u001b[0m\u001b[1;33m)\u001b[0m\u001b[1;33m\u001b[0m\u001b[1;33m\u001b[0m\u001b[0m\n\u001b[0m\u001b[0;32m      2\u001b[0m \u001b[0mnext_btn\u001b[0m\u001b[1;33m.\u001b[0m\u001b[0mclick\u001b[0m\u001b[1;33m(\u001b[0m\u001b[1;33m)\u001b[0m\u001b[1;33m\u001b[0m\u001b[1;33m\u001b[0m\u001b[0m\n",
      "\u001b[1;32m~\\anaconda3\\lib\\site-packages\\selenium\\webdriver\\remote\\webdriver.py\u001b[0m in \u001b[0;36mfind_element_by_xpath\u001b[1;34m(self, xpath)\u001b[0m\n\u001b[0;32m    518\u001b[0m             \u001b[0mstacklevel\u001b[0m\u001b[1;33m=\u001b[0m\u001b[1;36m2\u001b[0m\u001b[1;33m,\u001b[0m\u001b[1;33m\u001b[0m\u001b[1;33m\u001b[0m\u001b[0m\n\u001b[0;32m    519\u001b[0m         )\n\u001b[1;32m--> 520\u001b[1;33m         \u001b[1;32mreturn\u001b[0m \u001b[0mself\u001b[0m\u001b[1;33m.\u001b[0m\u001b[0mfind_element\u001b[0m\u001b[1;33m(\u001b[0m\u001b[0mby\u001b[0m\u001b[1;33m=\u001b[0m\u001b[0mBy\u001b[0m\u001b[1;33m.\u001b[0m\u001b[0mXPATH\u001b[0m\u001b[1;33m,\u001b[0m \u001b[0mvalue\u001b[0m\u001b[1;33m=\u001b[0m\u001b[0mxpath\u001b[0m\u001b[1;33m)\u001b[0m\u001b[1;33m\u001b[0m\u001b[1;33m\u001b[0m\u001b[0m\n\u001b[0m\u001b[0;32m    521\u001b[0m \u001b[1;33m\u001b[0m\u001b[0m\n\u001b[0;32m    522\u001b[0m     \u001b[1;32mdef\u001b[0m \u001b[0mfind_elements_by_xpath\u001b[0m\u001b[1;33m(\u001b[0m\u001b[0mself\u001b[0m\u001b[1;33m,\u001b[0m \u001b[0mxpath\u001b[0m\u001b[1;33m)\u001b[0m \u001b[1;33m->\u001b[0m \u001b[0mWebElement\u001b[0m\u001b[1;33m:\u001b[0m\u001b[1;33m\u001b[0m\u001b[1;33m\u001b[0m\u001b[0m\n",
      "\u001b[1;32m~\\anaconda3\\lib\\site-packages\\selenium\\webdriver\\remote\\webdriver.py\u001b[0m in \u001b[0;36mfind_element\u001b[1;34m(self, by, value)\u001b[0m\n\u001b[0;32m   1242\u001b[0m             \u001b[0mvalue\u001b[0m \u001b[1;33m=\u001b[0m \u001b[1;34m'[name=\"%s\"]'\u001b[0m \u001b[1;33m%\u001b[0m \u001b[0mvalue\u001b[0m\u001b[1;33m\u001b[0m\u001b[1;33m\u001b[0m\u001b[0m\n\u001b[0;32m   1243\u001b[0m \u001b[1;33m\u001b[0m\u001b[0m\n\u001b[1;32m-> 1244\u001b[1;33m         return self.execute(Command.FIND_ELEMENT, {\n\u001b[0m\u001b[0;32m   1245\u001b[0m             \u001b[1;34m'using'\u001b[0m\u001b[1;33m:\u001b[0m \u001b[0mby\u001b[0m\u001b[1;33m,\u001b[0m\u001b[1;33m\u001b[0m\u001b[1;33m\u001b[0m\u001b[0m\n\u001b[0;32m   1246\u001b[0m             'value': value})['value']\n",
      "\u001b[1;32m~\\anaconda3\\lib\\site-packages\\selenium\\webdriver\\remote\\webdriver.py\u001b[0m in \u001b[0;36mexecute\u001b[1;34m(self, driver_command, params)\u001b[0m\n\u001b[0;32m    422\u001b[0m         \u001b[0mresponse\u001b[0m \u001b[1;33m=\u001b[0m \u001b[0mself\u001b[0m\u001b[1;33m.\u001b[0m\u001b[0mcommand_executor\u001b[0m\u001b[1;33m.\u001b[0m\u001b[0mexecute\u001b[0m\u001b[1;33m(\u001b[0m\u001b[0mdriver_command\u001b[0m\u001b[1;33m,\u001b[0m \u001b[0mparams\u001b[0m\u001b[1;33m)\u001b[0m\u001b[1;33m\u001b[0m\u001b[1;33m\u001b[0m\u001b[0m\n\u001b[0;32m    423\u001b[0m         \u001b[1;32mif\u001b[0m \u001b[0mresponse\u001b[0m\u001b[1;33m:\u001b[0m\u001b[1;33m\u001b[0m\u001b[1;33m\u001b[0m\u001b[0m\n\u001b[1;32m--> 424\u001b[1;33m             \u001b[0mself\u001b[0m\u001b[1;33m.\u001b[0m\u001b[0merror_handler\u001b[0m\u001b[1;33m.\u001b[0m\u001b[0mcheck_response\u001b[0m\u001b[1;33m(\u001b[0m\u001b[0mresponse\u001b[0m\u001b[1;33m)\u001b[0m\u001b[1;33m\u001b[0m\u001b[1;33m\u001b[0m\u001b[0m\n\u001b[0m\u001b[0;32m    425\u001b[0m             response['value'] = self._unwrap_value(\n\u001b[0;32m    426\u001b[0m                 response.get('value', None))\n",
      "\u001b[1;32m~\\anaconda3\\lib\\site-packages\\selenium\\webdriver\\remote\\errorhandler.py\u001b[0m in \u001b[0;36mcheck_response\u001b[1;34m(self, response)\u001b[0m\n\u001b[0;32m    245\u001b[0m                 \u001b[0malert_text\u001b[0m \u001b[1;33m=\u001b[0m \u001b[0mvalue\u001b[0m\u001b[1;33m[\u001b[0m\u001b[1;34m'alert'\u001b[0m\u001b[1;33m]\u001b[0m\u001b[1;33m.\u001b[0m\u001b[0mget\u001b[0m\u001b[1;33m(\u001b[0m\u001b[1;34m'text'\u001b[0m\u001b[1;33m)\u001b[0m\u001b[1;33m\u001b[0m\u001b[1;33m\u001b[0m\u001b[0m\n\u001b[0;32m    246\u001b[0m             \u001b[1;32mraise\u001b[0m \u001b[0mexception_class\u001b[0m\u001b[1;33m(\u001b[0m\u001b[0mmessage\u001b[0m\u001b[1;33m,\u001b[0m \u001b[0mscreen\u001b[0m\u001b[1;33m,\u001b[0m \u001b[0mstacktrace\u001b[0m\u001b[1;33m,\u001b[0m \u001b[0malert_text\u001b[0m\u001b[1;33m)\u001b[0m  \u001b[1;31m# type: ignore[call-arg]  # mypy is not smart enough here\u001b[0m\u001b[1;33m\u001b[0m\u001b[1;33m\u001b[0m\u001b[0m\n\u001b[1;32m--> 247\u001b[1;33m         \u001b[1;32mraise\u001b[0m \u001b[0mexception_class\u001b[0m\u001b[1;33m(\u001b[0m\u001b[0mmessage\u001b[0m\u001b[1;33m,\u001b[0m \u001b[0mscreen\u001b[0m\u001b[1;33m,\u001b[0m \u001b[0mstacktrace\u001b[0m\u001b[1;33m)\u001b[0m\u001b[1;33m\u001b[0m\u001b[1;33m\u001b[0m\u001b[0m\n\u001b[0m\u001b[0;32m    248\u001b[0m \u001b[1;33m\u001b[0m\u001b[0m\n\u001b[0;32m    249\u001b[0m     \u001b[1;32mdef\u001b[0m \u001b[0m_value_or_default\u001b[0m\u001b[1;33m(\u001b[0m\u001b[0mself\u001b[0m\u001b[1;33m,\u001b[0m \u001b[0mobj\u001b[0m\u001b[1;33m:\u001b[0m \u001b[0mMapping\u001b[0m\u001b[1;33m[\u001b[0m\u001b[0m_KT\u001b[0m\u001b[1;33m,\u001b[0m \u001b[0m_VT\u001b[0m\u001b[1;33m]\u001b[0m\u001b[1;33m,\u001b[0m \u001b[0mkey\u001b[0m\u001b[1;33m:\u001b[0m \u001b[0m_KT\u001b[0m\u001b[1;33m,\u001b[0m \u001b[0mdefault\u001b[0m\u001b[1;33m:\u001b[0m \u001b[0m_VT\u001b[0m\u001b[1;33m)\u001b[0m \u001b[1;33m->\u001b[0m \u001b[0m_VT\u001b[0m\u001b[1;33m:\u001b[0m\u001b[1;33m\u001b[0m\u001b[1;33m\u001b[0m\u001b[0m\n",
      "\u001b[1;31mNoSuchElementException\u001b[0m: Message: no such element: Unable to locate element: {\"method\":\"xpath\",\"selector\":\"/html/body/div[1]/div/div[3]/div[1]/div[2]/div[12]/div/div/nav/a[12]\"}\n  (Session info: MicrosoftEdge=98.0.1108.50)\nStacktrace:\nBacktrace:\n\tMicrosoft::Applications::Events::EventProperties::unpack [0x00007FF71FCD3A82+22610]\n\tMicrosoft::Applications::Events::time_ticks_t::time_ticks_t [0x00007FF71FC12352+503810]\n\tOrdinal0 [0x00007FF71F710FA5+659365]\n\tOrdinal0 [0x00007FF71F74BF82+900994]\n\tOrdinal0 [0x00007FF71F74C258+901720]\n\tOrdinal0 [0x00007FF71F77E1A7+1106343]\n\tOrdinal0 [0x00007FF71F76707F+1011839]\n\tOrdinal0 [0x00007FF71F77B8A4+1095844]\n\tOrdinal0 [0x00007FF71F766E53+1011283]\n\tOrdinal0 [0x00007FF71F73E0C7+843975]\n\tOrdinal0 [0x00007FF71F73F598+849304]\n\tMicrosoft::Applications::Events::EventProperty::to_string [0x00007FF71F8D91B8+848488]\n\tMicrosoft::Applications::Events::EventProperty::EventProperty [0x00007FF71F9CB17D+39117]\n\tMicrosoft::Applications::Events::EventProperty::EventProperty [0x00007FF71F9CE3F2+52034]\n\tMicrosoft::Applications::Events::EventProperty::to_string [0x00007FF71F810D56+28166]\n\tMicrosoft::Applications::Events::time_ticks_t::time_ticks_t [0x00007FF71FC18FE1+531601]\n\tMicrosoft::Applications::Events::time_ticks_t::time_ticks_t [0x00007FF71FC1E4C4+553332]\n\tMicrosoft::Applications::Events::time_ticks_t::time_ticks_t [0x00007FF71FC1E655+553733]\n\tMicrosoft::Applications::Events::EventProperty::to_string [0x00007FF71F8E6C40+904432]\n\tBaseThreadInitThunk [0x00007FFA699B7034+20]\n\tRtlUserThreadStart [0x00007FFA6B342651+33]\n"
     ]
    }
   ],
   "source": [
    "next_btn = driver.find_element_by_xpath('/html/body/div[1]/div/div[3]/div[1]/div[2]/div[12]/div/div/nav/a[12]')\n",
    "next_btn.click()"
   ]
  },
  {
   "cell_type": "code",
   "execution_count": 384,
   "id": "996f34ec",
   "metadata": {},
   "outputs": [
    {
     "data": {
      "text/plain": [
       "[<selenium.webdriver.remote.webelement.WebElement (session=\"15a2371509e19b76b3a508c002391c06\", element=\"578642fe-a21a-4a3c-a0b5-bf46f14114fe\")>,\n",
       " <selenium.webdriver.remote.webelement.WebElement (session=\"15a2371509e19b76b3a508c002391c06\", element=\"bae3aa12-5a50-4580-a322-6da3ff78e2f0\")>,\n",
       " <selenium.webdriver.remote.webelement.WebElement (session=\"15a2371509e19b76b3a508c002391c06\", element=\"0ffd5dd6-727e-4f3a-b1e4-a785065a6da8\")>,\n",
       " <selenium.webdriver.remote.webelement.WebElement (session=\"15a2371509e19b76b3a508c002391c06\", element=\"64a23a4b-290a-45da-995b-743ddc3ebae3\")>,\n",
       " <selenium.webdriver.remote.webelement.WebElement (session=\"15a2371509e19b76b3a508c002391c06\", element=\"a5109e9e-bcb7-4528-8d83-6ae68b6124c0\")>,\n",
       " <selenium.webdriver.remote.webelement.WebElement (session=\"15a2371509e19b76b3a508c002391c06\", element=\"c7f6812a-de49-46cd-b1ad-3f6bce93d85b\")>,\n",
       " <selenium.webdriver.remote.webelement.WebElement (session=\"15a2371509e19b76b3a508c002391c06\", element=\"aa142fd1-375e-4227-a044-9217287ff738\")>,\n",
       " <selenium.webdriver.remote.webelement.WebElement (session=\"15a2371509e19b76b3a508c002391c06\", element=\"cfb6e641-ff93-4c27-b657-2fcfd5b16e00\")>,\n",
       " <selenium.webdriver.remote.webelement.WebElement (session=\"15a2371509e19b76b3a508c002391c06\", element=\"c9c956a7-517a-4575-84e2-90166f19c834\")>,\n",
       " <selenium.webdriver.remote.webelement.WebElement (session=\"15a2371509e19b76b3a508c002391c06\", element=\"a1f2e547-2cc9-412b-9d40-47fd15b54a78\")>,\n",
       " <selenium.webdriver.remote.webelement.WebElement (session=\"15a2371509e19b76b3a508c002391c06\", element=\"8f351917-b747-4e63-8ebb-79211944ef67\")>,\n",
       " <selenium.webdriver.remote.webelement.WebElement (session=\"15a2371509e19b76b3a508c002391c06\", element=\"1e3295de-b625-4b07-a791-71da37ed585a\")>,\n",
       " <selenium.webdriver.remote.webelement.WebElement (session=\"15a2371509e19b76b3a508c002391c06\", element=\"189f0b8b-1b67-4d29-9898-5fea0e23e1f1\")>,\n",
       " <selenium.webdriver.remote.webelement.WebElement (session=\"15a2371509e19b76b3a508c002391c06\", element=\"70ac782a-9a30-48e2-9f20-e78222487c84\")>,\n",
       " <selenium.webdriver.remote.webelement.WebElement (session=\"15a2371509e19b76b3a508c002391c06\", element=\"a035e4c2-e5c8-40bd-9264-b0fdbc7cfc54\")>,\n",
       " <selenium.webdriver.remote.webelement.WebElement (session=\"15a2371509e19b76b3a508c002391c06\", element=\"b5f7381d-8178-4992-9f97-a66391fde243\")>,\n",
       " <selenium.webdriver.remote.webelement.WebElement (session=\"15a2371509e19b76b3a508c002391c06\", element=\"73aa04ba-f6a7-4c8b-9157-dcb78bcbf51d\")>,\n",
       " <selenium.webdriver.remote.webelement.WebElement (session=\"15a2371509e19b76b3a508c002391c06\", element=\"8d7c5f45-526a-403d-af96-d8b1cc0e2c8f\")>,\n",
       " <selenium.webdriver.remote.webelement.WebElement (session=\"15a2371509e19b76b3a508c002391c06\", element=\"cc42697b-68eb-4039-a963-a80df8ae3564\")>,\n",
       " <selenium.webdriver.remote.webelement.WebElement (session=\"15a2371509e19b76b3a508c002391c06\", element=\"0ba75642-afa5-4350-825a-6e3d2bda2dbf\")>,\n",
       " <selenium.webdriver.remote.webelement.WebElement (session=\"15a2371509e19b76b3a508c002391c06\", element=\"6e37144e-f5a3-418d-b93d-11f26d1b6ba9\")>,\n",
       " <selenium.webdriver.remote.webelement.WebElement (session=\"15a2371509e19b76b3a508c002391c06\", element=\"600f1fb9-c7fb-4b27-be61-a4dd2056bc5f\")>,\n",
       " <selenium.webdriver.remote.webelement.WebElement (session=\"15a2371509e19b76b3a508c002391c06\", element=\"d6b91018-8c0f-4a2d-99d1-66a08948f240\")>,\n",
       " <selenium.webdriver.remote.webelement.WebElement (session=\"15a2371509e19b76b3a508c002391c06\", element=\"d884e190-f966-4fc7-801a-a641a9dd9328\")>,\n",
       " <selenium.webdriver.remote.webelement.WebElement (session=\"15a2371509e19b76b3a508c002391c06\", element=\"df8f0568-22e7-4765-b66a-19d03f36cbd3\")>,\n",
       " <selenium.webdriver.remote.webelement.WebElement (session=\"15a2371509e19b76b3a508c002391c06\", element=\"4927b38e-0444-4e14-aa2b-cfc278590359\")>,\n",
       " <selenium.webdriver.remote.webelement.WebElement (session=\"15a2371509e19b76b3a508c002391c06\", element=\"7e0e06d6-28d7-4523-a170-01c5afb4d98e\")>,\n",
       " <selenium.webdriver.remote.webelement.WebElement (session=\"15a2371509e19b76b3a508c002391c06\", element=\"63986339-d3dd-459f-ac2b-34d34639ad47\")>,\n",
       " <selenium.webdriver.remote.webelement.WebElement (session=\"15a2371509e19b76b3a508c002391c06\", element=\"c7552fff-b51a-43ea-9927-e3280e410424\")>,\n",
       " <selenium.webdriver.remote.webelement.WebElement (session=\"15a2371509e19b76b3a508c002391c06\", element=\"98d3365a-3c2d-406c-a099-bc0619632edc\")>,\n",
       " <selenium.webdriver.remote.webelement.WebElement (session=\"15a2371509e19b76b3a508c002391c06\", element=\"db902641-5014-4dcc-bb65-0848e603069d\")>,\n",
       " <selenium.webdriver.remote.webelement.WebElement (session=\"15a2371509e19b76b3a508c002391c06\", element=\"bece1aa9-b2a5-4eda-b1cf-d33967f83360\")>,\n",
       " <selenium.webdriver.remote.webelement.WebElement (session=\"15a2371509e19b76b3a508c002391c06\", element=\"c5900e0f-5664-49f1-9ab2-cdf76d5e4fe4\")>,\n",
       " <selenium.webdriver.remote.webelement.WebElement (session=\"15a2371509e19b76b3a508c002391c06\", element=\"f206f26a-e7d5-4c07-855f-e20530bf6a60\")>,\n",
       " <selenium.webdriver.remote.webelement.WebElement (session=\"15a2371509e19b76b3a508c002391c06\", element=\"6375f870-6ea0-4b5d-b091-1227b1f8f43a\")>,\n",
       " <selenium.webdriver.remote.webelement.WebElement (session=\"15a2371509e19b76b3a508c002391c06\", element=\"5462e40d-85e2-4d22-8466-6ad323ebbd45\")>,\n",
       " <selenium.webdriver.remote.webelement.WebElement (session=\"15a2371509e19b76b3a508c002391c06\", element=\"5a74dcc7-755a-416f-9990-7c6336cf2305\")>,\n",
       " <selenium.webdriver.remote.webelement.WebElement (session=\"15a2371509e19b76b3a508c002391c06\", element=\"c641661b-66f8-42d3-8e74-ff842544f926\")>,\n",
       " <selenium.webdriver.remote.webelement.WebElement (session=\"15a2371509e19b76b3a508c002391c06\", element=\"bdb15e86-ec3d-4dd8-bb0a-5064f7ab5ef6\")>,\n",
       " <selenium.webdriver.remote.webelement.WebElement (session=\"15a2371509e19b76b3a508c002391c06\", element=\"177a9ae2-5191-4ebc-943e-302285f37974\")>]"
      ]
     },
     "execution_count": 384,
     "metadata": {},
     "output_type": "execute_result"
    }
   ],
   "source": [
    "p3= driver.find_elements_by_xpath('//div[@class=\"_30jeq3\"]')\n",
    "p3"
   ]
  },
  {
   "cell_type": "code",
   "execution_count": 385,
   "id": "0efd2290",
   "metadata": {},
   "outputs": [
    {
     "data": {
      "text/plain": [
       "['₹489',\n",
       " '₹248',\n",
       " '₹188',\n",
       " '₹234',\n",
       " '₹243',\n",
       " '₹229',\n",
       " '₹165',\n",
       " '₹639',\n",
       " '₹178',\n",
       " '₹499',\n",
       " '₹309',\n",
       " '₹146',\n",
       " '₹399',\n",
       " '₹189',\n",
       " '₹269',\n",
       " '₹299',\n",
       " '₹200',\n",
       " '₹235',\n",
       " '₹626',\n",
       " '₹230']"
      ]
     },
     "execution_count": 385,
     "metadata": {},
     "output_type": "execute_result"
    }
   ],
   "source": [
    "price3=[]\n",
    "for i in p3:\n",
    "    price3.append(i.text)\n",
    "price3[:20]"
   ]
  },
  {
   "cell_type": "code",
   "execution_count": 386,
   "id": "2fe69951",
   "metadata": {},
   "outputs": [
    {
     "data": {
      "text/plain": [
       "['₹232',\n",
       " '₹203',\n",
       " '₹249',\n",
       " '₹291',\n",
       " '₹639',\n",
       " '₹349',\n",
       " '₹359',\n",
       " '₹719',\n",
       " '₹174',\n",
       " '₹360',\n",
       " '₹199',\n",
       " '₹664',\n",
       " '₹202',\n",
       " '₹299',\n",
       " '₹729',\n",
       " '₹229',\n",
       " '₹177',\n",
       " '₹209',\n",
       " '₹327',\n",
       " '₹649',\n",
       " '₹199',\n",
       " '₹189',\n",
       " '₹188',\n",
       " '₹289',\n",
       " '₹375',\n",
       " '₹160',\n",
       " '₹179',\n",
       " '₹639',\n",
       " '₹639',\n",
       " '₹664',\n",
       " '₹1,099',\n",
       " '₹177',\n",
       " '₹157',\n",
       " '₹284',\n",
       " '₹359',\n",
       " '₹219',\n",
       " '₹198',\n",
       " '₹207',\n",
       " '₹584',\n",
       " '₹243',\n",
       " '₹489',\n",
       " '₹248',\n",
       " '₹188',\n",
       " '₹234',\n",
       " '₹243',\n",
       " '₹229',\n",
       " '₹165',\n",
       " '₹639',\n",
       " '₹178',\n",
       " '₹499',\n",
       " '₹309',\n",
       " '₹146',\n",
       " '₹399',\n",
       " '₹189',\n",
       " '₹269',\n",
       " '₹299',\n",
       " '₹200',\n",
       " '₹235',\n",
       " '₹626',\n",
       " '₹230',\n",
       " '₹269',\n",
       " '₹144',\n",
       " '₹276',\n",
       " '₹199',\n",
       " '₹259',\n",
       " '₹180',\n",
       " '₹175',\n",
       " '₹196',\n",
       " '₹165',\n",
       " '₹689',\n",
       " '₹167',\n",
       " '₹289',\n",
       " '₹299',\n",
       " '₹220',\n",
       " '₹459',\n",
       " '₹299',\n",
       " '₹225',\n",
       " '₹499',\n",
       " '₹156',\n",
       " '₹263',\n",
       " '₹489',\n",
       " '₹248',\n",
       " '₹188',\n",
       " '₹234',\n",
       " '₹243',\n",
       " '₹229',\n",
       " '₹165',\n",
       " '₹639',\n",
       " '₹178',\n",
       " '₹499',\n",
       " '₹309',\n",
       " '₹146',\n",
       " '₹399',\n",
       " '₹189',\n",
       " '₹269',\n",
       " '₹299',\n",
       " '₹200',\n",
       " '₹235',\n",
       " '₹626',\n",
       " '₹230']"
      ]
     },
     "execution_count": 386,
     "metadata": {},
     "output_type": "execute_result"
    }
   ],
   "source": [
    "price = price1+price2+price3[:20]\n",
    "price"
   ]
  },
  {
   "cell_type": "code",
   "execution_count": 387,
   "id": "06e488c6",
   "metadata": {},
   "outputs": [
    {
     "data": {
      "text/plain": [
       "100"
      ]
     },
     "execution_count": 387,
     "metadata": {},
     "output_type": "execute_result"
    }
   ],
   "source": [
    "len(price)"
   ]
  },
  {
   "cell_type": "code",
   "execution_count": 388,
   "id": "40eb0016",
   "metadata": {},
   "outputs": [],
   "source": [
    "#redirecting to the 1st page\n",
    "page1 = driver.find_element_by_xpath('/html/body/div[1]/div/div[3]/div[1]/div[2]/div[12]/div/div/nav/a[1]')\n",
    "page1.click()"
   ]
  },
  {
   "cell_type": "code",
   "execution_count": 389,
   "id": "bab7ac1c",
   "metadata": {},
   "outputs": [
    {
     "data": {
      "text/plain": [
       "[<selenium.webdriver.remote.webelement.WebElement (session=\"15a2371509e19b76b3a508c002391c06\", element=\"5e1ca193-24c6-42fd-96f8-b2b17cfc53a1\")>,\n",
       " <selenium.webdriver.remote.webelement.WebElement (session=\"15a2371509e19b76b3a508c002391c06\", element=\"c051f46e-a601-435e-a5ba-d2f1019ff2de\")>,\n",
       " <selenium.webdriver.remote.webelement.WebElement (session=\"15a2371509e19b76b3a508c002391c06\", element=\"72c84704-94a6-4ada-a89e-dbc032e209c5\")>,\n",
       " <selenium.webdriver.remote.webelement.WebElement (session=\"15a2371509e19b76b3a508c002391c06\", element=\"fe4d6b3f-bd69-4da8-a197-c96c6b029f90\")>,\n",
       " <selenium.webdriver.remote.webelement.WebElement (session=\"15a2371509e19b76b3a508c002391c06\", element=\"0bb019ca-81f7-4669-b6aa-846237b1e6e4\")>,\n",
       " <selenium.webdriver.remote.webelement.WebElement (session=\"15a2371509e19b76b3a508c002391c06\", element=\"8f1185d6-6beb-4ed8-9092-eb758685d4ec\")>,\n",
       " <selenium.webdriver.remote.webelement.WebElement (session=\"15a2371509e19b76b3a508c002391c06\", element=\"ba28a35b-d3d2-4325-a45b-8e2430410b46\")>,\n",
       " <selenium.webdriver.remote.webelement.WebElement (session=\"15a2371509e19b76b3a508c002391c06\", element=\"8061e0f8-f17b-426b-ac93-e6d5f1005cf0\")>,\n",
       " <selenium.webdriver.remote.webelement.WebElement (session=\"15a2371509e19b76b3a508c002391c06\", element=\"11c53949-289c-45e3-821f-b93ee4c704df\")>,\n",
       " <selenium.webdriver.remote.webelement.WebElement (session=\"15a2371509e19b76b3a508c002391c06\", element=\"ddb13416-0f85-448f-94c1-ff20ebf73196\")>,\n",
       " <selenium.webdriver.remote.webelement.WebElement (session=\"15a2371509e19b76b3a508c002391c06\", element=\"e9fced8f-31db-46dd-953e-af5354d0ab78\")>,\n",
       " <selenium.webdriver.remote.webelement.WebElement (session=\"15a2371509e19b76b3a508c002391c06\", element=\"dd9b0fcd-5d3c-42df-8e88-aae29fb51f25\")>,\n",
       " <selenium.webdriver.remote.webelement.WebElement (session=\"15a2371509e19b76b3a508c002391c06\", element=\"c3b0f4f2-23f1-43d1-abb5-9d9909ce5ad9\")>,\n",
       " <selenium.webdriver.remote.webelement.WebElement (session=\"15a2371509e19b76b3a508c002391c06\", element=\"dd75c25a-bd60-4d48-9684-f8327c21cb90\")>,\n",
       " <selenium.webdriver.remote.webelement.WebElement (session=\"15a2371509e19b76b3a508c002391c06\", element=\"7de31c8e-2aef-4a19-a608-b93708d29cff\")>,\n",
       " <selenium.webdriver.remote.webelement.WebElement (session=\"15a2371509e19b76b3a508c002391c06\", element=\"42f710eb-7d64-4017-ae2f-83850f03a3d0\")>,\n",
       " <selenium.webdriver.remote.webelement.WebElement (session=\"15a2371509e19b76b3a508c002391c06\", element=\"2b3341c1-ed0f-4dcd-bed5-e2bb1a1bfef0\")>,\n",
       " <selenium.webdriver.remote.webelement.WebElement (session=\"15a2371509e19b76b3a508c002391c06\", element=\"ceabf396-aa66-4cf4-96d6-813d64e6685a\")>,\n",
       " <selenium.webdriver.remote.webelement.WebElement (session=\"15a2371509e19b76b3a508c002391c06\", element=\"7e0bd5e3-6dc7-4501-9809-988c399e0e8c\")>,\n",
       " <selenium.webdriver.remote.webelement.WebElement (session=\"15a2371509e19b76b3a508c002391c06\", element=\"915334de-07a9-406b-8e18-61dcce01f0f5\")>,\n",
       " <selenium.webdriver.remote.webelement.WebElement (session=\"15a2371509e19b76b3a508c002391c06\", element=\"f3fe418b-0b9a-4b21-ade5-974d79c33299\")>,\n",
       " <selenium.webdriver.remote.webelement.WebElement (session=\"15a2371509e19b76b3a508c002391c06\", element=\"a46c9346-e562-4f7b-86ff-bdb5781a4c4f\")>,\n",
       " <selenium.webdriver.remote.webelement.WebElement (session=\"15a2371509e19b76b3a508c002391c06\", element=\"49917131-acd2-498a-a02e-0b64b662c73e\")>,\n",
       " <selenium.webdriver.remote.webelement.WebElement (session=\"15a2371509e19b76b3a508c002391c06\", element=\"64ae6485-af49-4ed5-bb35-dc50f9880262\")>,\n",
       " <selenium.webdriver.remote.webelement.WebElement (session=\"15a2371509e19b76b3a508c002391c06\", element=\"b54e9498-39ab-4b24-8858-385136a3d5c1\")>,\n",
       " <selenium.webdriver.remote.webelement.WebElement (session=\"15a2371509e19b76b3a508c002391c06\", element=\"ca706887-0ce1-4a0b-a5f6-a257344540b7\")>,\n",
       " <selenium.webdriver.remote.webelement.WebElement (session=\"15a2371509e19b76b3a508c002391c06\", element=\"1f082dee-a7a7-488d-8db8-779971a7e3ff\")>,\n",
       " <selenium.webdriver.remote.webelement.WebElement (session=\"15a2371509e19b76b3a508c002391c06\", element=\"d9b749ea-e2b7-497a-b0c4-91ec9e427959\")>,\n",
       " <selenium.webdriver.remote.webelement.WebElement (session=\"15a2371509e19b76b3a508c002391c06\", element=\"8c863860-b1a9-48c8-89f8-7e15bf99df5e\")>,\n",
       " <selenium.webdriver.remote.webelement.WebElement (session=\"15a2371509e19b76b3a508c002391c06\", element=\"4635f5f1-0fda-4560-9926-4b921a11da34\")>,\n",
       " <selenium.webdriver.remote.webelement.WebElement (session=\"15a2371509e19b76b3a508c002391c06\", element=\"d5236ec1-a6e8-4256-8dc5-9c7a2d8242e7\")>,\n",
       " <selenium.webdriver.remote.webelement.WebElement (session=\"15a2371509e19b76b3a508c002391c06\", element=\"a7d59b69-c4af-4c42-b8d7-c1817c2c96de\")>,\n",
       " <selenium.webdriver.remote.webelement.WebElement (session=\"15a2371509e19b76b3a508c002391c06\", element=\"72cb9771-0083-4d36-a6ac-569f7fcaf751\")>,\n",
       " <selenium.webdriver.remote.webelement.WebElement (session=\"15a2371509e19b76b3a508c002391c06\", element=\"35cb88c7-8807-489c-bab3-1d847a4eb11f\")>,\n",
       " <selenium.webdriver.remote.webelement.WebElement (session=\"15a2371509e19b76b3a508c002391c06\", element=\"17b030b8-be22-46d5-90be-c9317830b2ec\")>,\n",
       " <selenium.webdriver.remote.webelement.WebElement (session=\"15a2371509e19b76b3a508c002391c06\", element=\"6b11a3e9-4b21-4dad-8844-b68531a4fd7b\")>,\n",
       " <selenium.webdriver.remote.webelement.WebElement (session=\"15a2371509e19b76b3a508c002391c06\", element=\"e79fbed3-5f34-4920-baea-835ae6b5e55c\")>,\n",
       " <selenium.webdriver.remote.webelement.WebElement (session=\"15a2371509e19b76b3a508c002391c06\", element=\"47d20c3d-6632-49c8-990f-9c863a155d9e\")>,\n",
       " <selenium.webdriver.remote.webelement.WebElement (session=\"15a2371509e19b76b3a508c002391c06\", element=\"57d7c8c0-f8e3-4962-825f-e3790baee8a2\")>,\n",
       " <selenium.webdriver.remote.webelement.WebElement (session=\"15a2371509e19b76b3a508c002391c06\", element=\"04788931-3a37-45f1-9227-7960c3a507a4\")>]"
      ]
     },
     "execution_count": 389,
     "metadata": {},
     "output_type": "execute_result"
    }
   ],
   "source": [
    "d1 = driver.find_elements_by_xpath('//div[@class=\"_3Ay6Sb\"]')\n",
    "d1"
   ]
  },
  {
   "cell_type": "code",
   "execution_count": 390,
   "id": "35fc7ccb",
   "metadata": {},
   "outputs": [
    {
     "data": {
      "text/plain": [
       "['38%  ',\n",
       " '90%  ',\n",
       " '85%  ',\n",
       " '88%  ',\n",
       " '81%  ',\n",
       " '85%  ',\n",
       " '90%  ',\n",
       " '20%  ',\n",
       " '82%  ',\n",
       " '75%  ',\n",
       " '84%  ',\n",
       " '87%  ',\n",
       " '80%  ',\n",
       " '87%  ',\n",
       " '86%  ',\n",
       " '85%  ',\n",
       " '87%  ',\n",
       " '81%  ',\n",
       " '21%  ',\n",
       " '88%  ',\n",
       " '73%  ',\n",
       " '79%  ',\n",
       " '88%  ',\n",
       " '80%  ',\n",
       " '81%  ',\n",
       " '83%  ',\n",
       " '89%  ',\n",
       " '82%  ',\n",
       " '66%  ',\n",
       " '23%  ',\n",
       " '88%  ',\n",
       " '85%  ',\n",
       " '85%  ',\n",
       " '72%  ',\n",
       " '48%  ',\n",
       " '88%  ',\n",
       " '85%  ',\n",
       " '77%  ',\n",
       " '87%  ',\n",
       " '82%  ']"
      ]
     },
     "execution_count": 390,
     "metadata": {},
     "output_type": "execute_result"
    }
   ],
   "source": [
    "discount1 = []\n",
    "for i in d1:\n",
    "    discount1.append(i.text.replace(\"off\", ' '))\n",
    "discount1"
   ]
  },
  {
   "cell_type": "code",
   "execution_count": 391,
   "id": "c3b2885d",
   "metadata": {},
   "outputs": [
    {
     "data": {
      "text/plain": [
       "<selenium.webdriver.remote.webelement.WebElement (session=\"15a2371509e19b76b3a508c002391c06\", element=\"fe311109-5017-45e4-85f7-67b8a800ddd8\")>"
      ]
     },
     "execution_count": 391,
     "metadata": {},
     "output_type": "execute_result"
    }
   ],
   "source": [
    "next_btn = driver.find_element_by_xpath('//a[@class=\"_1LKTO3\"]')\n",
    "next_btn"
   ]
  },
  {
   "cell_type": "code",
   "execution_count": 392,
   "id": "aa7d86fb",
   "metadata": {},
   "outputs": [],
   "source": [
    "next_btn.click()"
   ]
  },
  {
   "cell_type": "code",
   "execution_count": 393,
   "id": "c4c4bc17",
   "metadata": {},
   "outputs": [
    {
     "data": {
      "text/plain": [
       "[<selenium.webdriver.remote.webelement.WebElement (session=\"15a2371509e19b76b3a508c002391c06\", element=\"aa3ba422-714e-4760-aef9-d1558424fe22\")>,\n",
       " <selenium.webdriver.remote.webelement.WebElement (session=\"15a2371509e19b76b3a508c002391c06\", element=\"22284992-c590-41f7-9c13-202144d4f45b\")>,\n",
       " <selenium.webdriver.remote.webelement.WebElement (session=\"15a2371509e19b76b3a508c002391c06\", element=\"5defe1ac-d70e-4ac6-bb8b-680c56cbe427\")>,\n",
       " <selenium.webdriver.remote.webelement.WebElement (session=\"15a2371509e19b76b3a508c002391c06\", element=\"bc8e2a68-4eeb-4719-b5ea-aaa7cbbabd59\")>,\n",
       " <selenium.webdriver.remote.webelement.WebElement (session=\"15a2371509e19b76b3a508c002391c06\", element=\"b7514328-77a1-4e2c-8834-8c5ac6f14a20\")>,\n",
       " <selenium.webdriver.remote.webelement.WebElement (session=\"15a2371509e19b76b3a508c002391c06\", element=\"39e221e7-3147-43a5-9453-fd7cdcd59be0\")>,\n",
       " <selenium.webdriver.remote.webelement.WebElement (session=\"15a2371509e19b76b3a508c002391c06\", element=\"58fc75af-4d71-4940-b63c-a79d067d089f\")>,\n",
       " <selenium.webdriver.remote.webelement.WebElement (session=\"15a2371509e19b76b3a508c002391c06\", element=\"74f2dff5-502b-4c3b-bbd5-300fd29e5f2a\")>,\n",
       " <selenium.webdriver.remote.webelement.WebElement (session=\"15a2371509e19b76b3a508c002391c06\", element=\"4634eedb-3af0-4593-bea9-48bddf93d04d\")>,\n",
       " <selenium.webdriver.remote.webelement.WebElement (session=\"15a2371509e19b76b3a508c002391c06\", element=\"9db2ba61-9890-4b53-b0cc-1cb79a7546a2\")>,\n",
       " <selenium.webdriver.remote.webelement.WebElement (session=\"15a2371509e19b76b3a508c002391c06\", element=\"0ee72acd-4dc9-49f4-9781-5f6d37228330\")>,\n",
       " <selenium.webdriver.remote.webelement.WebElement (session=\"15a2371509e19b76b3a508c002391c06\", element=\"3a1130cf-fa6b-4307-b68c-265c36a7d86a\")>,\n",
       " <selenium.webdriver.remote.webelement.WebElement (session=\"15a2371509e19b76b3a508c002391c06\", element=\"e23f9bdb-8ed9-41bb-abbc-427492d5975f\")>,\n",
       " <selenium.webdriver.remote.webelement.WebElement (session=\"15a2371509e19b76b3a508c002391c06\", element=\"b8f9dce7-9b30-4876-b1be-183388c8ad0b\")>,\n",
       " <selenium.webdriver.remote.webelement.WebElement (session=\"15a2371509e19b76b3a508c002391c06\", element=\"4af7c8dc-0867-4aa3-9891-ed6643135fbe\")>,\n",
       " <selenium.webdriver.remote.webelement.WebElement (session=\"15a2371509e19b76b3a508c002391c06\", element=\"3bfc1c1c-4d8f-44f0-ac93-041d6411018a\")>,\n",
       " <selenium.webdriver.remote.webelement.WebElement (session=\"15a2371509e19b76b3a508c002391c06\", element=\"e26cd3a7-5987-4356-80fb-ae7f04805feb\")>,\n",
       " <selenium.webdriver.remote.webelement.WebElement (session=\"15a2371509e19b76b3a508c002391c06\", element=\"947a8f4a-1683-48bf-9489-cae9da91830e\")>,\n",
       " <selenium.webdriver.remote.webelement.WebElement (session=\"15a2371509e19b76b3a508c002391c06\", element=\"f90f6b4d-acaa-4ff3-a5c8-f9f486f66d74\")>,\n",
       " <selenium.webdriver.remote.webelement.WebElement (session=\"15a2371509e19b76b3a508c002391c06\", element=\"40488626-36e7-4718-92f7-99a55ad9d1ca\")>,\n",
       " <selenium.webdriver.remote.webelement.WebElement (session=\"15a2371509e19b76b3a508c002391c06\", element=\"265e8c9c-984d-494e-ac56-745d59997e79\")>,\n",
       " <selenium.webdriver.remote.webelement.WebElement (session=\"15a2371509e19b76b3a508c002391c06\", element=\"07c3d96e-ceac-4d1e-891b-b431525aa7ab\")>,\n",
       " <selenium.webdriver.remote.webelement.WebElement (session=\"15a2371509e19b76b3a508c002391c06\", element=\"bd700755-6489-4435-8567-0bc8f25e04a9\")>,\n",
       " <selenium.webdriver.remote.webelement.WebElement (session=\"15a2371509e19b76b3a508c002391c06\", element=\"fbf57c9b-f296-4f30-b4a7-978c7810f35c\")>,\n",
       " <selenium.webdriver.remote.webelement.WebElement (session=\"15a2371509e19b76b3a508c002391c06\", element=\"5913e096-6218-4072-9646-3da9a43ebcf1\")>,\n",
       " <selenium.webdriver.remote.webelement.WebElement (session=\"15a2371509e19b76b3a508c002391c06\", element=\"17a76f25-6037-4974-b0af-153c3a8ad855\")>,\n",
       " <selenium.webdriver.remote.webelement.WebElement (session=\"15a2371509e19b76b3a508c002391c06\", element=\"cf579b43-13e8-4fa5-860a-a9421da440da\")>,\n",
       " <selenium.webdriver.remote.webelement.WebElement (session=\"15a2371509e19b76b3a508c002391c06\", element=\"a5af28e5-0cad-4448-81aa-12d388fc71f4\")>,\n",
       " <selenium.webdriver.remote.webelement.WebElement (session=\"15a2371509e19b76b3a508c002391c06\", element=\"bf16891a-28e8-48dc-a549-883a84184256\")>,\n",
       " <selenium.webdriver.remote.webelement.WebElement (session=\"15a2371509e19b76b3a508c002391c06\", element=\"f5a7d8db-7e29-4393-ad78-f215178c5120\")>,\n",
       " <selenium.webdriver.remote.webelement.WebElement (session=\"15a2371509e19b76b3a508c002391c06\", element=\"36170e25-1e4e-48f5-bbd7-fb7d2639f3c9\")>,\n",
       " <selenium.webdriver.remote.webelement.WebElement (session=\"15a2371509e19b76b3a508c002391c06\", element=\"68f9e33a-6a2f-47cc-a9a0-ae9862650709\")>,\n",
       " <selenium.webdriver.remote.webelement.WebElement (session=\"15a2371509e19b76b3a508c002391c06\", element=\"b7581ffb-837f-4d57-b6a7-1ab75553a077\")>,\n",
       " <selenium.webdriver.remote.webelement.WebElement (session=\"15a2371509e19b76b3a508c002391c06\", element=\"37c3d487-6392-4cbe-b504-eaf8dafeff28\")>,\n",
       " <selenium.webdriver.remote.webelement.WebElement (session=\"15a2371509e19b76b3a508c002391c06\", element=\"ee3991cc-8721-4d39-bac0-49c1aee72a0e\")>,\n",
       " <selenium.webdriver.remote.webelement.WebElement (session=\"15a2371509e19b76b3a508c002391c06\", element=\"1336ee59-9d54-4c6a-bd31-75f236f4690b\")>,\n",
       " <selenium.webdriver.remote.webelement.WebElement (session=\"15a2371509e19b76b3a508c002391c06\", element=\"67fec2db-ed79-46d3-928b-1214081c8180\")>,\n",
       " <selenium.webdriver.remote.webelement.WebElement (session=\"15a2371509e19b76b3a508c002391c06\", element=\"51ea52bc-be6a-4446-ab5f-b689ed108ec7\")>,\n",
       " <selenium.webdriver.remote.webelement.WebElement (session=\"15a2371509e19b76b3a508c002391c06\", element=\"739a61e6-e7aa-4390-8fe5-ba9ebcc47062\")>,\n",
       " <selenium.webdriver.remote.webelement.WebElement (session=\"15a2371509e19b76b3a508c002391c06\", element=\"6f5c59be-767e-44f6-a2d3-e64e8a6838bb\")>]"
      ]
     },
     "execution_count": 393,
     "metadata": {},
     "output_type": "execute_result"
    }
   ],
   "source": [
    "d2= driver.find_elements_by_xpath('//div[@class=\"_3Ay6Sb\"]')\n",
    "d2"
   ]
  },
  {
   "cell_type": "code",
   "execution_count": 394,
   "id": "a846bca9",
   "metadata": {},
   "outputs": [
    {
     "data": {
      "text/plain": [
       "['82% ',\n",
       " '70% ',\n",
       " '85% ',\n",
       " '85% ',\n",
       " '20% ',\n",
       " '86% ',\n",
       " '76% ',\n",
       " '20% ',\n",
       " '82% ',\n",
       " '81% ',\n",
       " '80% ',\n",
       " '66% ',\n",
       " '83% ',\n",
       " '81% ',\n",
       " '18% ',\n",
       " '88% ',\n",
       " '85% ',\n",
       " '83% ',\n",
       " '73% ',\n",
       " '74% ',\n",
       " '80% ',\n",
       " '86% ',\n",
       " '76% ',\n",
       " '85% ',\n",
       " '71% ',\n",
       " '87% ',\n",
       " '82% ',\n",
       " '20% ',\n",
       " '20% ',\n",
       " '77% ',\n",
       " '15% ',\n",
       " '90% ',\n",
       " '89% ',\n",
       " '76% ',\n",
       " '76% ',\n",
       " '85% ',\n",
       " '88% ',\n",
       " '82% ',\n",
       " '26% ',\n",
       " '81% ']"
      ]
     },
     "execution_count": 394,
     "metadata": {},
     "output_type": "execute_result"
    }
   ],
   "source": [
    "discount2= []\n",
    "for i in d2:\n",
    "    discount2.append(i.text.replace('off',''))\n",
    "discount2"
   ]
  },
  {
   "cell_type": "code",
   "execution_count": 395,
   "id": "79e67676",
   "metadata": {},
   "outputs": [],
   "source": [
    "next_btn = driver.find_element_by_xpath('/html/body/div[1]/div/div[3]/div[1]/div[2]/div[12]/div/div/nav/a[12]')\n",
    "next_btn.click()"
   ]
  },
  {
   "cell_type": "code",
   "execution_count": 414,
   "id": "9d3882c5",
   "metadata": {},
   "outputs": [
    {
     "data": {
      "text/plain": [
       "[<selenium.webdriver.remote.webelement.WebElement (session=\"15a2371509e19b76b3a508c002391c06\", element=\"60e79933-a77d-40c0-8a9d-c2eaeb545a3c\")>,\n",
       " <selenium.webdriver.remote.webelement.WebElement (session=\"15a2371509e19b76b3a508c002391c06\", element=\"f7a9532a-f556-4409-b463-fc6f87d84761\")>,\n",
       " <selenium.webdriver.remote.webelement.WebElement (session=\"15a2371509e19b76b3a508c002391c06\", element=\"832d590f-32db-414b-aa38-cf75598c01ab\")>,\n",
       " <selenium.webdriver.remote.webelement.WebElement (session=\"15a2371509e19b76b3a508c002391c06\", element=\"94eaab64-674f-4df1-b49a-922d0ac68159\")>,\n",
       " <selenium.webdriver.remote.webelement.WebElement (session=\"15a2371509e19b76b3a508c002391c06\", element=\"37758ba5-2e64-46ed-bca1-e846e7112532\")>,\n",
       " <selenium.webdriver.remote.webelement.WebElement (session=\"15a2371509e19b76b3a508c002391c06\", element=\"6ebd1b37-98af-419d-82eb-2e5b93cbb52b\")>,\n",
       " <selenium.webdriver.remote.webelement.WebElement (session=\"15a2371509e19b76b3a508c002391c06\", element=\"5d3475ca-94bb-4034-bd84-519b3da6639d\")>,\n",
       " <selenium.webdriver.remote.webelement.WebElement (session=\"15a2371509e19b76b3a508c002391c06\", element=\"e4113308-7781-4b57-af38-dff7eacb3380\")>,\n",
       " <selenium.webdriver.remote.webelement.WebElement (session=\"15a2371509e19b76b3a508c002391c06\", element=\"4d5da13d-b1d8-4e1b-a684-d70ba7edb33f\")>,\n",
       " <selenium.webdriver.remote.webelement.WebElement (session=\"15a2371509e19b76b3a508c002391c06\", element=\"ddeb0579-4174-45a6-a4fc-364ff1a616c8\")>,\n",
       " <selenium.webdriver.remote.webelement.WebElement (session=\"15a2371509e19b76b3a508c002391c06\", element=\"15c6534b-2ad8-4d2a-8d13-d6db234fcc0c\")>,\n",
       " <selenium.webdriver.remote.webelement.WebElement (session=\"15a2371509e19b76b3a508c002391c06\", element=\"4d424ba2-6d6a-49ac-a292-b06358c08466\")>,\n",
       " <selenium.webdriver.remote.webelement.WebElement (session=\"15a2371509e19b76b3a508c002391c06\", element=\"d39528da-b9da-410a-a1c9-240223a6cb8c\")>,\n",
       " <selenium.webdriver.remote.webelement.WebElement (session=\"15a2371509e19b76b3a508c002391c06\", element=\"46f35af5-25e6-4a52-a7be-6a8dc1e2432b\")>,\n",
       " <selenium.webdriver.remote.webelement.WebElement (session=\"15a2371509e19b76b3a508c002391c06\", element=\"b90c83fb-1afa-409d-a2c0-402898fde07d\")>,\n",
       " <selenium.webdriver.remote.webelement.WebElement (session=\"15a2371509e19b76b3a508c002391c06\", element=\"fc331f52-263a-4d8a-8d8b-1a9acf0644d6\")>,\n",
       " <selenium.webdriver.remote.webelement.WebElement (session=\"15a2371509e19b76b3a508c002391c06\", element=\"c0e89930-519b-46d1-bc7d-133e3dd428e4\")>,\n",
       " <selenium.webdriver.remote.webelement.WebElement (session=\"15a2371509e19b76b3a508c002391c06\", element=\"3497d582-d6d2-4b2c-a74d-650201107486\")>,\n",
       " <selenium.webdriver.remote.webelement.WebElement (session=\"15a2371509e19b76b3a508c002391c06\", element=\"9b41d4dc-2583-41f7-a539-6ef3450e44e1\")>,\n",
       " <selenium.webdriver.remote.webelement.WebElement (session=\"15a2371509e19b76b3a508c002391c06\", element=\"bb49d063-5748-4cee-92bd-a58871739c9f\")>,\n",
       " <selenium.webdriver.remote.webelement.WebElement (session=\"15a2371509e19b76b3a508c002391c06\", element=\"00bf2851-c48a-408e-8124-6df0bdcba88b\")>,\n",
       " <selenium.webdriver.remote.webelement.WebElement (session=\"15a2371509e19b76b3a508c002391c06\", element=\"462ff6ee-adde-424e-ae81-0334eb7bcb27\")>,\n",
       " <selenium.webdriver.remote.webelement.WebElement (session=\"15a2371509e19b76b3a508c002391c06\", element=\"8daba88a-89d7-4c4a-b82b-141f29ebbdb1\")>,\n",
       " <selenium.webdriver.remote.webelement.WebElement (session=\"15a2371509e19b76b3a508c002391c06\", element=\"2aa26c17-1aac-4f92-a40c-64bd16350cef\")>,\n",
       " <selenium.webdriver.remote.webelement.WebElement (session=\"15a2371509e19b76b3a508c002391c06\", element=\"6a83c674-529d-4254-ad44-3b7f0003e966\")>,\n",
       " <selenium.webdriver.remote.webelement.WebElement (session=\"15a2371509e19b76b3a508c002391c06\", element=\"659cf6d2-2d09-417e-8b85-e8f96d7f2fe8\")>,\n",
       " <selenium.webdriver.remote.webelement.WebElement (session=\"15a2371509e19b76b3a508c002391c06\", element=\"b2ea69dd-1a5f-44f2-b322-0705dc65ecd2\")>,\n",
       " <selenium.webdriver.remote.webelement.WebElement (session=\"15a2371509e19b76b3a508c002391c06\", element=\"b8ef3a59-2761-4240-ab1c-20532be732fe\")>,\n",
       " <selenium.webdriver.remote.webelement.WebElement (session=\"15a2371509e19b76b3a508c002391c06\", element=\"5542b9f5-c933-4e30-b88b-678a6a7dfde5\")>,\n",
       " <selenium.webdriver.remote.webelement.WebElement (session=\"15a2371509e19b76b3a508c002391c06\", element=\"9dbeba6e-d675-4967-8337-9835b3882b9e\")>,\n",
       " <selenium.webdriver.remote.webelement.WebElement (session=\"15a2371509e19b76b3a508c002391c06\", element=\"eea75c5b-f242-4a0f-a4eb-52f359ccdf3c\")>,\n",
       " <selenium.webdriver.remote.webelement.WebElement (session=\"15a2371509e19b76b3a508c002391c06\", element=\"3c9923a8-7151-4907-a1a2-f936f28e4079\")>,\n",
       " <selenium.webdriver.remote.webelement.WebElement (session=\"15a2371509e19b76b3a508c002391c06\", element=\"59e0acc3-539f-4b25-b8a0-3c1377b70f2e\")>,\n",
       " <selenium.webdriver.remote.webelement.WebElement (session=\"15a2371509e19b76b3a508c002391c06\", element=\"94eb3a42-7160-4c4a-8a3a-941902d86702\")>,\n",
       " <selenium.webdriver.remote.webelement.WebElement (session=\"15a2371509e19b76b3a508c002391c06\", element=\"5c2776e8-30cb-47d4-9998-6dcf50980be7\")>,\n",
       " <selenium.webdriver.remote.webelement.WebElement (session=\"15a2371509e19b76b3a508c002391c06\", element=\"2aa56542-b48e-4d47-a1ed-6dacd0e766ef\")>,\n",
       " <selenium.webdriver.remote.webelement.WebElement (session=\"15a2371509e19b76b3a508c002391c06\", element=\"24a70030-753f-4128-a3fd-91492033df8a\")>,\n",
       " <selenium.webdriver.remote.webelement.WebElement (session=\"15a2371509e19b76b3a508c002391c06\", element=\"e816eabd-da65-47c2-acfd-2eb76f285fed\")>,\n",
       " <selenium.webdriver.remote.webelement.WebElement (session=\"15a2371509e19b76b3a508c002391c06\", element=\"7a36f877-34bf-4337-85f4-25796d1c6757\")>,\n",
       " <selenium.webdriver.remote.webelement.WebElement (session=\"15a2371509e19b76b3a508c002391c06\", element=\"8714c9c3-5cdb-4aa7-90ca-437c8f3356cb\")>]"
      ]
     },
     "execution_count": 414,
     "metadata": {},
     "output_type": "execute_result"
    }
   ],
   "source": [
    "d3= driver.find_elements_by_xpath('//div[@class=\"_3Ay6Sb\"]')\n",
    "d3"
   ]
  },
  {
   "cell_type": "code",
   "execution_count": 415,
   "id": "dca414fc",
   "metadata": {},
   "outputs": [
    {
     "data": {
      "text/plain": [
       "['69% ',\n",
       " '80% ',\n",
       " '84% ',\n",
       " '20% ',\n",
       " '86% ',\n",
       " '86% ',\n",
       " '79% ',\n",
       " '88% ',\n",
       " '69% ',\n",
       " '87% ',\n",
       " '88% ',\n",
       " '76% ',\n",
       " '35% ',\n",
       " '88% ',\n",
       " '73% ',\n",
       " '84% ',\n",
       " '20% ',\n",
       " '48% ',\n",
       " '87% ',\n",
       " '20% ']"
      ]
     },
     "execution_count": 415,
     "metadata": {},
     "output_type": "execute_result"
    }
   ],
   "source": [
    "discount3 = []\n",
    "for i in d3:\n",
    "    discount3.append(i.text.replace('off',''))\n",
    "discount3[:20]"
   ]
  },
  {
   "cell_type": "code",
   "execution_count": 422,
   "id": "1964317a",
   "metadata": {},
   "outputs": [],
   "source": [
    "discount = discount1+discount2"
   ]
  },
  {
   "cell_type": "code",
   "execution_count": 423,
   "id": "d099fbc6",
   "metadata": {},
   "outputs": [
    {
     "data": {
      "text/plain": [
       "['82% ',\n",
       " '70% ',\n",
       " '85% ',\n",
       " '85% ',\n",
       " '20% ',\n",
       " '86% ',\n",
       " '76% ',\n",
       " '20% ',\n",
       " '82% ',\n",
       " '81% ',\n",
       " '80% ',\n",
       " '66% ',\n",
       " '83% ',\n",
       " '81% ',\n",
       " '18% ',\n",
       " '88% ',\n",
       " '85% ',\n",
       " '83% ',\n",
       " '73% ',\n",
       " '74% ',\n",
       " '80% ',\n",
       " '86% ',\n",
       " '76% ',\n",
       " '85% ',\n",
       " '71% ',\n",
       " '87% ',\n",
       " '82% ',\n",
       " '20% ',\n",
       " '20% ',\n",
       " '77% ',\n",
       " '15% ',\n",
       " '90% ',\n",
       " '89% ',\n",
       " '76% ',\n",
       " '76% ',\n",
       " '85% ',\n",
       " '88% ',\n",
       " '82% ',\n",
       " '26% ',\n",
       " '81% ',\n",
       " '69% ',\n",
       " '80% ',\n",
       " '84% ',\n",
       " '20% ',\n",
       " '86% ',\n",
       " '86% ',\n",
       " '79% ',\n",
       " '88% ',\n",
       " '69% ',\n",
       " '87% ',\n",
       " '88% ',\n",
       " '76% ',\n",
       " '35% ',\n",
       " '88% ',\n",
       " '73% ',\n",
       " '84% ',\n",
       " '20% ',\n",
       " '48% ',\n",
       " '87% ',\n",
       " '20% ',\n",
       " '82% ',\n",
       " '70% ',\n",
       " '85% ',\n",
       " '85% ',\n",
       " '20% ',\n",
       " '86% ',\n",
       " '76% ',\n",
       " '20% ',\n",
       " '82% ',\n",
       " '81% ',\n",
       " '80% ',\n",
       " '66% ',\n",
       " '83% ',\n",
       " '81% ',\n",
       " '18% ',\n",
       " '88% ',\n",
       " '85% ',\n",
       " '83% ',\n",
       " '73% ',\n",
       " '74% ',\n",
       " '80% ',\n",
       " '86% ',\n",
       " '76% ',\n",
       " '85% ',\n",
       " '71% ',\n",
       " '87% ',\n",
       " '82% ',\n",
       " '20% ',\n",
       " '20% ',\n",
       " '77% ',\n",
       " '15% ',\n",
       " '90% ',\n",
       " '89% ',\n",
       " '76% ',\n",
       " '76% ',\n",
       " '85% ',\n",
       " '88% ',\n",
       " '82% ',\n",
       " '26% ',\n",
       " '81% ']"
      ]
     },
     "execution_count": 423,
     "metadata": {},
     "output_type": "execute_result"
    }
   ],
   "source": [
    "discount"
   ]
  },
  {
   "cell_type": "code",
   "execution_count": 424,
   "id": "8f667261",
   "metadata": {},
   "outputs": [
    {
     "data": {
      "text/plain": [
       "100"
      ]
     },
     "execution_count": 424,
     "metadata": {},
     "output_type": "execute_result"
    }
   ],
   "source": [
    "len(discount)"
   ]
  },
  {
   "cell_type": "code",
   "execution_count": 425,
   "id": "c2f606f0",
   "metadata": {},
   "outputs": [],
   "source": [
    "#creating a dataframe from the exported data\n",
    "\n",
    "Sunglasses = pd.DataFrame()\n",
    "Sunglasses[\"Brands\"] = Brand\n",
    "Sunglasses[\"Product Description\"] = product_description\n",
    "Sunglasses[\"Prices\"] = price\n",
    "Sunglasses[\"Discount\"] = discount\n"
   ]
  },
  {
   "cell_type": "code",
   "execution_count": 426,
   "id": "ed67d626",
   "metadata": {},
   "outputs": [
    {
     "data": {
      "text/html": [
       "<div>\n",
       "<style scoped>\n",
       "    .dataframe tbody tr th:only-of-type {\n",
       "        vertical-align: middle;\n",
       "    }\n",
       "\n",
       "    .dataframe tbody tr th {\n",
       "        vertical-align: top;\n",
       "    }\n",
       "\n",
       "    .dataframe thead th {\n",
       "        text-align: right;\n",
       "    }\n",
       "</style>\n",
       "<table border=\"1\" class=\"dataframe\">\n",
       "  <thead>\n",
       "    <tr style=\"text-align: right;\">\n",
       "      <th></th>\n",
       "      <th>Brands</th>\n",
       "      <th>Product Description</th>\n",
       "      <th>Prices</th>\n",
       "      <th>Discount</th>\n",
       "    </tr>\n",
       "  </thead>\n",
       "  <tbody>\n",
       "    <tr>\n",
       "      <th>0</th>\n",
       "      <td>Fastrack</td>\n",
       "      <td>UV Protection, Gradient Cat-eye Sunglasses (58)</td>\n",
       "      <td>₹232</td>\n",
       "      <td>82%</td>\n",
       "    </tr>\n",
       "    <tr>\n",
       "      <th>1</th>\n",
       "      <td>Elligator</td>\n",
       "      <td>UV Protection Aviator Sunglasses (57)</td>\n",
       "      <td>₹203</td>\n",
       "      <td>70%</td>\n",
       "    </tr>\n",
       "    <tr>\n",
       "      <th>2</th>\n",
       "      <td>SRPM</td>\n",
       "      <td>UV Protection Round Sunglasses (Free Size)</td>\n",
       "      <td>₹249</td>\n",
       "      <td>85%</td>\n",
       "    </tr>\n",
       "    <tr>\n",
       "      <th>3</th>\n",
       "      <td>New Specs</td>\n",
       "      <td>UV Protection Wayfarer Sunglasses (Free Size)</td>\n",
       "      <td>₹291</td>\n",
       "      <td>85%</td>\n",
       "    </tr>\n",
       "    <tr>\n",
       "      <th>4</th>\n",
       "      <td>SUNBEE</td>\n",
       "      <td>UV Protection Retro Square, Wayfarer Sunglasse...</td>\n",
       "      <td>₹639</td>\n",
       "      <td>20%</td>\n",
       "    </tr>\n",
       "    <tr>\n",
       "      <th>...</th>\n",
       "      <td>...</td>\n",
       "      <td>...</td>\n",
       "      <td>...</td>\n",
       "      <td>...</td>\n",
       "    </tr>\n",
       "    <tr>\n",
       "      <th>95</th>\n",
       "      <td>PHENOMENAL</td>\n",
       "      <td>PHENOMENAL</td>\n",
       "      <td>₹299</td>\n",
       "      <td>85%</td>\n",
       "    </tr>\n",
       "    <tr>\n",
       "      <th>96</th>\n",
       "      <td>Fastrack</td>\n",
       "      <td>Fastrack</td>\n",
       "      <td>₹200</td>\n",
       "      <td>88%</td>\n",
       "    </tr>\n",
       "    <tr>\n",
       "      <th>97</th>\n",
       "      <td>IDEE</td>\n",
       "      <td>IDEE</td>\n",
       "      <td>₹235</td>\n",
       "      <td>82%</td>\n",
       "    </tr>\n",
       "    <tr>\n",
       "      <th>98</th>\n",
       "      <td>PIRASO</td>\n",
       "      <td>PIRASO</td>\n",
       "      <td>₹626</td>\n",
       "      <td>26%</td>\n",
       "    </tr>\n",
       "    <tr>\n",
       "      <th>99</th>\n",
       "      <td>Fastrack</td>\n",
       "      <td>Fastrack</td>\n",
       "      <td>₹230</td>\n",
       "      <td>81%</td>\n",
       "    </tr>\n",
       "  </tbody>\n",
       "</table>\n",
       "<p>100 rows × 4 columns</p>\n",
       "</div>"
      ],
      "text/plain": [
       "        Brands                                Product Description Prices  \\\n",
       "0     Fastrack    UV Protection, Gradient Cat-eye Sunglasses (58)   ₹232   \n",
       "1    Elligator              UV Protection Aviator Sunglasses (57)   ₹203   \n",
       "2         SRPM         UV Protection Round Sunglasses (Free Size)   ₹249   \n",
       "3    New Specs      UV Protection Wayfarer Sunglasses (Free Size)   ₹291   \n",
       "4       SUNBEE  UV Protection Retro Square, Wayfarer Sunglasse...   ₹639   \n",
       "..         ...                                                ...    ...   \n",
       "95  PHENOMENAL                                         PHENOMENAL   ₹299   \n",
       "96    Fastrack                                           Fastrack   ₹200   \n",
       "97        IDEE                                               IDEE   ₹235   \n",
       "98      PIRASO                                             PIRASO   ₹626   \n",
       "99    Fastrack                                           Fastrack   ₹230   \n",
       "\n",
       "   Discount  \n",
       "0      82%   \n",
       "1      70%   \n",
       "2      85%   \n",
       "3      85%   \n",
       "4      20%   \n",
       "..      ...  \n",
       "95     85%   \n",
       "96     88%   \n",
       "97     82%   \n",
       "98     26%   \n",
       "99     81%   \n",
       "\n",
       "[100 rows x 4 columns]"
      ]
     },
     "execution_count": 426,
     "metadata": {},
     "output_type": "execute_result"
    }
   ],
   "source": [
    "Sunglasses"
   ]
  },
  {
   "cell_type": "code",
   "execution_count": null,
   "id": "8ec6cb25",
   "metadata": {},
   "outputs": [],
   "source": []
  },
  {
   "cell_type": "code",
   "execution_count": 428,
   "id": "be24a398",
   "metadata": {},
   "outputs": [],
   "source": [
    "Sunglasses.to_csv (r'D:\\Brijesh\\export.csv', index = False, header=True)\n"
   ]
  },
  {
   "cell_type": "code",
   "execution_count": 1,
   "id": "0a81e741",
   "metadata": {},
   "outputs": [
    {
     "name": "stdout",
     "output_type": "stream",
     "text": [
      "Requirement already satisfied: selenium in c:\\users\\hp\\anaconda3\\lib\\site-packages (4.1.0)\n",
      "Requirement already satisfied: trio~=0.17 in c:\\users\\hp\\anaconda3\\lib\\site-packages (from selenium) (0.19.0)\n",
      "Requirement already satisfied: trio-websocket~=0.9 in c:\\users\\hp\\anaconda3\\lib\\site-packages (from selenium) (0.9.2)\n",
      "Requirement already satisfied: urllib3[secure]~=1.26 in c:\\users\\hp\\anaconda3\\lib\\site-packages (from selenium) (1.26.4)\n",
      "Requirement already satisfied: sniffio in c:\\users\\hp\\anaconda3\\lib\\site-packages (from trio~=0.17->selenium) (1.2.0)\n",
      "Requirement already satisfied: async-generator>=1.9 in c:\\users\\hp\\anaconda3\\lib\\site-packages (from trio~=0.17->selenium) (1.10)\n",
      "Requirement already satisfied: attrs>=19.2.0 in c:\\users\\hp\\anaconda3\\lib\\site-packages (from trio~=0.17->selenium) (20.3.0)\n",
      "Requirement already satisfied: outcome in c:\\users\\hp\\anaconda3\\lib\\site-packages (from trio~=0.17->selenium) (1.1.0)\n",
      "Requirement already satisfied: sortedcontainers in c:\\users\\hp\\anaconda3\\lib\\site-packages (from trio~=0.17->selenium) (2.3.0)\n",
      "Requirement already satisfied: cffi>=1.14 in c:\\users\\hp\\anaconda3\\lib\\site-packages (from trio~=0.17->selenium) (1.14.5)\n",
      "Requirement already satisfied: idna in c:\\users\\hp\\anaconda3\\lib\\site-packages (from trio~=0.17->selenium) (2.10)\n",
      "Requirement already satisfied: pycparser in c:\\users\\hp\\anaconda3\\lib\\site-packages (from cffi>=1.14->trio~=0.17->selenium) (2.20)\n",
      "Requirement already satisfied: wsproto>=0.14 in c:\\users\\hp\\anaconda3\\lib\\site-packages (from trio-websocket~=0.9->selenium) (1.0.0)\n",
      "Requirement already satisfied: pyOpenSSL>=0.14 in c:\\users\\hp\\anaconda3\\lib\\site-packages (from urllib3[secure]~=1.26->selenium) (20.0.1)\n",
      "Requirement already satisfied: cryptography>=1.3.4 in c:\\users\\hp\\anaconda3\\lib\\site-packages (from urllib3[secure]~=1.26->selenium) (3.4.7)\n",
      "Requirement already satisfied: certifi in c:\\users\\hp\\anaconda3\\lib\\site-packages (from urllib3[secure]~=1.26->selenium) (2020.12.5)\n",
      "Requirement already satisfied: six>=1.5.2 in c:\\users\\hp\\anaconda3\\lib\\site-packages (from pyOpenSSL>=0.14->urllib3[secure]~=1.26->selenium) (1.15.0)\n",
      "Requirement already satisfied: h11<1,>=0.9.0 in c:\\users\\hp\\anaconda3\\lib\\site-packages (from wsproto>=0.14->trio-websocket~=0.9->selenium) (0.13.0)\n"
     ]
    }
   ],
   "source": [
    "#Q5: Scrape 100 reviews data from flipkart.com for iphone11 phone.\n",
    "!pip install selenium"
   ]
  },
  {
   "cell_type": "code",
   "execution_count": 23,
   "id": "9e06c827",
   "metadata": {},
   "outputs": [],
   "source": [
    "#importing libraries\n",
    "\n",
    "import pandas as pd\n",
    "import selenium\n",
    "from selenium import webdriver\n",
    "import warnings\n",
    "warnings.filterwarnings(\"ignore\")"
   ]
  },
  {
   "cell_type": "code",
   "execution_count": 5,
   "id": "d8f356f1",
   "metadata": {},
   "outputs": [],
   "source": [
    "#getting access to the web browser\n",
    "driver = webdriver.Edge(executable_path = 'D:\\Brijesh\\Internship\\edgedriver_win64\\\\msedgedriver.exe')\n"
   ]
  },
  {
   "cell_type": "code",
   "execution_count": 7,
   "id": "22419f10",
   "metadata": {},
   "outputs": [],
   "source": [
    "url = 'https://www.flipkart.com/apple-iphone-11-black-64-gb-includes-%20earpods-power%02adapter/p/itm0f37c2240b217?pid=MOBFKCTSVZAXUHGR&lid=LSTMOBFKC%20TSVZAXUHGREPBFGI&marketplace.'\n",
    "driver.get(url)"
   ]
  },
  {
   "cell_type": "code",
   "execution_count": 13,
   "id": "f912a06a",
   "metadata": {},
   "outputs": [],
   "source": [
    "driver.maximize_window()\n"
   ]
  },
  {
   "cell_type": "code",
   "execution_count": 14,
   "id": "2ae0bc5f",
   "metadata": {},
   "outputs": [],
   "source": [
    "all_reviews_btn= driver.find_element_by_xpath(\"//div[@class='_3UAT2v _16PBlm']/span\")\n",
    "all_reviews_btn.click()"
   ]
  },
  {
   "cell_type": "code",
   "execution_count": 30,
   "id": "43a3ae07",
   "metadata": {},
   "outputs": [],
   "source": [
    "def scrape_rating():\n",
    "    rating=[]\n",
    "    driver.refresh()\n",
    "    rating_el=driver.find_elements_by_xpath(\"//div[@class='_3LWZlK _1BLPMq']\")\n",
    "    time.sleep(3)\n",
    "    for i in rating_el:\n",
    "        try:\n",
    "            rating.append(i.text)\n",
    "            driver.execute_script(\"window.scrollBy(0,document.body.scrollHeight0)\")\n",
    "        except:\n",
    "            rating.append(\"--\")\n",
    "    return rating\n",
    "            "
   ]
  },
  {
   "cell_type": "code",
   "execution_count": 31,
   "id": "7cde7e77",
   "metadata": {},
   "outputs": [],
   "source": [
    "def scrape_review_summary():\n",
    "    review_sum=[]\n",
    "    driver.refresh()\n",
    "    rev_sum=driver.find_elements_by_xpath(\"//p[@class='_2-N8zT']\")\n",
    "    time.sleep(3)\n",
    "    for i in rev_sum:\n",
    "        try:\n",
    "            review_sum.append(i.text)\n",
    "            driver.execute_script(\"window.scrollBy(0,document.body.scrollHeight0)\")\n",
    "        except:\n",
    "            review_sum.append(\"--\")\n",
    "    return review_sum\n",
    "            "
   ]
  },
  {
   "cell_type": "code",
   "execution_count": 32,
   "id": "050218af",
   "metadata": {},
   "outputs": [],
   "source": [
    "def scrape_full_review():\n",
    "    full_review=[]\n",
    "    driver.refresh()\n",
    "    rev_el=driver.find_elements_by_xpath(\"//div[@class='t-ZTKy']/div\")\n",
    "    time.sleep(3)\n",
    "    for i in rev_el:\n",
    "        try:\n",
    "            full_review.append(i.text.replace(\"\\n\",\"  New Line: \"))\n",
    "            driver.execute_script(\"window.scrollBy(0,document.body.scrollHeight0)\")\n",
    "        except:\n",
    "            full_review.append(\"--\")\n",
    "    return full_review\n",
    "        "
   ]
  },
  {
   "cell_type": "code",
   "execution_count": 33,
   "id": "11105109",
   "metadata": {},
   "outputs": [],
   "source": [
    "import time"
   ]
  },
  {
   "cell_type": "code",
   "execution_count": 43,
   "id": "6febfdc5",
   "metadata": {},
   "outputs": [
    {
     "data": {
      "text/plain": [
       "120"
      ]
     },
     "execution_count": 43,
     "metadata": {},
     "output_type": "execute_result"
    }
   ],
   "source": [
    "rating=[]\n",
    "review_sum=[]\n",
    "full_review=[]\n",
    "length=len(rating)\n",
    "while(length<=100):\n",
    "    driver.refresh()\n",
    "    rating.extend(scrape_rating())\n",
    "    review_sum.extend(scrape_review_summary())\n",
    "    full_review.extend(scrape_full_review())\n",
    "    time.sleep(5)\n",
    "    length=len(rating)\n",
    "    next_btn=driver.find_element_by_xpath(\"//a[@class='_1LKTO3']/span\")\n",
    "    next_btn.click()\n",
    "    \n",
    "len(review_sum)"
   ]
  },
  {
   "cell_type": "code",
   "execution_count": 44,
   "id": "b870e9c2",
   "metadata": {},
   "outputs": [
    {
     "data": {
      "text/plain": [
       "['Brilliant',\n",
       " 'Simply awesome',\n",
       " 'Best in the market!',\n",
       " 'Perfect product!',\n",
       " 'Fabulous!',\n",
       " 'Worth every penny',\n",
       " 'Great product',\n",
       " 'Highly recommended',\n",
       " 'Good choice',\n",
       " 'Worth every penny',\n",
       " 'Highly recommended',\n",
       " 'Perfect product!',\n",
       " 'Perfect product!',\n",
       " 'Highly recommended',\n",
       " 'Perfect product!',\n",
       " 'Worth every penny',\n",
       " 'Classy product',\n",
       " 'Worth every penny',\n",
       " 'Worth every penny',\n",
       " 'Nice product',\n",
       " 'Brilliant',\n",
       " 'Simply awesome',\n",
       " 'Best in the market!',\n",
       " 'Perfect product!',\n",
       " 'Fabulous!',\n",
       " 'Worth every penny',\n",
       " 'Great product',\n",
       " 'Highly recommended',\n",
       " 'Good choice',\n",
       " 'Worth every penny',\n",
       " 'Highly recommended',\n",
       " 'Perfect product!',\n",
       " 'Perfect product!',\n",
       " 'Highly recommended',\n",
       " 'Perfect product!',\n",
       " 'Worth every penny',\n",
       " 'Classy product',\n",
       " 'Worth every penny',\n",
       " 'Worth every penny',\n",
       " 'Nice product',\n",
       " 'Brilliant',\n",
       " 'Simply awesome',\n",
       " 'Best in the market!',\n",
       " 'Perfect product!',\n",
       " 'Fabulous!',\n",
       " 'Worth every penny',\n",
       " 'Great product',\n",
       " 'Highly recommended',\n",
       " 'Good choice',\n",
       " 'Worth every penny',\n",
       " 'Highly recommended',\n",
       " 'Perfect product!',\n",
       " 'Perfect product!',\n",
       " 'Highly recommended',\n",
       " 'Perfect product!',\n",
       " 'Worth every penny',\n",
       " 'Classy product',\n",
       " 'Worth every penny',\n",
       " 'Worth every penny',\n",
       " 'Nice product',\n",
       " 'Brilliant',\n",
       " 'Simply awesome',\n",
       " 'Best in the market!',\n",
       " 'Perfect product!',\n",
       " 'Fabulous!',\n",
       " 'Worth every penny',\n",
       " 'Great product',\n",
       " 'Highly recommended',\n",
       " 'Good choice',\n",
       " 'Worth every penny',\n",
       " 'Highly recommended',\n",
       " 'Perfect product!',\n",
       " 'Perfect product!',\n",
       " 'Highly recommended',\n",
       " 'Perfect product!',\n",
       " 'Worth every penny',\n",
       " 'Classy product',\n",
       " 'Worth every penny',\n",
       " 'Worth every penny',\n",
       " 'Nice product',\n",
       " 'Brilliant',\n",
       " 'Simply awesome',\n",
       " 'Best in the market!',\n",
       " 'Perfect product!',\n",
       " 'Fabulous!',\n",
       " 'Worth every penny',\n",
       " 'Great product',\n",
       " 'Highly recommended',\n",
       " 'Good choice',\n",
       " 'Worth every penny',\n",
       " 'Highly recommended',\n",
       " 'Perfect product!',\n",
       " 'Perfect product!',\n",
       " 'Highly recommended',\n",
       " 'Perfect product!',\n",
       " 'Worth every penny',\n",
       " 'Classy product',\n",
       " 'Worth every penny',\n",
       " 'Worth every penny',\n",
       " 'Nice product',\n",
       " 'Brilliant',\n",
       " 'Simply awesome',\n",
       " 'Best in the market!',\n",
       " 'Perfect product!',\n",
       " 'Fabulous!',\n",
       " 'Worth every penny',\n",
       " 'Great product',\n",
       " 'Highly recommended',\n",
       " 'Good choice',\n",
       " 'Worth every penny',\n",
       " 'Highly recommended',\n",
       " 'Perfect product!',\n",
       " 'Perfect product!',\n",
       " 'Highly recommended',\n",
       " 'Perfect product!',\n",
       " 'Worth every penny',\n",
       " 'Classy product',\n",
       " 'Worth every penny',\n",
       " 'Worth every penny',\n",
       " 'Nice product']"
      ]
     },
     "execution_count": 44,
     "metadata": {},
     "output_type": "execute_result"
    }
   ],
   "source": [
    "review_sum"
   ]
  },
  {
   "cell_type": "code",
   "execution_count": 52,
   "id": "6dca03a7",
   "metadata": {},
   "outputs": [
    {
     "data": {
      "text/html": [
       "<div>\n",
       "<style scoped>\n",
       "    .dataframe tbody tr th:only-of-type {\n",
       "        vertical-align: middle;\n",
       "    }\n",
       "\n",
       "    .dataframe tbody tr th {\n",
       "        vertical-align: top;\n",
       "    }\n",
       "\n",
       "    .dataframe thead th {\n",
       "        text-align: right;\n",
       "    }\n",
       "</style>\n",
       "<table border=\"1\" class=\"dataframe\">\n",
       "  <thead>\n",
       "    <tr style=\"text-align: right;\">\n",
       "      <th></th>\n",
       "      <th>Ratings</th>\n",
       "      <th>Reviews Smummary</th>\n",
       "      <th>Full Review</th>\n",
       "    </tr>\n",
       "  </thead>\n",
       "  <tbody>\n",
       "    <tr>\n",
       "      <th>0</th>\n",
       "      <td>5</td>\n",
       "      <td>Brilliant</td>\n",
       "      <td>The Best Phone for the Money  New Line:   New ...</td>\n",
       "    </tr>\n",
       "    <tr>\n",
       "      <th>1</th>\n",
       "      <td>5</td>\n",
       "      <td>Simply awesome</td>\n",
       "      <td>Really satisfied with the Product I received.....</td>\n",
       "    </tr>\n",
       "    <tr>\n",
       "      <th>2</th>\n",
       "      <td>5</td>\n",
       "      <td>Best in the market!</td>\n",
       "      <td>Great iPhone very snappy experience as apple k...</td>\n",
       "    </tr>\n",
       "    <tr>\n",
       "      <th>3</th>\n",
       "      <td>5</td>\n",
       "      <td>Perfect product!</td>\n",
       "      <td>Amazing phone with great cameras and better ba...</td>\n",
       "    </tr>\n",
       "    <tr>\n",
       "      <th>4</th>\n",
       "      <td>5</td>\n",
       "      <td>Fabulous!</td>\n",
       "      <td>This is my first iOS phone. I am very happy wi...</td>\n",
       "    </tr>\n",
       "    <tr>\n",
       "      <th>...</th>\n",
       "      <td>...</td>\n",
       "      <td>...</td>\n",
       "      <td>...</td>\n",
       "    </tr>\n",
       "    <tr>\n",
       "      <th>95</th>\n",
       "      <td>5</td>\n",
       "      <td>Worth every penny</td>\n",
       "      <td>Best budget Iphone till date ❤️ go for it guys...</td>\n",
       "    </tr>\n",
       "    <tr>\n",
       "      <th>96</th>\n",
       "      <td>5</td>\n",
       "      <td>Classy product</td>\n",
       "      <td>Totally in love with this ❤ the camera quality...</td>\n",
       "    </tr>\n",
       "    <tr>\n",
       "      <th>97</th>\n",
       "      <td>5</td>\n",
       "      <td>Worth every penny</td>\n",
       "      <td>Smooth like butter, camera like fantabulous, s...</td>\n",
       "    </tr>\n",
       "    <tr>\n",
       "      <th>98</th>\n",
       "      <td>4</td>\n",
       "      <td>Worth every penny</td>\n",
       "      <td>It’s been almost a month since I have been usi...</td>\n",
       "    </tr>\n",
       "    <tr>\n",
       "      <th>99</th>\n",
       "      <td>5</td>\n",
       "      <td>Nice product</td>\n",
       "      <td>Awesome Phone. Slightly high price but worth. ...</td>\n",
       "    </tr>\n",
       "  </tbody>\n",
       "</table>\n",
       "<p>100 rows × 3 columns</p>\n",
       "</div>"
      ],
      "text/plain": [
       "   Ratings     Reviews Smummary  \\\n",
       "0        5            Brilliant   \n",
       "1        5       Simply awesome   \n",
       "2        5  Best in the market!   \n",
       "3        5     Perfect product!   \n",
       "4        5            Fabulous!   \n",
       "..     ...                  ...   \n",
       "95       5    Worth every penny   \n",
       "96       5       Classy product   \n",
       "97       5    Worth every penny   \n",
       "98       4    Worth every penny   \n",
       "99       5         Nice product   \n",
       "\n",
       "                                          Full Review  \n",
       "0   The Best Phone for the Money  New Line:   New ...  \n",
       "1   Really satisfied with the Product I received.....  \n",
       "2   Great iPhone very snappy experience as apple k...  \n",
       "3   Amazing phone with great cameras and better ba...  \n",
       "4   This is my first iOS phone. I am very happy wi...  \n",
       "..                                                ...  \n",
       "95  Best budget Iphone till date ❤️ go for it guys...  \n",
       "96  Totally in love with this ❤ the camera quality...  \n",
       "97  Smooth like butter, camera like fantabulous, s...  \n",
       "98  It’s been almost a month since I have been usi...  \n",
       "99  Awesome Phone. Slightly high price but worth. ...  \n",
       "\n",
       "[100 rows x 3 columns]"
      ]
     },
     "execution_count": 52,
     "metadata": {},
     "output_type": "execute_result"
    }
   ],
   "source": [
    "iphone11_reviews = pd.DataFrame()\n",
    "iphone11_reviews[\"Ratings\"] = rating[:100]\n",
    "iphone11_reviews[\"Reviews Smummary\"] = review_sum[:100]\n",
    "iphone11_reviews[\"Full Review\"] = full_review[:100]\n",
    "iphone11_reviews"
   ]
  },
  {
   "cell_type": "code",
   "execution_count": 93,
   "id": "e29f5c89",
   "metadata": {},
   "outputs": [],
   "source": [
    "#Q6: Scrape data for first 100 sneakers you find when you visit flipkart.com andsearch for “sneakers” in the search field"
   ]
  },
  {
   "cell_type": "code",
   "execution_count": 60,
   "id": "29c6a20e",
   "metadata": {},
   "outputs": [],
   "source": [
    "import selenium\n",
    "from selenium import webdriver\n",
    "import pandas as pd\n",
    "import warnings\n",
    "warnings.filterwarnings(\"ignore\")"
   ]
  },
  {
   "cell_type": "code",
   "execution_count": 61,
   "id": "964bd8b2",
   "metadata": {},
   "outputs": [],
   "source": [
    "driver = webdriver.Edge(executable_path = 'D:\\Brijesh\\Internship\\edgedriver_win64\\\\msedgedriver.exe')\n"
   ]
  },
  {
   "cell_type": "code",
   "execution_count": 62,
   "id": "6df8e4d0",
   "metadata": {},
   "outputs": [],
   "source": [
    "url = 'https://www.flipkart.com'\n",
    "driver.get(url)"
   ]
  },
  {
   "cell_type": "code",
   "execution_count": 65,
   "id": "ff534297",
   "metadata": {},
   "outputs": [],
   "source": [
    "search_box=driver.find_element_by_xpath(\"//input[@class='_3704LK']\")\n",
    "search_box.send_keys(\"sneakers\")"
   ]
  },
  {
   "cell_type": "code",
   "execution_count": 66,
   "id": "dceebf1a",
   "metadata": {},
   "outputs": [],
   "source": [
    "search_btn=driver.find_element_by_xpath(\"//button[@class='L0Z3Pu']\")\n",
    "search_btn.click()"
   ]
  },
  {
   "cell_type": "code",
   "execution_count": 67,
   "id": "b4d831ae",
   "metadata": {},
   "outputs": [],
   "source": [
    "import time"
   ]
  },
  {
   "cell_type": "code",
   "execution_count": 98,
   "id": "a2fe6de5",
   "metadata": {},
   "outputs": [],
   "source": [
    "def scrape_brand():\n",
    "    brand=[]\n",
    "    brand_el=driver.find_elements_by_xpath(\"//div[@class='_2WkVRV']\")\n",
    "    time.sleep(3)\n",
    "    for i in brand_el:\n",
    "        try:\n",
    "            brand.append(i.text)\n",
    "            driver.execute_script(\"window.scrollBy(0,document.body.scrollHeight0)\")\n",
    "        except:\n",
    "            brand.append(\"--\")\n",
    "    return brand\n"
   ]
  },
  {
   "cell_type": "code",
   "execution_count": 99,
   "id": "c957fa8f",
   "metadata": {},
   "outputs": [],
   "source": [
    "def scrape_product_des():\n",
    "    product_des=[]\n",
    "    des_el=driver.find_elements_by_xpath(\"//a[@class='IRpwTa' or @class='IRpwTa _2-ICcC']\")\n",
    "    print(len(des_el))\n",
    "    time.sleep(3)\n",
    "    for i in des_el:\n",
    "        try:\n",
    "            product_des.append(i.text)\n",
    "            driver.execute_script(\"window.scrollBy(0,document.body.scrollHeight0)\")\n",
    "        except:\n",
    "            product_des.append(\"--\")\n",
    "    return product_des"
   ]
  },
  {
   "cell_type": "code",
   "execution_count": 100,
   "id": "13c1fac5",
   "metadata": {},
   "outputs": [],
   "source": [
    "def scrape_price():\n",
    "    price=[]\n",
    "    price_el=driver.find_elements_by_xpath(\"//div[@class='_30jeq3']\")\n",
    "    time.sleep(3)\n",
    "    for i in price_el:\n",
    "        try:\n",
    "            price.append(i.text)\n",
    "            driver.execute_script(\"window.scrollBy(0,document.body.scrollHeight0)\")\n",
    "        except:\n",
    "            price.append(\"--\")\n",
    "            \n",
    "    return price\n",
    "            "
   ]
  },
  {
   "cell_type": "code",
   "execution_count": 101,
   "id": "4c8f5b84",
   "metadata": {},
   "outputs": [],
   "source": [
    "def scrape_discount():\n",
    "    discount=[]\n",
    "    discount_el=driver.find_elements_by_xpath(\"//div[@class='_3Ay6Sb']/span\")\n",
    "    time.sleep(3)\n",
    "    for i in discount_el:\n",
    "        try:\n",
    "            discount.append(i.text)\n",
    "            driver.execute_script(\"window.scrollBy(0,document.body.scrollHeight0)\")\n",
    "        except:\n",
    "            discount.append(\"--\")\n",
    "            \n",
    "    return discount"
   ]
  },
  {
   "cell_type": "code",
   "execution_count": 102,
   "id": "cfbad9cc",
   "metadata": {},
   "outputs": [
    {
     "name": "stdout",
     "output_type": "stream",
     "text": [
      "40\n",
      "40\n",
      "40\n"
     ]
    },
    {
     "data": {
      "text/plain": [
       "120"
      ]
     },
     "execution_count": 102,
     "metadata": {},
     "output_type": "execute_result"
    }
   ],
   "source": [
    "brand=[]\n",
    "product_des=[]\n",
    "price=[]\n",
    "discount=[]\n",
    "length=len(brand)\n",
    "while(length<=100):\n",
    "    driver.refresh()\n",
    "    brand.extend(scrape_brand())\n",
    "    product_des.extend(scrape_product_des())\n",
    "    price.extend(scrape_price())\n",
    "    discount.extend(scrape_discount())\n",
    "    time.sleep(3)\n",
    "    next_btn=driver.find_element_by_xpath(\"//a[@class='_1LKTO3']/span\")\n",
    "    next_btn.click()\n",
    "    length=len(brand)\n",
    "len(price)"
   ]
  },
  {
   "cell_type": "code",
   "execution_count": 103,
   "id": "06ea8ac6",
   "metadata": {},
   "outputs": [
    {
     "data": {
      "text/html": [
       "<div>\n",
       "<style scoped>\n",
       "    .dataframe tbody tr th:only-of-type {\n",
       "        vertical-align: middle;\n",
       "    }\n",
       "\n",
       "    .dataframe tbody tr th {\n",
       "        vertical-align: top;\n",
       "    }\n",
       "\n",
       "    .dataframe thead th {\n",
       "        text-align: right;\n",
       "    }\n",
       "</style>\n",
       "<table border=\"1\" class=\"dataframe\">\n",
       "  <thead>\n",
       "    <tr style=\"text-align: right;\">\n",
       "      <th></th>\n",
       "      <th>BRAND</th>\n",
       "      <th>PRODUCT_DESCRIPTION</th>\n",
       "      <th>DISCOUNT</th>\n",
       "      <th>PRICE</th>\n",
       "    </tr>\n",
       "    <tr>\n",
       "      <th>INDEX</th>\n",
       "      <th></th>\n",
       "      <th></th>\n",
       "      <th></th>\n",
       "      <th></th>\n",
       "    </tr>\n",
       "  </thead>\n",
       "  <tbody>\n",
       "    <tr>\n",
       "      <th>1</th>\n",
       "      <td>World Wear Footwear</td>\n",
       "      <td>5011-Latest Collection Stylish Casual Loafer S...</td>\n",
       "      <td>60% off</td>\n",
       "      <td>₹199</td>\n",
       "    </tr>\n",
       "    <tr>\n",
       "      <th>2</th>\n",
       "      <td>BRUTON</td>\n",
       "      <td>Modern Trendy Sneakers Shoes Sneakers For Men</td>\n",
       "      <td>80% off</td>\n",
       "      <td>₹259</td>\n",
       "    </tr>\n",
       "    <tr>\n",
       "      <th>3</th>\n",
       "      <td>BRUTON</td>\n",
       "      <td>Combo Pack Of 4 Casual Shoes Loafer Shoes Snea...</td>\n",
       "      <td>85% off</td>\n",
       "      <td>₹499</td>\n",
       "    </tr>\n",
       "    <tr>\n",
       "      <th>4</th>\n",
       "      <td>Zixer</td>\n",
       "      <td>Men High Top Fashion Sneakers/sports/Ankle cas...</td>\n",
       "      <td>63% off</td>\n",
       "      <td>₹736</td>\n",
       "    </tr>\n",
       "    <tr>\n",
       "      <th>5</th>\n",
       "      <td>Chevit</td>\n",
       "      <td>Super Stylish &amp; Trendy Combo Pack of 02 Pairs ...</td>\n",
       "      <td>59% off</td>\n",
       "      <td>₹649</td>\n",
       "    </tr>\n",
       "    <tr>\n",
       "      <th>...</th>\n",
       "      <td>...</td>\n",
       "      <td>...</td>\n",
       "      <td>...</td>\n",
       "      <td>...</td>\n",
       "    </tr>\n",
       "    <tr>\n",
       "      <th>96</th>\n",
       "      <td>Extoes</td>\n",
       "      <td>Combo Pack Of 3 Sneakers For Men</td>\n",
       "      <td>68% off</td>\n",
       "      <td>₹798</td>\n",
       "    </tr>\n",
       "    <tr>\n",
       "      <th>97</th>\n",
       "      <td>DUNKASTON</td>\n",
       "      <td>Sneakers For Men</td>\n",
       "      <td>62% off</td>\n",
       "      <td>₹399</td>\n",
       "    </tr>\n",
       "    <tr>\n",
       "      <th>98</th>\n",
       "      <td>luxury fashion</td>\n",
       "      <td>Luxury Fashionable casual shoes Sneakers For Men</td>\n",
       "      <td>53% off</td>\n",
       "      <td>₹407</td>\n",
       "    </tr>\n",
       "    <tr>\n",
       "      <th>99</th>\n",
       "      <td>aadi</td>\n",
       "      <td>Sneakers For Men</td>\n",
       "      <td>75% off</td>\n",
       "      <td>₹379</td>\n",
       "    </tr>\n",
       "    <tr>\n",
       "      <th>100</th>\n",
       "      <td>Stinson</td>\n",
       "      <td>Combo Pack Of 3 Sneakers For Men</td>\n",
       "      <td>80% off</td>\n",
       "      <td>₹698</td>\n",
       "    </tr>\n",
       "  </tbody>\n",
       "</table>\n",
       "<p>100 rows × 4 columns</p>\n",
       "</div>"
      ],
      "text/plain": [
       "                     BRAND                                PRODUCT_DESCRIPTION  \\\n",
       "INDEX                                                                           \n",
       "1      World Wear Footwear  5011-Latest Collection Stylish Casual Loafer S...   \n",
       "2                   BRUTON      Modern Trendy Sneakers Shoes Sneakers For Men   \n",
       "3                   BRUTON  Combo Pack Of 4 Casual Shoes Loafer Shoes Snea...   \n",
       "4                    Zixer  Men High Top Fashion Sneakers/sports/Ankle cas...   \n",
       "5                   Chevit  Super Stylish & Trendy Combo Pack of 02 Pairs ...   \n",
       "...                    ...                                                ...   \n",
       "96                  Extoes                   Combo Pack Of 3 Sneakers For Men   \n",
       "97               DUNKASTON                                   Sneakers For Men   \n",
       "98          luxury fashion   Luxury Fashionable casual shoes Sneakers For Men   \n",
       "99                    aadi                                   Sneakers For Men   \n",
       "100                Stinson                   Combo Pack Of 3 Sneakers For Men   \n",
       "\n",
       "      DISCOUNT PRICE  \n",
       "INDEX                 \n",
       "1      60% off  ₹199  \n",
       "2      80% off  ₹259  \n",
       "3      85% off  ₹499  \n",
       "4      63% off  ₹736  \n",
       "5      59% off  ₹649  \n",
       "...        ...   ...  \n",
       "96     68% off  ₹798  \n",
       "97     62% off  ₹399  \n",
       "98     53% off  ₹407  \n",
       "99     75% off  ₹379  \n",
       "100    80% off  ₹698  \n",
       "\n",
       "[100 rows x 4 columns]"
      ]
     },
     "execution_count": 103,
     "metadata": {},
     "output_type": "execute_result"
    }
   ],
   "source": [
    "#creating DataFrame for the scraped data\n",
    "import pandas as pd\n",
    "sneakers=pd.DataFrame()\n",
    "sneakers[\"INDEX\"]=range(1,101)\n",
    "sneakers[\"BRAND\"]=brand[:100]\n",
    "sneakers[\"PRODUCT_DESCRIPTION\"]=product_des[:100]\n",
    "sneakers[\"DISCOUNT\"]=discount[:100]\n",
    "sneakers[\"PRICE\"]=price[:100]\n",
    "sneakers.set_index(\"INDEX\",inplace=True)\n",
    "sneakers"
   ]
  },
  {
   "cell_type": "code",
   "execution_count": 1,
   "id": "8f06a153",
   "metadata": {},
   "outputs": [],
   "source": [
    "#7) Go to the link - https://www.myntra.com/shoes Set Price filter to “Rs. 7149 to Rs. 14099 ” , Color filter to “Black” scrap data"
   ]
  },
  {
   "cell_type": "code",
   "execution_count": 13,
   "id": "02052422",
   "metadata": {},
   "outputs": [],
   "source": [
    "import pandas as pd\n",
    "import selenium \n",
    "from selenium import webdriver\n",
    "import warnings\n",
    "warnings.filterwarnings(\"ignore\")\n",
    "import time"
   ]
  },
  {
   "cell_type": "code",
   "execution_count": 14,
   "id": "2b9a7505",
   "metadata": {},
   "outputs": [],
   "source": [
    "#controlling the browser\n",
    "driver = webdriver.Edge(executable_path = 'D:\\Brijesh\\Internship\\edgedriver_win64\\\\msedgedriver.exe')"
   ]
  },
  {
   "cell_type": "code",
   "execution_count": 15,
   "id": "92f0ec28",
   "metadata": {},
   "outputs": [],
   "source": [
    "#calling URL\n",
    "url = 'http://www.myntra.com/shoes'\n",
    "driver.get(url)"
   ]
  },
  {
   "cell_type": "code",
   "execution_count": 16,
   "id": "9c3a84f6",
   "metadata": {},
   "outputs": [],
   "source": [
    "driver.maximize_window()\n"
   ]
  },
  {
   "cell_type": "code",
   "execution_count": 6,
   "id": "33b94713",
   "metadata": {},
   "outputs": [],
   "source": [
    "#no filters for 7149, to 14099, using the nearest (Rs. 7142 to Rs. 14095 )"
   ]
  },
  {
   "cell_type": "code",
   "execution_count": 17,
   "id": "5d1c53b5",
   "metadata": {},
   "outputs": [],
   "source": [
    "price_filter=driver.find_elements_by_xpath(\"//label[@class='common-customCheckbox vertical-filters-label']\")\n"
   ]
  },
  {
   "cell_type": "code",
   "execution_count": 18,
   "id": "1a32ad92",
   "metadata": {},
   "outputs": [],
   "source": [
    "price_filter[7].click()"
   ]
  },
  {
   "cell_type": "code",
   "execution_count": 19,
   "id": "7f7027b5",
   "metadata": {},
   "outputs": [],
   "source": [
    "color_filter = driver.find_elements_by_xpath(\"//label[@class='common-customCheckbox']\")"
   ]
  },
  {
   "cell_type": "code",
   "execution_count": 20,
   "id": "31c36e77",
   "metadata": {},
   "outputs": [],
   "source": [
    "color_filter[0].click()"
   ]
  },
  {
   "cell_type": "code",
   "execution_count": 21,
   "id": "83971707",
   "metadata": {},
   "outputs": [],
   "source": [
    "#creating function for brand\n",
    "def scrape_brand():\n",
    "    brand =[]\n",
    "    brand_shoes = driver.find_elements_by_xpath(\"//div[@class='product-productMetaInfo']/h3\")\n",
    "    for i in brand_shoes:\n",
    "        try:\n",
    "            brand.append(i.text)\n",
    "            driver.execute_script(\"window.scrollBy(0,document.body.scrollHeight0)\")\n",
    "        except:\n",
    "            brand.append(\"--\")\n",
    "        \n",
    "    return brand\n",
    "        "
   ]
  },
  {
   "cell_type": "code",
   "execution_count": 22,
   "id": "3906db89",
   "metadata": {},
   "outputs": [],
   "source": [
    "#creating function for product description\n",
    "def scrape_des():\n",
    "    description=[]\n",
    "    des_el=driver.find_elements_by_xpath(\"//div[@class='product-productMetaInfo']/h4\")\n",
    "    time.sleep(3)\n",
    "    for i in des_el:\n",
    "        try:\n",
    "            description.append(i.text)\n",
    "            driver.execute_script(\"window.scrollBy(0,document.body.scrollHeight0)\")\n",
    "        except:\n",
    "            description.append(\"--\")\n",
    "    return description\n",
    "            "
   ]
  },
  {
   "cell_type": "code",
   "execution_count": 23,
   "id": "eefc292f",
   "metadata": {},
   "outputs": [],
   "source": [
    "#creating function for price\n",
    "def scrape_price():\n",
    "    price=[]\n",
    "    price_shoes=driver.find_elements_by_xpath(\"//div[@class='product-price']\")\n",
    "    for i in price_shoes:\n",
    "        try:\n",
    "            price.append(i.text)\n",
    "            driver.execute_script(\"window.scrollBy(0,document.body.scrollHeight0)\")\n",
    "        except:\n",
    "            price.append(\"--\")\n",
    "    return price"
   ]
  },
  {
   "cell_type": "code",
   "execution_count": 25,
   "id": "01f702f4",
   "metadata": {},
   "outputs": [
    {
     "data": {
      "text/plain": [
       "150"
      ]
     },
     "execution_count": 25,
     "metadata": {},
     "output_type": "execute_result"
    }
   ],
   "source": [
    "\n",
    "brand=[]\n",
    "description=[]\n",
    "price=[]\n",
    "length=len(brand)\n",
    "while(length<=100):\n",
    "    driver.refresh()\n",
    "    brand.extend(scrape_brand())\n",
    "    description.extend(scrape_des())\n",
    "    price.extend(scrape_price())\n",
    "    length=len(brand)\n",
    "    next_btn=driver.find_element_by_xpath(\"//li[@class='pagination-next']/a\")\n",
    "    next_btn.click()\n",
    "    \n",
    "len(price)"
   ]
  },
  {
   "cell_type": "code",
   "execution_count": 26,
   "id": "5458baae",
   "metadata": {},
   "outputs": [
    {
     "data": {
      "text/plain": [
       "(150, 300, 150)"
      ]
     },
     "execution_count": 26,
     "metadata": {},
     "output_type": "execute_result"
    }
   ],
   "source": [
    "len(brand), len(description), len(price)"
   ]
  },
  {
   "cell_type": "code",
   "execution_count": null,
   "id": "b3375d98",
   "metadata": {},
   "outputs": [],
   "source": []
  },
  {
   "cell_type": "code",
   "execution_count": 30,
   "id": "f1ea582f",
   "metadata": {},
   "outputs": [
    {
     "data": {
      "text/html": [
       "<div>\n",
       "<style scoped>\n",
       "    .dataframe tbody tr th:only-of-type {\n",
       "        vertical-align: middle;\n",
       "    }\n",
       "\n",
       "    .dataframe tbody tr th {\n",
       "        vertical-align: top;\n",
       "    }\n",
       "\n",
       "    .dataframe thead th {\n",
       "        text-align: right;\n",
       "    }\n",
       "</style>\n",
       "<table border=\"1\" class=\"dataframe\">\n",
       "  <thead>\n",
       "    <tr style=\"text-align: right;\">\n",
       "      <th></th>\n",
       "      <th>BRAND</th>\n",
       "      <th>Product Description</th>\n",
       "      <th>PRICE</th>\n",
       "    </tr>\n",
       "  </thead>\n",
       "  <tbody>\n",
       "    <tr>\n",
       "      <th>0</th>\n",
       "      <td>Puma</td>\n",
       "      <td>Men Magnify Nitro Running</td>\n",
       "      <td>Rs. 7799Rs. 12999(40% OFF)</td>\n",
       "    </tr>\n",
       "    <tr>\n",
       "      <th>1</th>\n",
       "      <td>Nike</td>\n",
       "      <td></td>\n",
       "      <td>Rs. 10995</td>\n",
       "    </tr>\n",
       "    <tr>\n",
       "      <th>2</th>\n",
       "      <td>Nike</td>\n",
       "      <td>Men Air Max Dawn Sneakers</td>\n",
       "      <td>Rs. 7495</td>\n",
       "    </tr>\n",
       "    <tr>\n",
       "      <th>3</th>\n",
       "      <td>Nike</td>\n",
       "      <td></td>\n",
       "      <td>Rs. 7995</td>\n",
       "    </tr>\n",
       "    <tr>\n",
       "      <th>4</th>\n",
       "      <td>Tommy Hilfiger</td>\n",
       "      <td>Men Blazer Court Skateboarding</td>\n",
       "      <td>Rs. 7999</td>\n",
       "    </tr>\n",
       "    <tr>\n",
       "      <th>...</th>\n",
       "      <td>...</td>\n",
       "      <td>...</td>\n",
       "      <td>...</td>\n",
       "    </tr>\n",
       "    <tr>\n",
       "      <th>145</th>\n",
       "      <td>--</td>\n",
       "      <td></td>\n",
       "      <td>Rs. 7999Rs. 9999(20% OFF)</td>\n",
       "    </tr>\n",
       "    <tr>\n",
       "      <th>146</th>\n",
       "      <td>--</td>\n",
       "      <td>Men Fuelcell Running Shoes</td>\n",
       "      <td>Rs. 7199Rs. 8999(20% OFF)</td>\n",
       "    </tr>\n",
       "    <tr>\n",
       "      <th>147</th>\n",
       "      <td>--</td>\n",
       "      <td></td>\n",
       "      <td>Rs. 8415Rs. 9900(15% OFF)</td>\n",
       "    </tr>\n",
       "    <tr>\n",
       "      <th>148</th>\n",
       "      <td>--</td>\n",
       "      <td>Men Leather Formal Loafers</td>\n",
       "      <td>Rs. 10999</td>\n",
       "    </tr>\n",
       "    <tr>\n",
       "      <th>149</th>\n",
       "      <td>--</td>\n",
       "      <td></td>\n",
       "      <td>Rs. 9099Rs. 12999(30% OFF)</td>\n",
       "    </tr>\n",
       "  </tbody>\n",
       "</table>\n",
       "<p>150 rows × 3 columns</p>\n",
       "</div>"
      ],
      "text/plain": [
       "              BRAND             Product Description  \\\n",
       "0              Puma       Men Magnify Nitro Running   \n",
       "1              Nike                                   \n",
       "2              Nike       Men Air Max Dawn Sneakers   \n",
       "3              Nike                                   \n",
       "4    Tommy Hilfiger  Men Blazer Court Skateboarding   \n",
       "..              ...                             ...   \n",
       "145              --                                   \n",
       "146              --      Men Fuelcell Running Shoes   \n",
       "147              --                                   \n",
       "148              --      Men Leather Formal Loafers   \n",
       "149              --                                   \n",
       "\n",
       "                          PRICE  \n",
       "0    Rs. 7799Rs. 12999(40% OFF)  \n",
       "1                     Rs. 10995  \n",
       "2                      Rs. 7495  \n",
       "3                      Rs. 7995  \n",
       "4                      Rs. 7999  \n",
       "..                          ...  \n",
       "145   Rs. 7999Rs. 9999(20% OFF)  \n",
       "146   Rs. 7199Rs. 8999(20% OFF)  \n",
       "147   Rs. 8415Rs. 9900(15% OFF)  \n",
       "148                   Rs. 10999  \n",
       "149  Rs. 9099Rs. 12999(30% OFF)  \n",
       "\n",
       "[150 rows x 3 columns]"
      ]
     },
     "execution_count": 30,
     "metadata": {},
     "output_type": "execute_result"
    }
   ],
   "source": [
    "#getting data into a DataFrame\n",
    "\n",
    "myntra_shoes = pd.DataFrame()\n",
    "myntra_shoes[\"BRAND\"] = brand\n",
    "myntra_shoes[\"Product Description\"] = description[:150]\n",
    "myntra_shoes[\"PRICE\"] = price\n",
    "myntra_shoes\n",
    "    "
   ]
  },
  {
   "cell_type": "code",
   "execution_count": 70,
   "id": "34b334fe",
   "metadata": {},
   "outputs": [],
   "source": [
    "#8 - Scrapping laptop data from amazon.in\n",
    "import selenium\n",
    "from selenium import webdriver\n",
    "import pandas as pd\n",
    "import warnings\n",
    "warnings.filterwarnings(\"ignore\")\n"
   ]
  },
  {
   "cell_type": "code",
   "execution_count": 71,
   "id": "d46a281a",
   "metadata": {},
   "outputs": [],
   "source": [
    "#controlling the browser\n",
    "driver = webdriver.Edge(executable_path = 'D:\\Brijesh\\Internship\\edgedriver_win64\\\\msedgedriver.exe')"
   ]
  },
  {
   "cell_type": "code",
   "execution_count": 72,
   "id": "1acf9e51",
   "metadata": {},
   "outputs": [],
   "source": [
    "url = 'https://www.amazon.in/'\n",
    "driver.get(url)"
   ]
  },
  {
   "cell_type": "code",
   "execution_count": 73,
   "id": "b1e482a4",
   "metadata": {},
   "outputs": [],
   "source": [
    "driver.maximize_window()"
   ]
  },
  {
   "cell_type": "code",
   "execution_count": 74,
   "id": "df06a132",
   "metadata": {},
   "outputs": [],
   "source": [
    "search_col=driver.find_element_by_xpath(\"//input[@class='nav-input nav-progressive-attribute']\")\n",
    "search_col.send_keys('laptop')"
   ]
  },
  {
   "cell_type": "code",
   "execution_count": 77,
   "id": "f483cd07",
   "metadata": {},
   "outputs": [],
   "source": [
    "search_button=driver.find_element_by_xpath(\"/html/body/div[1]/header/div/div[1]/div[2]/div/form/div[3]/div/span/input\")\n",
    "\n"
   ]
  },
  {
   "cell_type": "code",
   "execution_count": 78,
   "id": "14be9915",
   "metadata": {},
   "outputs": [],
   "source": [
    "search_button.click()"
   ]
  },
  {
   "cell_type": "code",
   "execution_count": 79,
   "id": "5f7663a1",
   "metadata": {},
   "outputs": [
    {
     "data": {
      "text/plain": [
       "['RedmiBook 15 e-Learning Edition Core i3 11th Gen/8 GB/256 GB SSD/Windows 10 Home/15.6\" FHD Anti Glare/MS Office/Charcoal Gray/1.8 Kg Thin and Light Laptop',\n",
       " 'Redmi Book Pro Intel Core i5 11th Gen 15.6 inches Thin and Light Laptop (8GB/512 GB SSD/Windows 10 Home) (Charcoal Gray, 1.8 kg, with MS Office)',\n",
       " 'Lenovo Chromebook 14e 14.0\" FHD Business Laptop (AMD 3015Ce Processor/4GB DDR4 RAM/64GB Storage eMMC/AMD Radeon Graphics/Chrome OS/Grey) 82M10019HA',\n",
       " 'HP 247 G8 Laptop (Athlon P-3045B HD/ 14\" HD (35.56 cms) /8GB RAM DDR4 /256 HDD / Windows 11 SL)One Year Warranty, Black,',\n",
       " 'Dell 15 (2021) Athlon Silver 3050U, 4GB, 256GB SSD, Win 11 + MS Office\\'21, AMD Vega Graphics, , 15.6\" (39.62 cms) HD Display, Carbon Black (Inspiron 3515, D560702WIN9BE)',\n",
       " 'ASUS ZenBook 14 (2020) Intel Core i5-1135G7 11th Gen 14-inch (35.56 cms) FHD T&L Laptop (8GB RAM/512GB NVMe SSD/Windows 10/MS Office 2019/Intel Iris Xᵉ Graphics/Pine Grey/1.17 kg), UX425EA-BM501TS',\n",
       " 'HP 14 10th Gen Intel Core i5-10210U 14 inches HD Laptop (8GB/512GB SSD/Windows 10/MS Office/Windows 10/Jet Black/1.5 kg), 14-ck2018tu',\n",
       " 'HP Envy x360 13-ay0078AU 13.3 inches Laptop (3rd Gen AMD Ryzen5 4500U/8GB/512GB SSD/Windows 10 Pro/Integrated Graphics), Night Fall Black, 1.3kg',\n",
       " 'HP Chromebook 14 Intel Celeron N4020-4GB SDRAM/64GB eMMC + 256GB Expandable Storage 14inch(35.6 cm) Thin & Light Touchscreen Laptop (Chrome OS/B&O/Google Assistant/BL Keyboard/1.46 kg),14a-na0003TU',\n",
       " 'HP Chromebook 14 Intel Celeron N4020-4GB SDRAM/64GB eMMC + 256GB Expandable Storage 14inch(35.6 cm) Thin & Light Touchscreen Laptop (Chrome OS/B&O/Google Assistant/BL Keyboard/1.46 kg),14a-na0002TU']"
      ]
     },
     "execution_count": 79,
     "metadata": {},
     "output_type": "execute_result"
    }
   ],
   "source": [
    "title_el=driver.find_elements_by_xpath(\"//h2[@class='a-size-mini a-spacing-none a-color-base s-line-clamp-2']\")\n",
    "title=[]\n",
    "for i in title_el[:10]:\n",
    "    title.append(i.text)\n",
    "title"
   ]
  },
  {
   "cell_type": "code",
   "execution_count": 80,
   "id": "5dc607df",
   "metadata": {},
   "outputs": [
    {
     "data": {
      "text/plain": [
       "['38,990',\n",
       " '48,990',\n",
       " '20,990',\n",
       " '34,999',\n",
       " '34,990',\n",
       " '90,990',\n",
       " '55,000',\n",
       " '86,200',\n",
       " '26,490',\n",
       " '26,470']"
      ]
     },
     "execution_count": 80,
     "metadata": {},
     "output_type": "execute_result"
    }
   ],
   "source": [
    "price_el=driver.find_elements_by_xpath(\"//span[@class='a-price-whole']\")\n",
    "price=[]\n",
    "for i in price_el[:10]:\n",
    "    price.append(i.text)\n",
    "price\n"
   ]
  },
  {
   "cell_type": "code",
   "execution_count": 83,
   "id": "399191c0",
   "metadata": {},
   "outputs": [
    {
     "data": {
      "text/plain": [
       "[]"
      ]
     },
     "execution_count": 83,
     "metadata": {},
     "output_type": "execute_result"
    }
   ],
   "source": [
    "url2=driver.find_elements_by_xpath(\"//a[@class='a-link-normal a-text-normal']\")\n",
    "\n",
    "rating_url=[]\n",
    "for i in url2[:10]:\n",
    "    rating_url.append(i.get_attribute('href'))\n",
    "rating_url"
   ]
  },
  {
   "cell_type": "code",
   "execution_count": 84,
   "id": "b5431cec",
   "metadata": {},
   "outputs": [
    {
     "data": {
      "text/plain": [
       "[]"
      ]
     },
     "execution_count": 84,
     "metadata": {},
     "output_type": "execute_result"
    }
   ],
   "source": [
    "import time\n",
    "rating=[]\n",
    "for i in rating_url[:10]:\n",
    "    driver.get(i)\n",
    "    time.sleep(3)\n",
    "    try:\n",
    "        \n",
    "        ratings = driver.find_element(By.XPATH,\".//span[@class='a-icon-alt']/..\")\n",
    "        ratings = ratings.get_attribute('innerHTML').split(\">\")[1].split(\" \")[0]\n",
    "        rating.append(ratings)\n",
    "    except:\n",
    "        \n",
    "        \n",
    "        rating.append(\"00\")\n",
    "rating"
   ]
  },
  {
   "cell_type": "code",
   "execution_count": 85,
   "id": "58f8d6ac",
   "metadata": {},
   "outputs": [],
   "source": [
    "#Not able to get the data.. "
   ]
  },
  {
   "cell_type": "code",
   "execution_count": 1,
   "id": "9baf271d",
   "metadata": {},
   "outputs": [],
   "source": [
    "#9 - Write a python program to scrape data for first 10 job results for Data Scientist Designation in Noida location from amnitionbox.com .\n",
    "import selenium\n",
    "from selenium import webdriver\n",
    "import pandas as pd\n",
    "import warnings\n",
    "warnings.filterwarnings(\"ignore\")\n",
    "\n"
   ]
  },
  {
   "cell_type": "code",
   "execution_count": 2,
   "id": "c104a75b",
   "metadata": {},
   "outputs": [],
   "source": [
    "#controlling the browser\n",
    "driver = webdriver.Edge(executable_path = 'D:\\Brijesh\\Internship\\edgedriver_win64\\\\msedgedriver.exe')"
   ]
  },
  {
   "cell_type": "raw",
   "id": "24aac08b",
   "metadata": {},
   "source": []
  },
  {
   "cell_type": "code",
   "execution_count": 3,
   "id": "b535f917",
   "metadata": {},
   "outputs": [],
   "source": [
    "url = 'https://www.ambitionbox.com'\n",
    "driver.get(url)"
   ]
  },
  {
   "cell_type": "code",
   "execution_count": 4,
   "id": "da48901b",
   "metadata": {},
   "outputs": [],
   "source": [
    "job_btn = driver.find_element_by_xpath('//a[@class=\"link jobs\"]')\n"
   ]
  },
  {
   "cell_type": "code",
   "execution_count": 5,
   "id": "7df52843",
   "metadata": {},
   "outputs": [],
   "source": [
    "job_btn.click()"
   ]
  },
  {
   "cell_type": "raw",
   "id": "e7c5b94f",
   "metadata": {},
   "source": []
  },
  {
   "cell_type": "code",
   "execution_count": 9,
   "id": "8df3d7ae",
   "metadata": {},
   "outputs": [],
   "source": [
    "search_box = driver.find_element_by_xpath(\"//input[@class='input tt-input']\")\n",
    "search_box.send_keys('Data Scientist')"
   ]
  },
  {
   "cell_type": "raw",
   "id": "a60bb7a2",
   "metadata": {},
   "source": []
  },
  {
   "cell_type": "code",
   "execution_count": 10,
   "id": "1fa55064",
   "metadata": {},
   "outputs": [],
   "source": [
    "search_button = driver.find_element_by_xpath(\"/html/body/div/div/div/div[2]/div[1]/div/div/div/button\")\n",
    "search_button.click()"
   ]
  },
  {
   "cell_type": "code",
   "execution_count": 11,
   "id": "e4303b23",
   "metadata": {},
   "outputs": [],
   "source": [
    "location_drpdwn = driver.find_element_by_xpath(\"/html/body/div/div/div/div[2]/div[2]/div[1]/div/div/div/div[2]/div[1]/i\")\n",
    "location_drpdwn.click()"
   ]
  },
  {
   "cell_type": "code",
   "execution_count": 15,
   "id": "7a5ca490",
   "metadata": {},
   "outputs": [],
   "source": [
    "loc_searchbtn = driver.find_element_by_xpath(\"/html/body/div/div/div/div[2]/div[2]/div[1]/div/div/div/div[2]/div[2]/div/div[2]/input\")\n",
    "loc_searchbtn.send_keys(\"Noida\")"
   ]
  },
  {
   "cell_type": "code",
   "execution_count": 18,
   "id": "32e2616b",
   "metadata": {},
   "outputs": [],
   "source": [
    "noida_rdbtn = driver.find_element_by_xpath(\"/html/body/div/div/div/div[2]/div[2]/div[1]/div/div/div/div[2]/div[2]/div/div[3]/div[1]/div[1]/div/label\")\n",
    "noida_rdbtn.click()"
   ]
  },
  {
   "cell_type": "code",
   "execution_count": 19,
   "id": "9dc9f244",
   "metadata": {},
   "outputs": [],
   "source": [
    "company_name = driver.find_elements_by_xpath(\"//p[@class='company body-medium']\")\n"
   ]
  },
  {
   "cell_type": "code",
   "execution_count": 20,
   "id": "d2c6e387",
   "metadata": {},
   "outputs": [
    {
     "data": {
      "text/plain": [
       "[<selenium.webdriver.remote.webelement.WebElement (session=\"020a86ef25bec0d3aff00cd7a520d546\", element=\"23c94cce-5f58-4e9a-8c77-507f98b83440\")>,\n",
       " <selenium.webdriver.remote.webelement.WebElement (session=\"020a86ef25bec0d3aff00cd7a520d546\", element=\"0dd9c55b-2660-4e65-a2d8-649f1229e4bf\")>,\n",
       " <selenium.webdriver.remote.webelement.WebElement (session=\"020a86ef25bec0d3aff00cd7a520d546\", element=\"886fed45-4bfd-4260-a824-a729a0df2533\")>,\n",
       " <selenium.webdriver.remote.webelement.WebElement (session=\"020a86ef25bec0d3aff00cd7a520d546\", element=\"238f9c51-3d6c-4d37-a713-1fd3b0583aac\")>,\n",
       " <selenium.webdriver.remote.webelement.WebElement (session=\"020a86ef25bec0d3aff00cd7a520d546\", element=\"aa51e47a-78d8-4ed1-8a16-6fbf16fefa6b\")>,\n",
       " <selenium.webdriver.remote.webelement.WebElement (session=\"020a86ef25bec0d3aff00cd7a520d546\", element=\"eef2af09-5f34-40aa-9932-73eb7c284bef\")>,\n",
       " <selenium.webdriver.remote.webelement.WebElement (session=\"020a86ef25bec0d3aff00cd7a520d546\", element=\"f8ce9691-b99a-4061-883f-0a48d7fb2a62\")>,\n",
       " <selenium.webdriver.remote.webelement.WebElement (session=\"020a86ef25bec0d3aff00cd7a520d546\", element=\"e46f3e0c-64f7-4d71-835f-b5bd331fd343\")>,\n",
       " <selenium.webdriver.remote.webelement.WebElement (session=\"020a86ef25bec0d3aff00cd7a520d546\", element=\"385a4340-c6fd-4a24-af7d-5b118d299d50\")>,\n",
       " <selenium.webdriver.remote.webelement.WebElement (session=\"020a86ef25bec0d3aff00cd7a520d546\", element=\"5c422526-b897-4e44-9741-675a44468e5b\")>]"
      ]
     },
     "execution_count": 20,
     "metadata": {},
     "output_type": "execute_result"
    }
   ],
   "source": [
    "company_name"
   ]
  },
  {
   "cell_type": "code",
   "execution_count": 22,
   "id": "ab4e4063",
   "metadata": {},
   "outputs": [
    {
     "data": {
      "text/plain": [
       "['Jubilant Foodworks Limited',\n",
       " 'HCL Technologies',\n",
       " 'EY GDS',\n",
       " 'Tavant Technologies India Pvt. Ltd.',\n",
       " 'Denave India Pvt Ltd.',\n",
       " 'EXL Service',\n",
       " 'CHT Sapiense',\n",
       " 'Pitney Bowes India Pvt ltd',\n",
       " 'Zyoin',\n",
       " 'Ameriprise Financial']"
      ]
     },
     "execution_count": 22,
     "metadata": {},
     "output_type": "execute_result"
    }
   ],
   "source": [
    "company = []\n",
    "for i in company_name:\n",
    "    company.append(i.text)\n",
    "company"
   ]
  },
  {
   "cell_type": "code",
   "execution_count": 46,
   "id": "88bd39f9",
   "metadata": {},
   "outputs": [
    {
     "data": {
      "text/plain": [
       "[]"
      ]
     },
     "execution_count": 46,
     "metadata": {},
     "output_type": "execute_result"
    }
   ],
   "source": [
    "days_ago = driver.find_elements_by_xpath('//span[contains(@class, \" ago\")]')\n",
    "days_ago"
   ]
  },
  {
   "cell_type": "code",
   "execution_count": 44,
   "id": "225e94f7",
   "metadata": {},
   "outputs": [
    {
     "data": {
      "text/plain": [
       "[]"
      ]
     },
     "execution_count": 44,
     "metadata": {},
     "output_type": "execute_result"
    }
   ],
   "source": [
    "days = []\n",
    "for i in days_ago:\n",
    "    days.append(i.text)\n",
    "days"
   ]
  },
  {
   "cell_type": "code",
   "execution_count": 45,
   "id": "e9dc8f75",
   "metadata": {},
   "outputs": [
    {
     "data": {
      "text/plain": [
       "0"
      ]
     },
     "execution_count": 45,
     "metadata": {},
     "output_type": "execute_result"
    }
   ],
   "source": [
    "len(days)"
   ]
  },
  {
   "cell_type": "code",
   "execution_count": 47,
   "id": "388d2f75",
   "metadata": {},
   "outputs": [
    {
     "data": {
      "text/plain": [
       "[<selenium.webdriver.remote.webelement.WebElement (session=\"020a86ef25bec0d3aff00cd7a520d546\", element=\"f9c87a5d-ec27-4995-9aef-64d73554868c\")>,\n",
       " <selenium.webdriver.remote.webelement.WebElement (session=\"020a86ef25bec0d3aff00cd7a520d546\", element=\"fb3f03e8-389a-420b-ad91-92bf1f99d22f\")>,\n",
       " <selenium.webdriver.remote.webelement.WebElement (session=\"020a86ef25bec0d3aff00cd7a520d546\", element=\"51491e22-ddd5-4878-b395-57a8036fe04f\")>,\n",
       " <selenium.webdriver.remote.webelement.WebElement (session=\"020a86ef25bec0d3aff00cd7a520d546\", element=\"fb824bf7-9a78-4ec9-9d28-966d10903f15\")>,\n",
       " <selenium.webdriver.remote.webelement.WebElement (session=\"020a86ef25bec0d3aff00cd7a520d546\", element=\"ec4fef98-da6a-4fc7-9c53-f511f6cd1ee8\")>,\n",
       " <selenium.webdriver.remote.webelement.WebElement (session=\"020a86ef25bec0d3aff00cd7a520d546\", element=\"9233c51a-767b-47ac-a31b-68cac478629f\")>,\n",
       " <selenium.webdriver.remote.webelement.WebElement (session=\"020a86ef25bec0d3aff00cd7a520d546\", element=\"e3fd19c8-4ff8-4a33-9b2f-7f3954bd7a29\")>,\n",
       " <selenium.webdriver.remote.webelement.WebElement (session=\"020a86ef25bec0d3aff00cd7a520d546\", element=\"943f1da1-2cbc-4655-9d09-9b30ebe48718\")>,\n",
       " <selenium.webdriver.remote.webelement.WebElement (session=\"020a86ef25bec0d3aff00cd7a520d546\", element=\"28f6f5e5-11a8-49ad-b330-de3d5d45f136\")>,\n",
       " <selenium.webdriver.remote.webelement.WebElement (session=\"020a86ef25bec0d3aff00cd7a520d546\", element=\"3e30fa1b-88c2-4f32-b7d7-590ba3f72d48\")>]"
      ]
     },
     "execution_count": 47,
     "metadata": {},
     "output_type": "execute_result"
    }
   ],
   "source": [
    "com_rating = driver.find_elements_by_xpath(\"//span[@class='body-small']\")\n",
    "com_rating"
   ]
  },
  {
   "cell_type": "code",
   "execution_count": 48,
   "id": "4f3eeb40",
   "metadata": {},
   "outputs": [
    {
     "data": {
      "text/plain": [
       "['3.9', '3.8', '3.7', '4.0', '4.0', '3.8', '3.8', '4.2', '4.1', '4.0']"
      ]
     },
     "execution_count": 48,
     "metadata": {},
     "output_type": "execute_result"
    }
   ],
   "source": [
    "rating = []\n",
    "for i in com_rating:\n",
    "    rating.append(i.text)\n",
    "rating"
   ]
  },
  {
   "cell_type": "code",
   "execution_count": 49,
   "id": "2723f5bc",
   "metadata": {},
   "outputs": [],
   "source": [
    "#couldn't create a dataframe for the data as I wasn't able to scrape the \"days ago\" data. The Contains and absolute x path doesn't work for me."
   ]
  },
  {
   "cell_type": "code",
   "execution_count": 50,
   "id": "8aae3cda",
   "metadata": {},
   "outputs": [],
   "source": [
    "#10 -Write a python program to scrape the salary data for Data Scientist designation from amobitionbox.com"
   ]
  },
  {
   "cell_type": "code",
   "execution_count": 72,
   "id": "09e7cdc0",
   "metadata": {},
   "outputs": [],
   "source": [
    "import selenium\n",
    "from selenium import webdriver\n",
    "import pandas as pd\n",
    "import warnings\n",
    "warnings.filterwarnings(\"ignore\")"
   ]
  },
  {
   "cell_type": "code",
   "execution_count": 108,
   "id": "4e672302",
   "metadata": {},
   "outputs": [],
   "source": [
    "driver = webdriver.Edge(executable_path = 'D:\\Brijesh\\Internship\\edgedriver_win64\\\\msedgedriver.exe')"
   ]
  },
  {
   "cell_type": "code",
   "execution_count": 109,
   "id": "2e8f1cdc",
   "metadata": {},
   "outputs": [],
   "source": [
    "url = 'https://www.ambitionbox.com/'\n",
    "driver.get(url)"
   ]
  },
  {
   "cell_type": "code",
   "execution_count": 110,
   "id": "5bd9b8f3",
   "metadata": {},
   "outputs": [],
   "source": [
    "salaries_btn = driver.find_element_by_xpath(\"//a[@class='link salaries']\")\n"
   ]
  },
  {
   "cell_type": "code",
   "execution_count": 111,
   "id": "af71e1e2",
   "metadata": {},
   "outputs": [],
   "source": [
    "salaries_btn.click()"
   ]
  },
  {
   "cell_type": "code",
   "execution_count": 112,
   "id": "bac179be",
   "metadata": {},
   "outputs": [],
   "source": [
    "sal_box= driver.find_element_by_xpath('//input[@class=\"tt-input\"]')\n",
    "sal_box.send_keys(\"Data Scientist\")"
   ]
  },
  {
   "cell_type": "code",
   "execution_count": null,
   "id": "ad4c703a",
   "metadata": {},
   "outputs": [],
   "source": [
    "ds_sugg = driver.find_element_by_xpath(\"//p[@class='tt_text']\")\n",
    "ds_sugg.click()\n",
    "\n",
    "#sorry, couldn't click on the suggested result."
   ]
  },
  {
   "cell_type": "code",
   "execution_count": null,
   "id": "3d4eabad",
   "metadata": {},
   "outputs": [],
   "source": []
  },
  {
   "cell_type": "code",
   "execution_count": null,
   "id": "1811730b",
   "metadata": {},
   "outputs": [],
   "source": []
  },
  {
   "cell_type": "code",
   "execution_count": null,
   "id": "495d7b03",
   "metadata": {},
   "outputs": [],
   "source": []
  }
 ],
 "metadata": {
  "kernelspec": {
   "display_name": "Python 3",
   "language": "python",
   "name": "python3"
  },
  "language_info": {
   "codemirror_mode": {
    "name": "ipython",
    "version": 3
   },
   "file_extension": ".py",
   "mimetype": "text/x-python",
   "name": "python",
   "nbconvert_exporter": "python",
   "pygments_lexer": "ipython3",
   "version": "3.8.8"
  }
 },
 "nbformat": 4,
 "nbformat_minor": 5
}
